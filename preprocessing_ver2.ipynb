{
 "cells": [
  {
   "cell_type": "markdown",
   "metadata": {},
   "source": [
    "# 데이터 전처리"
   ]
  },
  {
   "cell_type": "code",
   "execution_count": 1,
   "metadata": {},
   "outputs": [],
   "source": [
    "df = pd.read_csv(\"noshow.csv\")"
   ]
  },
  {
   "cell_type": "code",
   "execution_count": 2,
   "metadata": {},
   "outputs": [],
   "source": [
    "# df.rename(columns = {\"No-show\": \"No_show\"}, inplace=True)"
   ]
  },
  {
   "cell_type": "markdown",
   "metadata": {},
   "source": [
    "### Age 범주형 변수로 바꾸기"
   ]
  },
  {
   "cell_type": "code",
   "execution_count": 3,
   "metadata": {},
   "outputs": [],
   "source": [
    "df[\"Age_bin\"] = \"0\"\n",
    "df[\"Age_bin\"][df.Age < 10] = \"0s\"\n",
    "df[\"Age_bin\"][(df.Age >= 10) & (df.Age < 20)] = \"10s\"\n",
    "df[\"Age_bin\"][(df.Age >= 20) & (df.Age < 30)] = \"20s\"\n",
    "df[\"Age_bin\"][(df.Age >= 30) & (df.Age < 40)] = \"30s\"\n",
    "df[\"Age_bin\"][(df.Age >= 40) & (df.Age < 50)] = \"40s\"\n",
    "df[\"Age_bin\"][(df.Age >= 50) & (df.Age < 60)] = \"50s\"\n",
    "df[\"Age_bin\"][(df.Age >= 60) & (df.Age < 70)] = \"60s\"\n",
    "df[\"Age_bin\"][(df.Age >= 70) & (df.Age < 80)] = \"70s\"\n",
    "df[\"Age_bin\"][(df.Age >= 80) & (df.Age < 90)] = \"80s\"\n",
    "df[\"Age_bin\"][df.Age >= 90] = \"90s\""
   ]
  },
  {
   "cell_type": "markdown",
   "metadata": {},
   "source": [
    "### 날짜형식 범주형 변수로 바꿔주기"
   ]
  },
  {
   "cell_type": "code",
   "execution_count": 4,
   "metadata": {},
   "outputs": [],
   "source": [
    "df[\"Scheduled_date\"] = df[\"ScheduledDay\"].apply(lambda x: x[:10])\n",
    "df['Scheduled_date'] = pd.to_datetime(df['Scheduled_date'])\n",
    "df['Scheduled_time'] = df['ScheduledDay'].apply(lambda x: x[11:-1])\n",
    "df['Scheduled_time'] = pd.to_timedelta(df['Scheduled_time'])\n",
    "df['Appointment_date'] = df['AppointmentDay'].apply(lambda x: x[:10])\n",
    "df['Appointment_date'] = pd.to_datetime(df['Appointment_date'])\n",
    "df['Appointment_time'] = df['AppointmentDay'].apply(lambda x: x[11:-1])\n",
    "df['Appointment_time'] = pd.to_timedelta(df['Appointment_time'])\n",
    "df[\"Appointment_Weekday\"] = pd.to_datetime(df.AppointmentDay.apply(lambda x : x[:10])).apply(lambda x: x.weekday())\n",
    "df[\"Appointment_month\"] = pd.to_datetime(df.AppointmentDay.apply(lambda x : x[:10])).apply(lambda x: x.month)\n",
    "df[\"Scheduled_month\"] = pd.to_datetime(df.ScheduledDay.apply(lambda x : x[:10])).apply(lambda x: x.month)\n",
    "df = df.drop(columns = \"Appointment_time\")"
   ]
  },
  {
   "cell_type": "code",
   "execution_count": 5,
   "metadata": {},
   "outputs": [],
   "source": [
    "df[\"differ_day\"] = df.Appointment_date - df.Scheduled_date"
   ]
  },
  {
   "cell_type": "code",
   "execution_count": 6,
   "metadata": {},
   "outputs": [],
   "source": [
    "df.differ_day = df.differ_day.apply(lambda x: int(str(x).split(\"days\")[0]))"
   ]
  },
  {
   "cell_type": "markdown",
   "metadata": {},
   "source": [
    "### Age가 음수이거나 date_diff가 음수인 데이터 빼주기"
   ]
  },
  {
   "cell_type": "code",
   "execution_count": 7,
   "metadata": {},
   "outputs": [],
   "source": [
    "df = df[df.Age >= 0]"
   ]
  },
  {
   "cell_type": "code",
   "execution_count": 8,
   "metadata": {},
   "outputs": [],
   "source": [
    "df = df[df.differ_day >= 0]"
   ]
  },
  {
   "cell_type": "markdown",
   "metadata": {},
   "source": [
    "### dfx와 dfy로 나눠주기"
   ]
  },
  {
   "cell_type": "code",
   "execution_count": 9,
   "metadata": {},
   "outputs": [],
   "source": [
    "dfx = df.drop(columns=[\"PatientId\", \"AppointmentID\", \"ScheduledDay\", \"AppointmentDay\", \"Age\", \"No-show\", \"Scheduled_date\", \"Scheduled_time\", \"Appointment_date\"], axis=1)\n",
    "dfy = df[\"No-show\"]"
   ]
  },
  {
   "cell_type": "code",
   "execution_count": 10,
   "metadata": {},
   "outputs": [
    {
     "name": "stderr",
     "output_type": "stream",
     "text": [
      "/usr/local/lib/python3.7/site-packages/ipykernel_launcher.py:2: UserWarning: Pandas doesn't allow columns to be created via a new attribute name - see https://pandas.pydata.org/pandas-docs/stable/indexing.html#attribute-access\n",
      "  \n"
     ]
    }
   ],
   "source": [
    "dfx.Handcap = pd.Categorical(dfx.Handcap)\n",
    "dfx.AppointmentWeekday = pd.Categorical(dfx.Appointment_Weekday)\n",
    "dfx.Scheduled_month = pd.Categorical(dfx.Scheduled_month)\n",
    "dfx.Appointment_month = pd.Categorical(dfx.Appointment_month)"
   ]
  },
  {
   "cell_type": "code",
   "execution_count": 11,
   "metadata": {},
   "outputs": [
    {
     "data": {
      "text/html": [
       "<div>\n",
       "<style scoped>\n",
       "    .dataframe tbody tr th:only-of-type {\n",
       "        vertical-align: middle;\n",
       "    }\n",
       "\n",
       "    .dataframe tbody tr th {\n",
       "        vertical-align: top;\n",
       "    }\n",
       "\n",
       "    .dataframe thead th {\n",
       "        text-align: right;\n",
       "    }\n",
       "</style>\n",
       "<table border=\"1\" class=\"dataframe\">\n",
       "  <thead>\n",
       "    <tr style=\"text-align: right;\">\n",
       "      <th></th>\n",
       "      <th>Gender</th>\n",
       "      <th>Neighbourhood</th>\n",
       "      <th>Scholarship</th>\n",
       "      <th>Hipertension</th>\n",
       "      <th>Diabetes</th>\n",
       "      <th>Alcoholism</th>\n",
       "      <th>Handcap</th>\n",
       "      <th>SMS_received</th>\n",
       "      <th>Age_bin</th>\n",
       "      <th>Appointment_Weekday</th>\n",
       "      <th>Appointment_month</th>\n",
       "      <th>Scheduled_month</th>\n",
       "      <th>differ_day</th>\n",
       "    </tr>\n",
       "  </thead>\n",
       "  <tbody>\n",
       "    <tr>\n",
       "      <th>110522</th>\n",
       "      <td>F</td>\n",
       "      <td>MARIA ORTIZ</td>\n",
       "      <td>0</td>\n",
       "      <td>0</td>\n",
       "      <td>0</td>\n",
       "      <td>0</td>\n",
       "      <td>0</td>\n",
       "      <td>1</td>\n",
       "      <td>50s</td>\n",
       "      <td>1</td>\n",
       "      <td>6</td>\n",
       "      <td>5</td>\n",
       "      <td>35</td>\n",
       "    </tr>\n",
       "    <tr>\n",
       "      <th>110523</th>\n",
       "      <td>F</td>\n",
       "      <td>MARIA ORTIZ</td>\n",
       "      <td>0</td>\n",
       "      <td>0</td>\n",
       "      <td>0</td>\n",
       "      <td>0</td>\n",
       "      <td>0</td>\n",
       "      <td>1</td>\n",
       "      <td>50s</td>\n",
       "      <td>1</td>\n",
       "      <td>6</td>\n",
       "      <td>5</td>\n",
       "      <td>35</td>\n",
       "    </tr>\n",
       "    <tr>\n",
       "      <th>110524</th>\n",
       "      <td>F</td>\n",
       "      <td>MARIA ORTIZ</td>\n",
       "      <td>0</td>\n",
       "      <td>0</td>\n",
       "      <td>0</td>\n",
       "      <td>0</td>\n",
       "      <td>0</td>\n",
       "      <td>1</td>\n",
       "      <td>20s</td>\n",
       "      <td>1</td>\n",
       "      <td>6</td>\n",
       "      <td>4</td>\n",
       "      <td>41</td>\n",
       "    </tr>\n",
       "    <tr>\n",
       "      <th>110525</th>\n",
       "      <td>F</td>\n",
       "      <td>MARIA ORTIZ</td>\n",
       "      <td>0</td>\n",
       "      <td>0</td>\n",
       "      <td>0</td>\n",
       "      <td>0</td>\n",
       "      <td>0</td>\n",
       "      <td>1</td>\n",
       "      <td>30s</td>\n",
       "      <td>1</td>\n",
       "      <td>6</td>\n",
       "      <td>4</td>\n",
       "      <td>41</td>\n",
       "    </tr>\n",
       "    <tr>\n",
       "      <th>110526</th>\n",
       "      <td>F</td>\n",
       "      <td>MARIA ORTIZ</td>\n",
       "      <td>0</td>\n",
       "      <td>0</td>\n",
       "      <td>0</td>\n",
       "      <td>0</td>\n",
       "      <td>0</td>\n",
       "      <td>1</td>\n",
       "      <td>50s</td>\n",
       "      <td>1</td>\n",
       "      <td>6</td>\n",
       "      <td>4</td>\n",
       "      <td>41</td>\n",
       "    </tr>\n",
       "  </tbody>\n",
       "</table>\n",
       "</div>"
      ],
      "text/plain": [
       "       Gender Neighbourhood  Scholarship  Hipertension  Diabetes  Alcoholism  \\\n",
       "110522      F   MARIA ORTIZ            0             0         0           0   \n",
       "110523      F   MARIA ORTIZ            0             0         0           0   \n",
       "110524      F   MARIA ORTIZ            0             0         0           0   \n",
       "110525      F   MARIA ORTIZ            0             0         0           0   \n",
       "110526      F   MARIA ORTIZ            0             0         0           0   \n",
       "\n",
       "       Handcap  SMS_received Age_bin  Appointment_Weekday Appointment_month  \\\n",
       "110522       0             1     50s                    1                 6   \n",
       "110523       0             1     50s                    1                 6   \n",
       "110524       0             1     20s                    1                 6   \n",
       "110525       0             1     30s                    1                 6   \n",
       "110526       0             1     50s                    1                 6   \n",
       "\n",
       "       Scheduled_month  differ_day  \n",
       "110522               5          35  \n",
       "110523               5          35  \n",
       "110524               4          41  \n",
       "110525               4          41  \n",
       "110526               4          41  "
      ]
     },
     "execution_count": 11,
     "metadata": {},
     "output_type": "execute_result"
    }
   ],
   "source": [
    "dfx.tail()"
   ]
  },
  {
   "cell_type": "markdown",
   "metadata": {},
   "source": [
    "### one hot encoding 적용"
   ]
  },
  {
   "cell_type": "code",
   "execution_count": 12,
   "metadata": {},
   "outputs": [],
   "source": [
    "dfx = pd.get_dummies(dfx, drop_first=True)"
   ]
  },
  {
   "cell_type": "code",
   "execution_count": 13,
   "metadata": {},
   "outputs": [
    {
     "data": {
      "text/html": [
       "<div>\n",
       "<style scoped>\n",
       "    .dataframe tbody tr th:only-of-type {\n",
       "        vertical-align: middle;\n",
       "    }\n",
       "\n",
       "    .dataframe tbody tr th {\n",
       "        vertical-align: top;\n",
       "    }\n",
       "\n",
       "    .dataframe thead th {\n",
       "        text-align: right;\n",
       "    }\n",
       "</style>\n",
       "<table border=\"1\" class=\"dataframe\">\n",
       "  <thead>\n",
       "    <tr style=\"text-align: right;\">\n",
       "      <th></th>\n",
       "      <th>Scholarship</th>\n",
       "      <th>Hipertension</th>\n",
       "      <th>Diabetes</th>\n",
       "      <th>Alcoholism</th>\n",
       "      <th>SMS_received</th>\n",
       "      <th>Appointment_Weekday</th>\n",
       "      <th>differ_day</th>\n",
       "      <th>Gender_M</th>\n",
       "      <th>Neighbourhood_ANDORINHAS</th>\n",
       "      <th>Neighbourhood_ANTÔNIO HONÓRIO</th>\n",
       "      <th>...</th>\n",
       "      <th>Age_bin_90s</th>\n",
       "      <th>Appointment_month_5</th>\n",
       "      <th>Appointment_month_6</th>\n",
       "      <th>Scheduled_month_2</th>\n",
       "      <th>Scheduled_month_3</th>\n",
       "      <th>Scheduled_month_4</th>\n",
       "      <th>Scheduled_month_5</th>\n",
       "      <th>Scheduled_month_6</th>\n",
       "      <th>Scheduled_month_11</th>\n",
       "      <th>Scheduled_month_12</th>\n",
       "    </tr>\n",
       "  </thead>\n",
       "  <tbody>\n",
       "    <tr>\n",
       "      <th>110522</th>\n",
       "      <td>0</td>\n",
       "      <td>0</td>\n",
       "      <td>0</td>\n",
       "      <td>0</td>\n",
       "      <td>1</td>\n",
       "      <td>1</td>\n",
       "      <td>35</td>\n",
       "      <td>0</td>\n",
       "      <td>0</td>\n",
       "      <td>0</td>\n",
       "      <td>...</td>\n",
       "      <td>0</td>\n",
       "      <td>0</td>\n",
       "      <td>1</td>\n",
       "      <td>0</td>\n",
       "      <td>0</td>\n",
       "      <td>0</td>\n",
       "      <td>1</td>\n",
       "      <td>0</td>\n",
       "      <td>0</td>\n",
       "      <td>0</td>\n",
       "    </tr>\n",
       "    <tr>\n",
       "      <th>110523</th>\n",
       "      <td>0</td>\n",
       "      <td>0</td>\n",
       "      <td>0</td>\n",
       "      <td>0</td>\n",
       "      <td>1</td>\n",
       "      <td>1</td>\n",
       "      <td>35</td>\n",
       "      <td>0</td>\n",
       "      <td>0</td>\n",
       "      <td>0</td>\n",
       "      <td>...</td>\n",
       "      <td>0</td>\n",
       "      <td>0</td>\n",
       "      <td>1</td>\n",
       "      <td>0</td>\n",
       "      <td>0</td>\n",
       "      <td>0</td>\n",
       "      <td>1</td>\n",
       "      <td>0</td>\n",
       "      <td>0</td>\n",
       "      <td>0</td>\n",
       "    </tr>\n",
       "    <tr>\n",
       "      <th>110524</th>\n",
       "      <td>0</td>\n",
       "      <td>0</td>\n",
       "      <td>0</td>\n",
       "      <td>0</td>\n",
       "      <td>1</td>\n",
       "      <td>1</td>\n",
       "      <td>41</td>\n",
       "      <td>0</td>\n",
       "      <td>0</td>\n",
       "      <td>0</td>\n",
       "      <td>...</td>\n",
       "      <td>0</td>\n",
       "      <td>0</td>\n",
       "      <td>1</td>\n",
       "      <td>0</td>\n",
       "      <td>0</td>\n",
       "      <td>1</td>\n",
       "      <td>0</td>\n",
       "      <td>0</td>\n",
       "      <td>0</td>\n",
       "      <td>0</td>\n",
       "    </tr>\n",
       "    <tr>\n",
       "      <th>110525</th>\n",
       "      <td>0</td>\n",
       "      <td>0</td>\n",
       "      <td>0</td>\n",
       "      <td>0</td>\n",
       "      <td>1</td>\n",
       "      <td>1</td>\n",
       "      <td>41</td>\n",
       "      <td>0</td>\n",
       "      <td>0</td>\n",
       "      <td>0</td>\n",
       "      <td>...</td>\n",
       "      <td>0</td>\n",
       "      <td>0</td>\n",
       "      <td>1</td>\n",
       "      <td>0</td>\n",
       "      <td>0</td>\n",
       "      <td>1</td>\n",
       "      <td>0</td>\n",
       "      <td>0</td>\n",
       "      <td>0</td>\n",
       "      <td>0</td>\n",
       "    </tr>\n",
       "    <tr>\n",
       "      <th>110526</th>\n",
       "      <td>0</td>\n",
       "      <td>0</td>\n",
       "      <td>0</td>\n",
       "      <td>0</td>\n",
       "      <td>1</td>\n",
       "      <td>1</td>\n",
       "      <td>41</td>\n",
       "      <td>0</td>\n",
       "      <td>0</td>\n",
       "      <td>0</td>\n",
       "      <td>...</td>\n",
       "      <td>0</td>\n",
       "      <td>0</td>\n",
       "      <td>1</td>\n",
       "      <td>0</td>\n",
       "      <td>0</td>\n",
       "      <td>1</td>\n",
       "      <td>0</td>\n",
       "      <td>0</td>\n",
       "      <td>0</td>\n",
       "      <td>0</td>\n",
       "    </tr>\n",
       "  </tbody>\n",
       "</table>\n",
       "<p>5 rows × 110 columns</p>\n",
       "</div>"
      ],
      "text/plain": [
       "        Scholarship  Hipertension  Diabetes  Alcoholism  SMS_received  \\\n",
       "110522            0             0         0           0             1   \n",
       "110523            0             0         0           0             1   \n",
       "110524            0             0         0           0             1   \n",
       "110525            0             0         0           0             1   \n",
       "110526            0             0         0           0             1   \n",
       "\n",
       "        Appointment_Weekday  differ_day  Gender_M  Neighbourhood_ANDORINHAS  \\\n",
       "110522                    1          35         0                         0   \n",
       "110523                    1          35         0                         0   \n",
       "110524                    1          41         0                         0   \n",
       "110525                    1          41         0                         0   \n",
       "110526                    1          41         0                         0   \n",
       "\n",
       "        Neighbourhood_ANTÔNIO HONÓRIO         ...          Age_bin_90s  \\\n",
       "110522                              0         ...                    0   \n",
       "110523                              0         ...                    0   \n",
       "110524                              0         ...                    0   \n",
       "110525                              0         ...                    0   \n",
       "110526                              0         ...                    0   \n",
       "\n",
       "        Appointment_month_5  Appointment_month_6  Scheduled_month_2  \\\n",
       "110522                    0                    1                  0   \n",
       "110523                    0                    1                  0   \n",
       "110524                    0                    1                  0   \n",
       "110525                    0                    1                  0   \n",
       "110526                    0                    1                  0   \n",
       "\n",
       "        Scheduled_month_3  Scheduled_month_4  Scheduled_month_5  \\\n",
       "110522                  0                  0                  1   \n",
       "110523                  0                  0                  1   \n",
       "110524                  0                  1                  0   \n",
       "110525                  0                  1                  0   \n",
       "110526                  0                  1                  0   \n",
       "\n",
       "        Scheduled_month_6  Scheduled_month_11  Scheduled_month_12  \n",
       "110522                  0                   0                   0  \n",
       "110523                  0                   0                   0  \n",
       "110524                  0                   0                   0  \n",
       "110525                  0                   0                   0  \n",
       "110526                  0                   0                   0  \n",
       "\n",
       "[5 rows x 110 columns]"
      ]
     },
     "execution_count": 13,
     "metadata": {},
     "output_type": "execute_result"
    }
   ],
   "source": [
    "dfx.tail()"
   ]
  },
  {
   "cell_type": "markdown",
   "metadata": {},
   "source": [
    "### train과 test 데이터로 나누기"
   ]
  },
  {
   "cell_type": "code",
   "execution_count": 14,
   "metadata": {},
   "outputs": [
    {
     "data": {
      "text/plain": [
       "((77364, 110), (33157, 110), (77364,), (33157,))"
      ]
     },
     "execution_count": 14,
     "metadata": {},
     "output_type": "execute_result"
    }
   ],
   "source": [
    "from sklearn.model_selection import train_test_split\n",
    "X_train, X_test, y_train, y_test = train_test_split(dfx, dfy, test_size=0.3, random_state=0)\n",
    "X_train.shape, X_test.shape, y_train.shape, y_test.shape"
   ]
  },
  {
   "cell_type": "code",
   "execution_count": null,
   "metadata": {},
   "outputs": [],
   "source": []
  }
 ],
 "metadata": {
  "kernelspec": {
   "display_name": "Python 3",
   "language": "python",
   "name": "python3"
  },
  "language_info": {
   "codemirror_mode": {
    "name": "ipython",
    "version": 3
   },
   "file_extension": ".py",
   "mimetype": "text/x-python",
   "name": "python",
   "nbconvert_exporter": "python",
   "pygments_lexer": "ipython3",
   "version": "3.7.1"
  }
 },
 "nbformat": 4,
 "nbformat_minor": 2
}
