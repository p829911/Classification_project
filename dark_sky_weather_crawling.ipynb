{
 "cells": [
  {
   "cell_type": "markdown",
   "metadata": {},
   "source": [
    "# 브라질 날씨 크롤링"
   ]
  },
  {
   "cell_type": "code",
   "execution_count": 1,
   "metadata": {},
   "outputs": [],
   "source": [
    "noshow = pd.read_csv(\"noshow.csv\")"
   ]
  },
  {
   "cell_type": "code",
   "execution_count": 43,
   "metadata": {},
   "outputs": [],
   "source": [
    "regions = noshow.Neighbourhood.unique()"
   ]
  },
  {
   "cell_type": "markdown",
   "metadata": {},
   "source": [
    "### 구글 맵에서 위도 경도 얻기"
   ]
  },
  {
   "cell_type": "code",
   "execution_count": 45,
   "metadata": {},
   "outputs": [],
   "source": [
    "from selenium import webdriver\n",
    "import time"
   ]
  },
  {
   "cell_type": "code",
   "execution_count": 47,
   "metadata": {},
   "outputs": [],
   "source": [
    "# 브라우져 열기\n",
    "driver = webdriver.Chrome()"
   ]
  },
  {
   "cell_type": "code",
   "execution_count": 48,
   "metadata": {},
   "outputs": [],
   "source": [
    "driver.get(\"https://www.google.co.kr/maps/@45.2000678,17.2800773,5z?hl=ko\")"
   ]
  },
  {
   "cell_type": "code",
   "execution_count": 49,
   "metadata": {},
   "outputs": [],
   "source": [
    "df = pd.DataFrame(columns=[\"region\", \"latitude\", \"longitude\"])"
   ]
  },
  {
   "cell_type": "code",
   "execution_count": 50,
   "metadata": {},
   "outputs": [],
   "source": [
    "for region in regions:\n",
    "    driver.find_element_by_css_selector(\"#searchboxinput\").clear()\n",
    "    driver.find_element_by_css_selector(\"#searchboxinput\").send_keys(\"brazil \" + region)\n",
    "    driver.find_element_by_css_selector(\"#searchbox-searchbutton\").click()\n",
    "    text = driver.current_url\n",
    "    latitude = text.split(\"@\")[1].split(\",\")[0]\n",
    "    longitude = text.split(\"@\")[1].split(\",\")[1]\n",
    "    df = df.append({\"region\": region, \"latitude\": latitude, \"longitude\": longitude}, ignore_index=True)\n",
    "    time.sleep(3)"
   ]
  },
  {
   "cell_type": "markdown",
   "metadata": {},
   "source": [
    "### 잘못 나온 위도 경도 처리"
   ]
  },
  {
   "cell_type": "code",
   "execution_count": 52,
   "metadata": {},
   "outputs": [],
   "source": [
    "df.iloc[0] = {\"region\": \"JARDIM DA PENHA\" ,\"latitude\": \"-20.281343\", \"longitude\": \"-40.295274\"}"
   ]
  },
  {
   "cell_type": "code",
   "execution_count": 53,
   "metadata": {},
   "outputs": [],
   "source": [
    "df.iloc[4] = {\"region\": regions[4] ,\"latitude\": \"-20.2733974\", \"longitude\": \"-40.3406367\"}"
   ]
  },
  {
   "cell_type": "code",
   "execution_count": 54,
   "metadata": {},
   "outputs": [],
   "source": [
    "df.iloc[5] = {\"region\": regions[5] ,\"latitude\": \"-20.2881161\", \"longitude\": \"-40.3098094\"}"
   ]
  },
  {
   "cell_type": "code",
   "execution_count": 55,
   "metadata": {},
   "outputs": [],
   "source": [
    "df.iloc[7] = {\"region\": regions[7] ,\"latitude\": \"-20.273739\", \"longitude\": \"-40.3448754\"}"
   ]
  },
  {
   "cell_type": "code",
   "execution_count": 61,
   "metadata": {},
   "outputs": [],
   "source": [
    "df.iloc[9] = {\"region\": regions[9] ,\"latitude\": \"-20.2952282\", \"longitude\": \"-40.3402544\"}"
   ]
  },
  {
   "cell_type": "code",
   "execution_count": 65,
   "metadata": {},
   "outputs": [],
   "source": [
    "df.iloc[12] = {\"region\": regions[12] ,\"latitude\": \"-20.2861586\", \"longitude\": \"-40.314804\"}"
   ]
  },
  {
   "cell_type": "code",
   "execution_count": 59,
   "metadata": {},
   "outputs": [],
   "source": [
    "df.iloc[14] = {\"region\": regions[14] ,\"latitude\": \"-20.2995231\", \"longitude\": \"-40.328521\"}"
   ]
  },
  {
   "cell_type": "code",
   "execution_count": 67,
   "metadata": {},
   "outputs": [],
   "source": [
    "df.iloc[17] = {\"region\": regions[17] ,\"latitude\": \"-20.2781114\", \"longitude\": \"-40.3373549\"}"
   ]
  },
  {
   "cell_type": "code",
   "execution_count": 69,
   "metadata": {},
   "outputs": [],
   "source": [
    "df.iloc[19] = {\"region\": regions[19] ,\"latitude\": \"-20.2611973\", \"longitude\": \"-40.2961718\"}"
   ]
  },
  {
   "cell_type": "code",
   "execution_count": 56,
   "metadata": {},
   "outputs": [],
   "source": [
    "df.iloc[21] = {\"region\": regions[21] ,\"latitude\": \"-20.2537888\", \"longitude\": \"-40.2841913\"}"
   ]
  },
  {
   "cell_type": "code",
   "execution_count": 71,
   "metadata": {},
   "outputs": [],
   "source": [
    "df.iloc[29] = {\"region\": regions[29] ,\"latitude\": \"-20.3165144\", \"longitude\": \"-40.3593872\"}"
   ]
  },
  {
   "cell_type": "code",
   "execution_count": 57,
   "metadata": {},
   "outputs": [],
   "source": [
    "df.iloc[52] = {\"region\": regions[52] ,\"latitude\": \"-20.2713921\" , \"longitude\": \"-40.3007604\"}"
   ]
  },
  {
   "cell_type": "code",
   "execution_count": 73,
   "metadata": {},
   "outputs": [],
   "source": [
    "df.iloc[54] = {\"region\": regions[54] ,\"latitude\": \"-20.3023546\" , \"longitude\": \"-40.3089574\"}"
   ]
  },
  {
   "cell_type": "code",
   "execution_count": 75,
   "metadata": {},
   "outputs": [],
   "source": [
    "df.iloc[55] = {\"region\": regions[55] ,\"latitude\": \"-20.2961539\" , \"longitude\": \"-40.3025394\"}"
   ]
  },
  {
   "cell_type": "code",
   "execution_count": 77,
   "metadata": {},
   "outputs": [],
   "source": [
    "df.iloc[56] = {\"region\": regions[56] ,\"latitude\": \"-20.2933905\" , \"longitude\": \"-40.3492198\"}"
   ]
  },
  {
   "cell_type": "code",
   "execution_count": 79,
   "metadata": {},
   "outputs": [],
   "source": [
    "df.iloc[59] = {\"region\": regions[59] ,\"latitude\": \"-20.3147219\" , \"longitude\": \"-40.3002393\"}"
   ]
  },
  {
   "cell_type": "code",
   "execution_count": 81,
   "metadata": {},
   "outputs": [],
   "source": [
    "df.iloc[61] = {\"region\": regions[61] ,\"latitude\": \"-22.892841\" , \"longitude\": \"-43.331355\"}"
   ]
  },
  {
   "cell_type": "code",
   "execution_count": 83,
   "metadata": {},
   "outputs": [],
   "source": [
    "df.iloc[62] = {\"region\": regions[62] ,\"latitude\": \"-20.3196743\" , \"longitude\": \"-40.3065535\"}"
   ]
  },
  {
   "cell_type": "code",
   "execution_count": 85,
   "metadata": {},
   "outputs": [],
   "source": [
    "df.iloc[64] = {\"region\": regions[64] ,\"latitude\": \"-20.3096872\" , \"longitude\": \"-40.3247038\"}"
   ]
  },
  {
   "cell_type": "code",
   "execution_count": 87,
   "metadata": {},
   "outputs": [],
   "source": [
    "df.iloc[65] = {\"region\": regions[65] ,\"latitude\": \"-20.3218847\" , \"longitude\": \"-40.3526047\"}"
   ]
  },
  {
   "cell_type": "code",
   "execution_count": 89,
   "metadata": {},
   "outputs": [],
   "source": [
    "df.iloc[69] = {\"region\": regions[69] ,\"latitude\": \"-20.3195755\" , \"longitude\": \"-40.3497574\"}"
   ]
  },
  {
   "cell_type": "code",
   "execution_count": 91,
   "metadata": {},
   "outputs": [],
   "source": [
    "df.iloc[71] = {\"region\": regions[71] ,\"latitude\": \"-20.3165487\" , \"longitude\": \"-40.3507821\"}"
   ]
  },
  {
   "cell_type": "code",
   "execution_count": 93,
   "metadata": {},
   "outputs": [],
   "source": [
    "df.iloc[74] = {\"region\": regions[74] ,\"latitude\": \"-20.2627894\" , \"longitude\": \"-40.2983295\"}"
   ]
  },
  {
   "cell_type": "code",
   "execution_count": 95,
   "metadata": {},
   "outputs": [],
   "source": [
    "df.iloc[76] = {\"region\": regions[76] ,\"latitude\": \"-20.3056342\" , \"longitude\": \"-40.3322169\"}"
   ]
  },
  {
   "cell_type": "code",
   "execution_count": 97,
   "metadata": {},
   "outputs": [],
   "source": [
    "df.iloc[78] = {\"region\": regions[78] ,\"latitude\": \"-20.293387\" , \"longitude\": \"-40.3820506\"}"
   ]
  },
  {
   "cell_type": "code",
   "execution_count": 99,
   "metadata": {},
   "outputs": [],
   "source": [
    "df.iloc[79] = {\"region\": regions[79] ,\"latitude\": \"-27.3515394\" , \"longitude\": \"-24.9854104\"}"
   ]
  },
  {
   "cell_type": "code",
   "execution_count": 101,
   "metadata": {},
   "outputs": [],
   "source": [
    "df.iloc[80] = {\"region\": regions[80] ,\"latitude\": \"-23.4214\" , \"longitude\": \"-51.9761443\"}"
   ]
  },
  {
   "cell_type": "code",
   "execution_count": 104,
   "metadata": {},
   "outputs": [],
   "source": [
    "df.iloc[32] = {\"region\": regions[32] ,\"latitude\": \"-20.3133965\" , \"longitude\": \"-40.3007727\"}"
   ]
  },
  {
   "cell_type": "code",
   "execution_count": 106,
   "metadata": {},
   "outputs": [],
   "source": [
    "df.iloc[34] = {\"region\": regions[34] ,\"latitude\": \"-24.1128028\" , \"longitude\": \"-49.3448042\"}"
   ]
  },
  {
   "cell_type": "code",
   "execution_count": 108,
   "metadata": {},
   "outputs": [],
   "source": [
    "df.iloc[35] = {\"region\": regions[35] ,\"latitude\": \"-20.2998928\" , \"longitude\": \"-40.351078\"}"
   ]
  },
  {
   "cell_type": "code",
   "execution_count": 110,
   "metadata": {},
   "outputs": [],
   "source": [
    "df.iloc[37] = {\"region\": regions[37] ,\"latitude\": \"-23.9391134\" , \"longitude\": \"-46.7707211\"}"
   ]
  },
  {
   "cell_type": "code",
   "execution_count": 112,
   "metadata": {},
   "outputs": [],
   "source": [
    "df.iloc[38] = {\"region\": regions[38] ,\"latitude\": \"-8.0559844\" , \"longitude\": \"-50.4998533\"}"
   ]
  },
  {
   "cell_type": "code",
   "execution_count": 114,
   "metadata": {},
   "outputs": [],
   "source": [
    "df.iloc[39] = {\"region\": regions[39] ,\"latitude\": \"-29.4534965\" , \"longitude\": \"-52.2048193\"}"
   ]
  },
  {
   "cell_type": "code",
   "execution_count": 116,
   "metadata": {},
   "outputs": [],
   "source": [
    "df.iloc[40] = {\"region\": regions[40] ,\"latitude\": \"-29.4815744\" , \"longitude\": \"-51.9830436\"}"
   ]
  },
  {
   "cell_type": "code",
   "execution_count": 118,
   "metadata": {},
   "outputs": [],
   "source": [
    "df.iloc[41] = {\"region\": regions[41] ,\"latitude\": \"-20.3193827\" , \"longitude\": \"-40.3442907\"}"
   ]
  },
  {
   "cell_type": "code",
   "execution_count": 120,
   "metadata": {},
   "outputs": [],
   "source": [
    "df.iloc[44] = {\"region\": regions[44] ,\"latitude\": \"-20.3147239\" , \"longitude\": \"-40.3558557\"}"
   ]
  },
  {
   "cell_type": "code",
   "execution_count": 122,
   "metadata": {},
   "outputs": [],
   "source": [
    "df.iloc[47] = {\"region\": regions[47] ,\"latitude\": \"-20.305824\" , \"longitude\": \"-40.3106029\"}"
   ]
  },
  {
   "cell_type": "markdown",
   "metadata": {},
   "source": [
    "### csv파일로 저장"
   ]
  },
  {
   "cell_type": "code",
   "execution_count": 124,
   "metadata": {},
   "outputs": [],
   "source": [
    "df.to_csv(\"region_location.csv\")"
   ]
  },
  {
   "cell_type": "code",
   "execution_count": 126,
   "metadata": {},
   "outputs": [],
   "source": [
    "import folium"
   ]
  },
  {
   "cell_type": "markdown",
   "metadata": {},
   "source": [
    "### 위도 경도 시각화"
   ]
  },
  {
   "cell_type": "code",
   "execution_count": 430,
   "metadata": {},
   "outputs": [],
   "source": [
    "map_osm = folium.Map(location=[-20.2832243, -40.3260221], zoom_start=4.4)"
   ]
  },
  {
   "cell_type": "code",
   "execution_count": 431,
   "metadata": {},
   "outputs": [],
   "source": [
    "for i in range(len(df)):\n",
    "    folium.Marker([float(df.iloc[i].latitude), float(df.iloc[i].longitude)], popup=str(df.iloc[i].region)).add_to(map_osm)"
   ]
  },
  {
   "cell_type": "code",
   "execution_count": 432,
   "metadata": {},
   "outputs": [
    {
     "data": {
      "text/html": [
       "<div style=\"width:100%;\"><div style=\"position:relative;width:100%;height:0;padding-bottom:60%;\"><iframe src=\"data:text/html;charset=utf-8;base64,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\" style=\"position:absolute;width:100%;height:100%;left:0;top:0;border:none !important;\" allowfullscreen webkitallowfullscreen mozallowfullscreen></iframe></div></div>"
      ],
      "text/plain": [
       "<folium.folium.Map at 0x1333b8550>"
      ]
     },
     "execution_count": 432,
     "metadata": {},
     "output_type": "execute_result"
    }
   ],
   "source": [
    "map_osm"
   ]
  },
  {
   "cell_type": "markdown",
   "metadata": {},
   "source": [
    "### dark sky에서 날씨와 기온 정보 얻기"
   ]
  },
  {
   "cell_type": "code",
   "execution_count": 2,
   "metadata": {},
   "outputs": [],
   "source": [
    "import requests"
   ]
  },
  {
   "cell_type": "code",
   "execution_count": null,
   "metadata": {},
   "outputs": [],
   "source": [
    "# dark sky api key"
   ]
  },
  {
   "cell_type": "code",
   "execution_count": 3,
   "metadata": {},
   "outputs": [],
   "source": [
    "appday = pd.to_datetime(noshow.AppointmentDay)"
   ]
  },
  {
   "cell_type": "code",
   "execution_count": 179,
   "metadata": {},
   "outputs": [
    {
     "data": {
      "image/png": "[encoded data removed]",
      "text/plain": [
       "<Figure size 1152x288 with 1 Axes>"
      ]
     },
     "metadata": {
      "needs_background": "light"
     },
     "output_type": "display_data"
    }
   ],
   "source": [
    "plt.figure(figsize=(16,4))\n",
    "plt.xticks(rotation=90)\n",
    "ax = sns.countplot(appday, hue=noshow[\"No-show\"])\n",
    "ax.set_title(\"날짜에 따른 no_show 시각화\")\n",
    "plt.axhline(y=826, color=\"r\")\n",
    "plt.axhline(y=3266, color=\"b\")\n",
    "plt.show()"
   ]
  },
  {
   "cell_type": "code",
   "execution_count": 180,
   "metadata": {},
   "outputs": [],
   "source": [
    "a = noshow.groupby([\"AppointmentDay\", \"No-show\"]).size()"
   ]
  },
  {
   "cell_type": "code",
   "execution_count": 182,
   "metadata": {},
   "outputs": [],
   "source": [
    "no_list = []\n",
    "yes_list = []\n",
    "for i in range(0, 54, 2):\n",
    "    no_list.append(a[i])\n",
    "    yes_list.append(a[i+1])"
   ]
  },
  {
   "cell_type": "code",
   "execution_count": 183,
   "metadata": {},
   "outputs": [
    {
     "data": {
      "text/plain": [
       "(3266.962962962963, 826.6296296296297)"
      ]
     },
     "execution_count": 183,
     "metadata": {},
     "output_type": "execute_result"
    }
   ],
   "source": [
    "np.mean(no_list), np.mean(yes_list)"
   ]
  },
  {
   "cell_type": "code",
   "execution_count": 184,
   "metadata": {},
   "outputs": [],
   "source": [
    "unique_day = list(set([int(day.timestamp()) for day in appday]))"
   ]
  },
  {
   "cell_type": "markdown",
   "metadata": {},
   "source": [
    "### dark sky 에서 날씨와 기온 정보 가져오기"
   ]
  },
  {
   "cell_type": "code",
   "execution_count": 208,
   "metadata": {},
   "outputs": [],
   "source": [
    "def forecast(lat=-20.2832243, lng=-40.3260221, TOKEN=\" \"):\n",
    "    df_weather = pd.DataFrame()\n",
    "    for time in unique_day:\n",
    "        for i in range(len(df)):\n",
    "            lat = float(df.iloc[i].latitude)\n",
    "            lng = float(df.iloc[i].longitude)\n",
    "            region = str(df.iloc[i].region)\n",
    "            url = \"https://api.darksky.net/forecast/{}/{},{},{}?exclude=daily\".format(TOKEN, lat, lng, time)\n",
    "            response = requests.get(url)\n",
    "            json_obj = response.json()\n",
    "            try:\n",
    "                df_weather = df_weather.append({\"time\": time, \"region\": region, \"weather\": json_obj[\"currently\"][\"summary\"], \"temperature\": (json_obj[\"currently\"][\"temperature\"] - 32) / 1.8}, ignore_index=True)\n",
    "            except:\n",
    "                try:\n",
    "                    df_weather = df_weather.append({\"time\": time, \"region\": region, \"weather\": json_obj[\"currently\"][\"icon\"], \"temperature\": (json_obj[\"currently\"][\"temperature\"] - 32) / 1.8}, ignore_index=True)\n",
    "                except:\n",
    "                    df_weather = df_weather.append({\"time\": time, \"region\": region, \"weather\": None, \"temperature\": None}, ignore_index=True)\n",
    "    return df_weather"
   ]
  },
  {
   "cell_type": "code",
   "execution_count": 291,
   "metadata": {},
   "outputs": [],
   "source": [
    "df_weather.to_csv(\"df_weather.csv\", index=False)"
   ]
  },
  {
   "cell_type": "code",
   "execution_count": 404,
   "metadata": {},
   "outputs": [],
   "source": [
    "df_weather = df_weather.dropna()"
   ]
  },
  {
   "cell_type": "markdown",
   "metadata": {},
   "source": [
    "### 기온과 날씨가 안나온 지역들만 뽑아내기"
   ]
  },
  {
   "cell_type": "code",
   "execution_count": 298,
   "metadata": {},
   "outputs": [],
   "source": [
    "regions_nan = df_weather[df_weather.weather.isna()][:6].region.values"
   ]
  },
  {
   "cell_type": "code",
   "execution_count": 308,
   "metadata": {},
   "outputs": [],
   "source": [
    "regions_nan = list(regions_nan)"
   ]
  },
  {
   "cell_type": "code",
   "execution_count": 313,
   "metadata": {},
   "outputs": [
    {
     "data": {
      "text/html": [
       "<div>\n",
       "<style scoped>\n",
       "    .dataframe tbody tr th:only-of-type {\n",
       "        vertical-align: middle;\n",
       "    }\n",
       "\n",
       "    .dataframe tbody tr th {\n",
       "        vertical-align: top;\n",
       "    }\n",
       "\n",
       "    .dataframe thead th {\n",
       "        text-align: right;\n",
       "    }\n",
       "</style>\n",
       "<table border=\"1\" class=\"dataframe\">\n",
       "  <thead>\n",
       "    <tr style=\"text-align: right;\">\n",
       "      <th></th>\n",
       "      <th>region</th>\n",
       "      <th>latitude</th>\n",
       "      <th>longitude</th>\n",
       "    </tr>\n",
       "  </thead>\n",
       "  <tbody>\n",
       "    <tr>\n",
       "      <th>16</th>\n",
       "      <td>SÃO BENEDITO</td>\n",
       "      <td>-9.8910754</td>\n",
       "      <td>-47.6794743</td>\n",
       "    </tr>\n",
       "    <tr>\n",
       "      <th>34</th>\n",
       "      <td>ITARARÉ</td>\n",
       "      <td>-24.1128028</td>\n",
       "      <td>-49.3448042</td>\n",
       "    </tr>\n",
       "    <tr>\n",
       "      <th>38</th>\n",
       "      <td>REDENÇÃO</td>\n",
       "      <td>-8.0559844</td>\n",
       "      <td>-50.4998533</td>\n",
       "    </tr>\n",
       "    <tr>\n",
       "      <th>39</th>\n",
       "      <td>SANTA CLARA</td>\n",
       "      <td>-29.4534965</td>\n",
       "      <td>-52.2048193</td>\n",
       "    </tr>\n",
       "    <tr>\n",
       "      <th>40</th>\n",
       "      <td>CENTRO</td>\n",
       "      <td>-29.4815744</td>\n",
       "      <td>-51.9830436</td>\n",
       "    </tr>\n",
       "    <tr>\n",
       "      <th>79</th>\n",
       "      <td>ILHAS OCEÂNICAS DE TRINDADE</td>\n",
       "      <td>-27.3515394</td>\n",
       "      <td>-24.9854104</td>\n",
       "    </tr>\n",
       "  </tbody>\n",
       "</table>\n",
       "</div>"
      ],
      "text/plain": [
       "                         region     latitude    longitude\n",
       "16                 SÃO BENEDITO   -9.8910754  -47.6794743\n",
       "34                      ITARARÉ  -24.1128028  -49.3448042\n",
       "38                     REDENÇÃO   -8.0559844  -50.4998533\n",
       "39                  SANTA CLARA  -29.4534965  -52.2048193\n",
       "40                       CENTRO  -29.4815744  -51.9830436\n",
       "79  ILHAS OCEÂNICAS DE TRINDADE  -27.3515394  -24.9854104"
      ]
     },
     "execution_count": 313,
     "metadata": {},
     "output_type": "execute_result"
    }
   ],
   "source": [
    "df[df.region.isin(regions_nan)]"
   ]
  },
  {
   "cell_type": "code",
   "execution_count": 314,
   "metadata": {},
   "outputs": [],
   "source": [
    "df.iloc[16] = {\"region\": regions[16] ,\"latitude\": \"-4.0479454\", \"longitude\": \"-40.8856794\"}"
   ]
  },
  {
   "cell_type": "code",
   "execution_count": 315,
   "metadata": {},
   "outputs": [],
   "source": [
    "df.iloc[34] = {\"region\": regions[34] ,\"latitude\": \"-24.123417\", \"longitude\": \"-49.324031\"}"
   ]
  },
  {
   "cell_type": "code",
   "execution_count": 316,
   "metadata": {},
   "outputs": [],
   "source": [
    "df.iloc[38] = {\"region\": regions[38] ,\"latitude\": \"-23.249458\", \"longitude\": \"-45.5787069\"}"
   ]
  },
  {
   "cell_type": "code",
   "execution_count": 317,
   "metadata": {},
   "outputs": [],
   "source": [
    "df.iloc[39] = {\"region\": regions[39] ,\"latitude\": \"-29.453646\", \"longitude\": \"-52.2048194\"}"
   ]
  },
  {
   "cell_type": "code",
   "execution_count": 318,
   "metadata": {},
   "outputs": [],
   "source": [
    "df.iloc[40] = {\"region\": regions[40] ,\"latitude\": \"-29.4816118\", \"longitude\": \"-51.9830436\"}"
   ]
  },
  {
   "cell_type": "code",
   "execution_count": 319,
   "metadata": {},
   "outputs": [],
   "source": [
    "df.iloc[79] = {\"region\": regions[79] ,\"latitude\": \"-20.5071481\", \"longitude\": \"-29.3408058\"}"
   ]
  },
  {
   "cell_type": "code",
   "execution_count": 324,
   "metadata": {},
   "outputs": [],
   "source": [
    "df.to_csv(\"region2.csv\", index=False)"
   ]
  },
  {
   "cell_type": "code",
   "execution_count": 328,
   "metadata": {},
   "outputs": [],
   "source": [
    "df_nan = df[df.region.isin(regions_nan)]"
   ]
  },
  {
   "cell_type": "code",
   "execution_count": 329,
   "metadata": {},
   "outputs": [
    {
     "data": {
      "text/html": [
       "<div>\n",
       "<style scoped>\n",
       "    .dataframe tbody tr th:only-of-type {\n",
       "        vertical-align: middle;\n",
       "    }\n",
       "\n",
       "    .dataframe tbody tr th {\n",
       "        vertical-align: top;\n",
       "    }\n",
       "\n",
       "    .dataframe thead th {\n",
       "        text-align: right;\n",
       "    }\n",
       "</style>\n",
       "<table border=\"1\" class=\"dataframe\">\n",
       "  <thead>\n",
       "    <tr style=\"text-align: right;\">\n",
       "      <th></th>\n",
       "      <th>region</th>\n",
       "      <th>latitude</th>\n",
       "      <th>longitude</th>\n",
       "    </tr>\n",
       "  </thead>\n",
       "  <tbody>\n",
       "    <tr>\n",
       "      <th>16</th>\n",
       "      <td>SÃO BENEDITO</td>\n",
       "      <td>-4.0479454</td>\n",
       "      <td>-40.8856794</td>\n",
       "    </tr>\n",
       "    <tr>\n",
       "      <th>34</th>\n",
       "      <td>ITARARÉ</td>\n",
       "      <td>-24.123417</td>\n",
       "      <td>-49.324031</td>\n",
       "    </tr>\n",
       "    <tr>\n",
       "      <th>38</th>\n",
       "      <td>REDENÇÃO</td>\n",
       "      <td>-23.249458</td>\n",
       "      <td>-45.5787069</td>\n",
       "    </tr>\n",
       "    <tr>\n",
       "      <th>39</th>\n",
       "      <td>SANTA CLARA</td>\n",
       "      <td>-29.453646</td>\n",
       "      <td>-52.2048194</td>\n",
       "    </tr>\n",
       "    <tr>\n",
       "      <th>40</th>\n",
       "      <td>CENTRO</td>\n",
       "      <td>-29.4816118</td>\n",
       "      <td>-51.9830436</td>\n",
       "    </tr>\n",
       "    <tr>\n",
       "      <th>79</th>\n",
       "      <td>ILHAS OCEÂNICAS DE TRINDADE</td>\n",
       "      <td>-20.5071481</td>\n",
       "      <td>-29.3408058</td>\n",
       "    </tr>\n",
       "  </tbody>\n",
       "</table>\n",
       "</div>"
      ],
      "text/plain": [
       "                         region     latitude    longitude\n",
       "16                 SÃO BENEDITO   -4.0479454  -40.8856794\n",
       "34                      ITARARÉ   -24.123417   -49.324031\n",
       "38                     REDENÇÃO   -23.249458  -45.5787069\n",
       "39                  SANTA CLARA   -29.453646  -52.2048194\n",
       "40                       CENTRO  -29.4816118  -51.9830436\n",
       "79  ILHAS OCEÂNICAS DE TRINDADE  -20.5071481  -29.3408058"
      ]
     },
     "execution_count": 329,
     "metadata": {},
     "output_type": "execute_result"
    }
   ],
   "source": [
    "df_nan"
   ]
  },
  {
   "cell_type": "code",
   "execution_count": 330,
   "metadata": {},
   "outputs": [],
   "source": [
    "def forecast(lat=-20.2832243, lng=-40.3260221, TOKEN=\"a8b883f2c78f66eb635bb6cc87207d2a\"):\n",
    "    df_weather_nan = pd.DataFrame()\n",
    "    for time in unique_day:\n",
    "        for i in range(len(df_nan)):\n",
    "            lat = float(df_nan.iloc[i].latitude)\n",
    "            lng = float(df_nan.iloc[i].longitude)\n",
    "            region = str(df_nan.iloc[i].region)\n",
    "            url = \"https://api.darksky.net/forecast/{}/{},{},{}?exclude=daily\".format(TOKEN, lat, lng, time)\n",
    "            response = requests.get(url)\n",
    "            json_obj = response.json()\n",
    "            try:\n",
    "                df_weather_nan = df_weather_nan.append({\"time\": time, \"region\": region, \"weather\": json_obj[\"currently\"][\"summary\"], \"temperature\": (json_obj[\"currently\"][\"temperature\"] - 32) / 1.8}, ignore_index=True)\n",
    "            except:\n",
    "                try:\n",
    "                    df_weather_nan = df_weather_nan.append({\"time\": time, \"region\": region, \"weather\": json_obj[\"currently\"][\"icon\"], \"temperature\": (json_obj[\"currently\"][\"temperature\"] - 32) / 1.8}, ignore_index=True)\n",
    "                except:\n",
    "                    df_weather_nan = df_weather_nan.append({\"time\": time, \"region\": region, \"weather\": None, \"temperature\": None}, ignore_index=True)\n",
    "    return df_weather_nan"
   ]
  },
  {
   "cell_type": "code",
   "execution_count": 331,
   "metadata": {},
   "outputs": [],
   "source": [
    "df_weather_nan = forecast()"
   ]
  },
  {
   "cell_type": "code",
   "execution_count": 402,
   "metadata": {},
   "outputs": [],
   "source": [
    "df_weather_nan = df_weather_nan.dropna()"
   ]
  },
  {
   "cell_type": "code",
   "execution_count": 344,
   "metadata": {},
   "outputs": [],
   "source": [
    "region_nan2 = list(df_weather_nan[df_weather_nan.weather.isna()][:4].region.values)"
   ]
  },
  {
   "cell_type": "code",
   "execution_count": 345,
   "metadata": {},
   "outputs": [
    {
     "data": {
      "text/html": [
       "<div>\n",
       "<style scoped>\n",
       "    .dataframe tbody tr th:only-of-type {\n",
       "        vertical-align: middle;\n",
       "    }\n",
       "\n",
       "    .dataframe tbody tr th {\n",
       "        vertical-align: top;\n",
       "    }\n",
       "\n",
       "    .dataframe thead th {\n",
       "        text-align: right;\n",
       "    }\n",
       "</style>\n",
       "<table border=\"1\" class=\"dataframe\">\n",
       "  <thead>\n",
       "    <tr style=\"text-align: right;\">\n",
       "      <th></th>\n",
       "      <th>region</th>\n",
       "      <th>latitude</th>\n",
       "      <th>longitude</th>\n",
       "    </tr>\n",
       "  </thead>\n",
       "  <tbody>\n",
       "    <tr>\n",
       "      <th>16</th>\n",
       "      <td>SÃO BENEDITO</td>\n",
       "      <td>-4.0479454</td>\n",
       "      <td>-40.8856794</td>\n",
       "    </tr>\n",
       "    <tr>\n",
       "      <th>34</th>\n",
       "      <td>ITARARÉ</td>\n",
       "      <td>-24.123417</td>\n",
       "      <td>-49.324031</td>\n",
       "    </tr>\n",
       "    <tr>\n",
       "      <th>39</th>\n",
       "      <td>SANTA CLARA</td>\n",
       "      <td>-29.453646</td>\n",
       "      <td>-52.2048194</td>\n",
       "    </tr>\n",
       "    <tr>\n",
       "      <th>40</th>\n",
       "      <td>CENTRO</td>\n",
       "      <td>-29.4816118</td>\n",
       "      <td>-51.9830436</td>\n",
       "    </tr>\n",
       "  </tbody>\n",
       "</table>\n",
       "</div>"
      ],
      "text/plain": [
       "          region     latitude    longitude\n",
       "16  SÃO BENEDITO   -4.0479454  -40.8856794\n",
       "34       ITARARÉ   -24.123417   -49.324031\n",
       "39   SANTA CLARA   -29.453646  -52.2048194\n",
       "40        CENTRO  -29.4816118  -51.9830436"
      ]
     },
     "execution_count": 345,
     "metadata": {},
     "output_type": "execute_result"
    }
   ],
   "source": [
    "df[df.region.isin(region_nan2)]"
   ]
  },
  {
   "cell_type": "code",
   "execution_count": 352,
   "metadata": {},
   "outputs": [],
   "source": [
    "df.iloc[16] = {\"region\": regions[16] ,\"latitude\": \"-3.754985\", \"longitude\": \"-38.616946\"}"
   ]
  },
  {
   "cell_type": "code",
   "execution_count": 361,
   "metadata": {},
   "outputs": [],
   "source": [
    "df.iloc[34] = {\"region\": regions[34] ,\"latitude\": \"-25.297482\", \"longitude\": \"-49.511596\"}"
   ]
  },
  {
   "cell_type": "code",
   "execution_count": 365,
   "metadata": {},
   "outputs": [],
   "source": [
    "df.iloc[39] = {\"region\": regions[39] ,\"latitude\": \"-29.905233\", \"longitude\": \"-51.312359\"}"
   ]
  },
  {
   "cell_type": "code",
   "execution_count": 367,
   "metadata": {},
   "outputs": [],
   "source": [
    "df.iloc[40] = {\"region\": regions[40] ,\"latitude\": \"-30.0408041\", \"longitude\": \"-51.2646126\"}"
   ]
  },
  {
   "cell_type": "code",
   "execution_count": 374,
   "metadata": {},
   "outputs": [],
   "source": [
    "df_nan2 = df[df.region.isin(region_nan2)]"
   ]
  },
  {
   "cell_type": "code",
   "execution_count": 375,
   "metadata": {},
   "outputs": [],
   "source": [
    "def forecast(lat=-20.2832243, lng=-40.3260221, TOKEN=\"a8b883f2c78f66eb635bb6cc87207d2a\"):\n",
    "    df_weather_nan2 = pd.DataFrame()\n",
    "    for time in unique_day:\n",
    "        for i in range(len(df_nan2)):\n",
    "            lat = float(df_nan2.iloc[i].latitude)\n",
    "            lng = float(df_nan2.iloc[i].longitude)\n",
    "            region = str(df_nan2.iloc[i].region)\n",
    "            url = \"https://api.darksky.net/forecast/{}/{},{},{}?exclude=daily\".format(TOKEN, lat, lng, time)\n",
    "            response = requests.get(url)\n",
    "            json_obj = response.json()\n",
    "            try:\n",
    "                df_weather_nan2 = df_weather_nan2.append({\"time\": time, \"region\": region, \"weather\": json_obj[\"currently\"][\"summary\"], \"temperature\": (json_obj[\"currently\"][\"temperature\"] - 32) / 1.8}, ignore_index=True)\n",
    "            except:\n",
    "                try:\n",
    "                    df_weather_nan2 = df_weather_nan2.append({\"time\": time, \"region\": region, \"weather\": json_obj[\"currently\"][\"icon\"], \"temperature\": (json_obj[\"currently\"][\"temperature\"] - 32) / 1.8}, ignore_index=True)\n",
    "                except:\n",
    "                    df_weather_nan2 = df_weather_nan2.append({\"time\": time, \"region\": region, \"weather\": None, \"temperature\": None}, ignore_index=True)\n",
    "    return df_weather_nan2"
   ]
  },
  {
   "cell_type": "code",
   "execution_count": 376,
   "metadata": {},
   "outputs": [],
   "source": [
    "df_weather_nan2 = forecast()"
   ]
  },
  {
   "cell_type": "code",
   "execution_count": 377,
   "metadata": {},
   "outputs": [
    {
     "data": {
      "text/html": [
       "<div>\n",
       "<style scoped>\n",
       "    .dataframe tbody tr th:only-of-type {\n",
       "        vertical-align: middle;\n",
       "    }\n",
       "\n",
       "    .dataframe tbody tr th {\n",
       "        vertical-align: top;\n",
       "    }\n",
       "\n",
       "    .dataframe thead th {\n",
       "        text-align: right;\n",
       "    }\n",
       "</style>\n",
       "<table border=\"1\" class=\"dataframe\">\n",
       "  <thead>\n",
       "    <tr style=\"text-align: right;\">\n",
       "      <th></th>\n",
       "      <th>region</th>\n",
       "      <th>temperature</th>\n",
       "      <th>time</th>\n",
       "      <th>weather</th>\n",
       "    </tr>\n",
       "  </thead>\n",
       "  <tbody>\n",
       "    <tr>\n",
       "      <th>0</th>\n",
       "      <td>SÃO BENEDITO</td>\n",
       "      <td>28.377778</td>\n",
       "      <td>1.461888e+09</td>\n",
       "      <td>Humid</td>\n",
       "    </tr>\n",
       "    <tr>\n",
       "      <th>1</th>\n",
       "      <td>ITARARÉ</td>\n",
       "      <td>7.522222</td>\n",
       "      <td>1.461888e+09</td>\n",
       "      <td>Clear</td>\n",
       "    </tr>\n",
       "    <tr>\n",
       "      <th>2</th>\n",
       "      <td>SANTA CLARA</td>\n",
       "      <td>9.372222</td>\n",
       "      <td>1.461888e+09</td>\n",
       "      <td>Clear</td>\n",
       "    </tr>\n",
       "    <tr>\n",
       "      <th>3</th>\n",
       "      <td>CENTRO</td>\n",
       "      <td>9.311111</td>\n",
       "      <td>1.461888e+09</td>\n",
       "      <td>Clear</td>\n",
       "    </tr>\n",
       "    <tr>\n",
       "      <th>4</th>\n",
       "      <td>SÃO BENEDITO</td>\n",
       "      <td>28.127778</td>\n",
       "      <td>1.462234e+09</td>\n",
       "      <td>Humid and Partly Cloudy</td>\n",
       "    </tr>\n",
       "    <tr>\n",
       "      <th>5</th>\n",
       "      <td>ITARARÉ</td>\n",
       "      <td>12.822222</td>\n",
       "      <td>1.462234e+09</td>\n",
       "      <td>Clear</td>\n",
       "    </tr>\n",
       "    <tr>\n",
       "      <th>6</th>\n",
       "      <td>SANTA CLARA</td>\n",
       "      <td>14.555556</td>\n",
       "      <td>1.462234e+09</td>\n",
       "      <td>Mostly Cloudy</td>\n",
       "    </tr>\n",
       "    <tr>\n",
       "      <th>7</th>\n",
       "      <td>CENTRO</td>\n",
       "      <td>14.583333</td>\n",
       "      <td>1.462234e+09</td>\n",
       "      <td>Mostly Cloudy</td>\n",
       "    </tr>\n",
       "    <tr>\n",
       "      <th>8</th>\n",
       "      <td>SÃO BENEDITO</td>\n",
       "      <td>27.561111</td>\n",
       "      <td>1.464048e+09</td>\n",
       "      <td>Humid</td>\n",
       "    </tr>\n",
       "    <tr>\n",
       "      <th>9</th>\n",
       "      <td>ITARARÉ</td>\n",
       "      <td>8.822222</td>\n",
       "      <td>1.464048e+09</td>\n",
       "      <td>Partly Cloudy</td>\n",
       "    </tr>\n",
       "    <tr>\n",
       "      <th>10</th>\n",
       "      <td>SANTA CLARA</td>\n",
       "      <td>12.655556</td>\n",
       "      <td>1.464048e+09</td>\n",
       "      <td>Partly Cloudy</td>\n",
       "    </tr>\n",
       "    <tr>\n",
       "      <th>11</th>\n",
       "      <td>CENTRO</td>\n",
       "      <td>12.644444</td>\n",
       "      <td>1.464048e+09</td>\n",
       "      <td>Partly Cloudy</td>\n",
       "    </tr>\n",
       "    <tr>\n",
       "      <th>12</th>\n",
       "      <td>SÃO BENEDITO</td>\n",
       "      <td>28.127778</td>\n",
       "      <td>1.462838e+09</td>\n",
       "      <td>Humid and Partly Cloudy</td>\n",
       "    </tr>\n",
       "    <tr>\n",
       "      <th>13</th>\n",
       "      <td>ITARARÉ</td>\n",
       "      <td>16.427778</td>\n",
       "      <td>1.462838e+09</td>\n",
       "      <td>Partly Cloudy</td>\n",
       "    </tr>\n",
       "    <tr>\n",
       "      <th>14</th>\n",
       "      <td>SANTA CLARA</td>\n",
       "      <td>19.727778</td>\n",
       "      <td>1.462838e+09</td>\n",
       "      <td>Partly Cloudy</td>\n",
       "    </tr>\n",
       "    <tr>\n",
       "      <th>15</th>\n",
       "      <td>CENTRO</td>\n",
       "      <td>19.688889</td>\n",
       "      <td>1.462838e+09</td>\n",
       "      <td>Mostly Cloudy</td>\n",
       "    </tr>\n",
       "    <tr>\n",
       "      <th>16</th>\n",
       "      <td>SÃO BENEDITO</td>\n",
       "      <td>28.100000</td>\n",
       "      <td>1.463443e+09</td>\n",
       "      <td>Humid and Partly Cloudy</td>\n",
       "    </tr>\n",
       "    <tr>\n",
       "      <th>17</th>\n",
       "      <td>ITARARÉ</td>\n",
       "      <td>15.427778</td>\n",
       "      <td>1.463443e+09</td>\n",
       "      <td>Mostly Cloudy</td>\n",
       "    </tr>\n",
       "    <tr>\n",
       "      <th>18</th>\n",
       "      <td>SANTA CLARA</td>\n",
       "      <td>13.177778</td>\n",
       "      <td>1.463443e+09</td>\n",
       "      <td>Mostly Cloudy</td>\n",
       "    </tr>\n",
       "    <tr>\n",
       "      <th>19</th>\n",
       "      <td>CENTRO</td>\n",
       "      <td>13.133333</td>\n",
       "      <td>1.463443e+09</td>\n",
       "      <td>Mostly Cloudy</td>\n",
       "    </tr>\n",
       "    <tr>\n",
       "      <th>20</th>\n",
       "      <td>SÃO BENEDITO</td>\n",
       "      <td>28.127778</td>\n",
       "      <td>1.464653e+09</td>\n",
       "      <td>Humid</td>\n",
       "    </tr>\n",
       "    <tr>\n",
       "      <th>21</th>\n",
       "      <td>ITARARÉ</td>\n",
       "      <td>15.088889</td>\n",
       "      <td>1.464653e+09</td>\n",
       "      <td>Mostly Cloudy</td>\n",
       "    </tr>\n",
       "    <tr>\n",
       "      <th>22</th>\n",
       "      <td>SANTA CLARA</td>\n",
       "      <td>16.800000</td>\n",
       "      <td>1.464653e+09</td>\n",
       "      <td>Mostly Cloudy</td>\n",
       "    </tr>\n",
       "    <tr>\n",
       "      <th>23</th>\n",
       "      <td>CENTRO</td>\n",
       "      <td>16.894444</td>\n",
       "      <td>1.464653e+09</td>\n",
       "      <td>Mostly Cloudy</td>\n",
       "    </tr>\n",
       "    <tr>\n",
       "      <th>24</th>\n",
       "      <td>SÃO BENEDITO</td>\n",
       "      <td>28.127778</td>\n",
       "      <td>1.462147e+09</td>\n",
       "      <td>Humid</td>\n",
       "    </tr>\n",
       "    <tr>\n",
       "      <th>25</th>\n",
       "      <td>ITARARÉ</td>\n",
       "      <td>8.822222</td>\n",
       "      <td>1.462147e+09</td>\n",
       "      <td>Clear</td>\n",
       "    </tr>\n",
       "    <tr>\n",
       "      <th>26</th>\n",
       "      <td>SANTA CLARA</td>\n",
       "      <td>11.955556</td>\n",
       "      <td>1.462147e+09</td>\n",
       "      <td>Clear</td>\n",
       "    </tr>\n",
       "    <tr>\n",
       "      <th>27</th>\n",
       "      <td>CENTRO</td>\n",
       "      <td>11.833333</td>\n",
       "      <td>1.462147e+09</td>\n",
       "      <td>Clear</td>\n",
       "    </tr>\n",
       "    <tr>\n",
       "      <th>28</th>\n",
       "      <td>SÃO BENEDITO</td>\n",
       "      <td>28.127778</td>\n",
       "      <td>1.464566e+09</td>\n",
       "      <td>Humid and Partly Cloudy</td>\n",
       "    </tr>\n",
       "    <tr>\n",
       "      <th>29</th>\n",
       "      <td>ITARARÉ</td>\n",
       "      <td>14.122222</td>\n",
       "      <td>1.464566e+09</td>\n",
       "      <td>Mostly Cloudy</td>\n",
       "    </tr>\n",
       "    <tr>\n",
       "      <th>...</th>\n",
       "      <td>...</td>\n",
       "      <td>...</td>\n",
       "      <td>...</td>\n",
       "      <td>...</td>\n",
       "    </tr>\n",
       "    <tr>\n",
       "      <th>78</th>\n",
       "      <td>SANTA CLARA</td>\n",
       "      <td>13.688889</td>\n",
       "      <td>1.463098e+09</td>\n",
       "      <td>Mostly Cloudy</td>\n",
       "    </tr>\n",
       "    <tr>\n",
       "      <th>79</th>\n",
       "      <td>CENTRO</td>\n",
       "      <td>13.666667</td>\n",
       "      <td>1.463098e+09</td>\n",
       "      <td>Mostly Cloudy</td>\n",
       "    </tr>\n",
       "    <tr>\n",
       "      <th>80</th>\n",
       "      <td>SÃO BENEDITO</td>\n",
       "      <td>27.561111</td>\n",
       "      <td>1.463184e+09</td>\n",
       "      <td>Humid</td>\n",
       "    </tr>\n",
       "    <tr>\n",
       "      <th>81</th>\n",
       "      <td>ITARARÉ</td>\n",
       "      <td>13.822222</td>\n",
       "      <td>1.463184e+09</td>\n",
       "      <td>Mostly Cloudy</td>\n",
       "    </tr>\n",
       "    <tr>\n",
       "      <th>82</th>\n",
       "      <td>SANTA CLARA</td>\n",
       "      <td>14.888889</td>\n",
       "      <td>1.463184e+09</td>\n",
       "      <td>Clear</td>\n",
       "    </tr>\n",
       "    <tr>\n",
       "      <th>83</th>\n",
       "      <td>CENTRO</td>\n",
       "      <td>14.794444</td>\n",
       "      <td>1.463184e+09</td>\n",
       "      <td>Clear</td>\n",
       "    </tr>\n",
       "    <tr>\n",
       "      <th>84</th>\n",
       "      <td>SÃO BENEDITO</td>\n",
       "      <td>27.561111</td>\n",
       "      <td>1.464134e+09</td>\n",
       "      <td>Humid and Partly Cloudy</td>\n",
       "    </tr>\n",
       "    <tr>\n",
       "      <th>85</th>\n",
       "      <td>ITARARÉ</td>\n",
       "      <td>10.422222</td>\n",
       "      <td>1.464134e+09</td>\n",
       "      <td>Mostly Cloudy</td>\n",
       "    </tr>\n",
       "    <tr>\n",
       "      <th>86</th>\n",
       "      <td>SANTA CLARA</td>\n",
       "      <td>13.005556</td>\n",
       "      <td>1.464134e+09</td>\n",
       "      <td>Partly Cloudy</td>\n",
       "    </tr>\n",
       "    <tr>\n",
       "      <th>87</th>\n",
       "      <td>CENTRO</td>\n",
       "      <td>13.077778</td>\n",
       "      <td>1.464134e+09</td>\n",
       "      <td>Partly Cloudy</td>\n",
       "    </tr>\n",
       "    <tr>\n",
       "      <th>88</th>\n",
       "      <td>SÃO BENEDITO</td>\n",
       "      <td>27.011111</td>\n",
       "      <td>1.465344e+09</td>\n",
       "      <td>Humid</td>\n",
       "    </tr>\n",
       "    <tr>\n",
       "      <th>89</th>\n",
       "      <td>ITARARÉ</td>\n",
       "      <td>10.033333</td>\n",
       "      <td>1.465344e+09</td>\n",
       "      <td>Clear</td>\n",
       "    </tr>\n",
       "    <tr>\n",
       "      <th>90</th>\n",
       "      <td>SANTA CLARA</td>\n",
       "      <td>11.161111</td>\n",
       "      <td>1.465344e+09</td>\n",
       "      <td>Clear</td>\n",
       "    </tr>\n",
       "    <tr>\n",
       "      <th>91</th>\n",
       "      <td>CENTRO</td>\n",
       "      <td>11.461111</td>\n",
       "      <td>1.465344e+09</td>\n",
       "      <td>Clear</td>\n",
       "    </tr>\n",
       "    <tr>\n",
       "      <th>92</th>\n",
       "      <td>SÃO BENEDITO</td>\n",
       "      <td>27.561111</td>\n",
       "      <td>1.462406e+09</td>\n",
       "      <td>Humid</td>\n",
       "    </tr>\n",
       "    <tr>\n",
       "      <th>93</th>\n",
       "      <td>ITARARÉ</td>\n",
       "      <td>15.033333</td>\n",
       "      <td>1.462406e+09</td>\n",
       "      <td>Partly Cloudy</td>\n",
       "    </tr>\n",
       "    <tr>\n",
       "      <th>94</th>\n",
       "      <td>SANTA CLARA</td>\n",
       "      <td>14.555556</td>\n",
       "      <td>1.462406e+09</td>\n",
       "      <td>Clear</td>\n",
       "    </tr>\n",
       "    <tr>\n",
       "      <th>95</th>\n",
       "      <td>CENTRO</td>\n",
       "      <td>14.383333</td>\n",
       "      <td>1.462406e+09</td>\n",
       "      <td>Clear</td>\n",
       "    </tr>\n",
       "    <tr>\n",
       "      <th>96</th>\n",
       "      <td>SÃO BENEDITO</td>\n",
       "      <td>28.127778</td>\n",
       "      <td>1.465171e+09</td>\n",
       "      <td>Humid</td>\n",
       "    </tr>\n",
       "    <tr>\n",
       "      <th>97</th>\n",
       "      <td>ITARARÉ</td>\n",
       "      <td>13.544444</td>\n",
       "      <td>1.465171e+09</td>\n",
       "      <td>Overcast</td>\n",
       "    </tr>\n",
       "    <tr>\n",
       "      <th>98</th>\n",
       "      <td>SANTA CLARA</td>\n",
       "      <td>12.138889</td>\n",
       "      <td>1.465171e+09</td>\n",
       "      <td>Mostly Cloudy</td>\n",
       "    </tr>\n",
       "    <tr>\n",
       "      <th>99</th>\n",
       "      <td>CENTRO</td>\n",
       "      <td>12.105556</td>\n",
       "      <td>1.465171e+09</td>\n",
       "      <td>Mostly Cloudy</td>\n",
       "    </tr>\n",
       "    <tr>\n",
       "      <th>100</th>\n",
       "      <td>SÃO BENEDITO</td>\n",
       "      <td>27.561111</td>\n",
       "      <td>1.462493e+09</td>\n",
       "      <td>Humid and Partly Cloudy</td>\n",
       "    </tr>\n",
       "    <tr>\n",
       "      <th>101</th>\n",
       "      <td>ITARARÉ</td>\n",
       "      <td>16.038889</td>\n",
       "      <td>1.462493e+09</td>\n",
       "      <td>Mostly Cloudy</td>\n",
       "    </tr>\n",
       "    <tr>\n",
       "      <th>102</th>\n",
       "      <td>SANTA CLARA</td>\n",
       "      <td>14.838889</td>\n",
       "      <td>1.462493e+09</td>\n",
       "      <td>Clear</td>\n",
       "    </tr>\n",
       "    <tr>\n",
       "      <th>103</th>\n",
       "      <td>CENTRO</td>\n",
       "      <td>14.905556</td>\n",
       "      <td>1.462493e+09</td>\n",
       "      <td>Clear</td>\n",
       "    </tr>\n",
       "    <tr>\n",
       "      <th>104</th>\n",
       "      <td>SÃO BENEDITO</td>\n",
       "      <td>28.127778</td>\n",
       "      <td>1.465258e+09</td>\n",
       "      <td>Humid</td>\n",
       "    </tr>\n",
       "    <tr>\n",
       "      <th>105</th>\n",
       "      <td>ITARARÉ</td>\n",
       "      <td>11.816667</td>\n",
       "      <td>1.465258e+09</td>\n",
       "      <td>Mostly Cloudy</td>\n",
       "    </tr>\n",
       "    <tr>\n",
       "      <th>106</th>\n",
       "      <td>SANTA CLARA</td>\n",
       "      <td>9.900000</td>\n",
       "      <td>1.465258e+09</td>\n",
       "      <td>Partly Cloudy</td>\n",
       "    </tr>\n",
       "    <tr>\n",
       "      <th>107</th>\n",
       "      <td>CENTRO</td>\n",
       "      <td>9.955556</td>\n",
       "      <td>1.465258e+09</td>\n",
       "      <td>Partly Cloudy</td>\n",
       "    </tr>\n",
       "  </tbody>\n",
       "</table>\n",
       "<p>108 rows × 4 columns</p>\n",
       "</div>"
      ],
      "text/plain": [
       "           region  temperature          time                  weather\n",
       "0    SÃO BENEDITO    28.377778  1.461888e+09                    Humid\n",
       "1         ITARARÉ     7.522222  1.461888e+09                    Clear\n",
       "2     SANTA CLARA     9.372222  1.461888e+09                    Clear\n",
       "3          CENTRO     9.311111  1.461888e+09                    Clear\n",
       "4    SÃO BENEDITO    28.127778  1.462234e+09  Humid and Partly Cloudy\n",
       "5         ITARARÉ    12.822222  1.462234e+09                    Clear\n",
       "6     SANTA CLARA    14.555556  1.462234e+09            Mostly Cloudy\n",
       "7          CENTRO    14.583333  1.462234e+09            Mostly Cloudy\n",
       "8    SÃO BENEDITO    27.561111  1.464048e+09                    Humid\n",
       "9         ITARARÉ     8.822222  1.464048e+09            Partly Cloudy\n",
       "10    SANTA CLARA    12.655556  1.464048e+09            Partly Cloudy\n",
       "11         CENTRO    12.644444  1.464048e+09            Partly Cloudy\n",
       "12   SÃO BENEDITO    28.127778  1.462838e+09  Humid and Partly Cloudy\n",
       "13        ITARARÉ    16.427778  1.462838e+09            Partly Cloudy\n",
       "14    SANTA CLARA    19.727778  1.462838e+09            Partly Cloudy\n",
       "15         CENTRO    19.688889  1.462838e+09            Mostly Cloudy\n",
       "16   SÃO BENEDITO    28.100000  1.463443e+09  Humid and Partly Cloudy\n",
       "17        ITARARÉ    15.427778  1.463443e+09            Mostly Cloudy\n",
       "18    SANTA CLARA    13.177778  1.463443e+09            Mostly Cloudy\n",
       "19         CENTRO    13.133333  1.463443e+09            Mostly Cloudy\n",
       "20   SÃO BENEDITO    28.127778  1.464653e+09                    Humid\n",
       "21        ITARARÉ    15.088889  1.464653e+09            Mostly Cloudy\n",
       "22    SANTA CLARA    16.800000  1.464653e+09            Mostly Cloudy\n",
       "23         CENTRO    16.894444  1.464653e+09            Mostly Cloudy\n",
       "24   SÃO BENEDITO    28.127778  1.462147e+09                    Humid\n",
       "25        ITARARÉ     8.822222  1.462147e+09                    Clear\n",
       "26    SANTA CLARA    11.955556  1.462147e+09                    Clear\n",
       "27         CENTRO    11.833333  1.462147e+09                    Clear\n",
       "28   SÃO BENEDITO    28.127778  1.464566e+09  Humid and Partly Cloudy\n",
       "29        ITARARÉ    14.122222  1.464566e+09            Mostly Cloudy\n",
       "..            ...          ...           ...                      ...\n",
       "78    SANTA CLARA    13.688889  1.463098e+09            Mostly Cloudy\n",
       "79         CENTRO    13.666667  1.463098e+09            Mostly Cloudy\n",
       "80   SÃO BENEDITO    27.561111  1.463184e+09                    Humid\n",
       "81        ITARARÉ    13.822222  1.463184e+09            Mostly Cloudy\n",
       "82    SANTA CLARA    14.888889  1.463184e+09                    Clear\n",
       "83         CENTRO    14.794444  1.463184e+09                    Clear\n",
       "84   SÃO BENEDITO    27.561111  1.464134e+09  Humid and Partly Cloudy\n",
       "85        ITARARÉ    10.422222  1.464134e+09            Mostly Cloudy\n",
       "86    SANTA CLARA    13.005556  1.464134e+09            Partly Cloudy\n",
       "87         CENTRO    13.077778  1.464134e+09            Partly Cloudy\n",
       "88   SÃO BENEDITO    27.011111  1.465344e+09                    Humid\n",
       "89        ITARARÉ    10.033333  1.465344e+09                    Clear\n",
       "90    SANTA CLARA    11.161111  1.465344e+09                    Clear\n",
       "91         CENTRO    11.461111  1.465344e+09                    Clear\n",
       "92   SÃO BENEDITO    27.561111  1.462406e+09                    Humid\n",
       "93        ITARARÉ    15.033333  1.462406e+09            Partly Cloudy\n",
       "94    SANTA CLARA    14.555556  1.462406e+09                    Clear\n",
       "95         CENTRO    14.383333  1.462406e+09                    Clear\n",
       "96   SÃO BENEDITO    28.127778  1.465171e+09                    Humid\n",
       "97        ITARARÉ    13.544444  1.465171e+09                 Overcast\n",
       "98    SANTA CLARA    12.138889  1.465171e+09            Mostly Cloudy\n",
       "99         CENTRO    12.105556  1.465171e+09            Mostly Cloudy\n",
       "100  SÃO BENEDITO    27.561111  1.462493e+09  Humid and Partly Cloudy\n",
       "101       ITARARÉ    16.038889  1.462493e+09            Mostly Cloudy\n",
       "102   SANTA CLARA    14.838889  1.462493e+09                    Clear\n",
       "103        CENTRO    14.905556  1.462493e+09                    Clear\n",
       "104  SÃO BENEDITO    28.127778  1.465258e+09                    Humid\n",
       "105       ITARARÉ    11.816667  1.465258e+09            Mostly Cloudy\n",
       "106   SANTA CLARA     9.900000  1.465258e+09            Partly Cloudy\n",
       "107        CENTRO     9.955556  1.465258e+09            Partly Cloudy\n",
       "\n",
       "[108 rows x 4 columns]"
      ]
     },
     "execution_count": 377,
     "metadata": {},
     "output_type": "execute_result"
    }
   ],
   "source": [
    "df_weather_nan2"
   ]
  },
  {
   "cell_type": "markdown",
   "metadata": {},
   "source": [
    "###  날씨 정보 합치기"
   ]
  },
  {
   "cell_type": "code",
   "execution_count": 419,
   "metadata": {},
   "outputs": [],
   "source": [
    "region_weather = pd.concat([df_weather, df_weather_nan, df_weather_nan2], ignore_index=True)"
   ]
  },
  {
   "cell_type": "code",
   "execution_count": 422,
   "metadata": {},
   "outputs": [],
   "source": [
    "region_weather.to_csv(\"region_weather.csv\", index=False)"
   ]
  },
  {
   "cell_type": "code",
   "execution_count": null,
   "metadata": {},
   "outputs": [],
   "source": [
    "import time\n",
    "region_weather.time = region_weather.time.apply(lambda x: time.strftime(\"%Y-%m-%d\", time.localtime(int(x))))"
   ]
  },
  {
   "cell_type": "code",
   "execution_count": 426,
   "metadata": {},
   "outputs": [],
   "source": [
    "df.to_csv(\"region_location.csv\", index=False)"
   ]
  },
  {
   "cell_type": "code",
   "execution_count": 429,
   "metadata": {},
   "outputs": [
    {
     "data": {
      "text/plain": [
       "array(['Overcast', 'Mostly Cloudy', 'Clear', 'Partly Cloudy',\n",
       "       'Windy and Overcast', 'Breezy and Overcast', 'Foggy',\n",
       "       'Humid and Mostly Cloudy', 'Light Rain and Breezy',\n",
       "       'Breezy and Mostly Cloudy', 'Humid', 'Humid and Overcast',\n",
       "       'Humid and Partly Cloudy', 'Drizzle'], dtype=object)"
      ]
     },
     "execution_count": 429,
     "metadata": {},
     "output_type": "execute_result"
    }
   ],
   "source": [
    "region_weather.weather.unique()"
   ]
  },
  {
   "cell_type": "markdown",
   "metadata": {},
   "source": [
    "### 화씨 -> 섭씨 공식\n",
    "- °C = (°F − 32) / 1.8"
   ]
  }
 ],
 "metadata": {
  "kernelspec": {
   "display_name": "Python 3",
   "language": "python",
   "name": "python3"
  },
  "language_info": {
   "codemirror_mode": {
    "name": "ipython",
    "version": 3
   },
   "file_extension": ".py",
   "mimetype": "text/x-python",
   "name": "python",
   "nbconvert_exporter": "python",
   "pygments_lexer": "ipython3",
   "version": "3.7.1"
  }
 },
 "nbformat": 4,
 "nbformat_minor": 2
}
