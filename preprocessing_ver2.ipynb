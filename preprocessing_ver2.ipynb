{
 "cells": [
  {
   "cell_type": "markdown",
   "metadata": {},
   "source": [
    "# 데이터 전처리"
   ]
  },
  {
   "cell_type": "code",
   "execution_count": 1,
   "metadata": {},
   "outputs": [],
   "source": [
    "df = pd.read_csv(\"noshow.csv\")"
   ]
  },
  {
   "cell_type": "code",
   "execution_count": 2,
   "metadata": {},
   "outputs": [],
   "source": [
    "df.rename(columns = {\"No-show\": \"No_show\"}, inplace=True)"
   ]
  },
  {
   "cell_type": "markdown",
   "metadata": {},
   "source": [
    "### Age 범주형 변수로 바꾸기"
   ]
  },
  {
   "cell_type": "code",
   "execution_count": 3,
   "metadata": {},
   "outputs": [],
   "source": [
    "df[\"Age_bin\"] = \"0\"\n",
    "df[\"Age_bin\"][df.Age < 10] = \"0s\"\n",
    "df[\"Age_bin\"][(df.Age >= 10) & (df.Age < 20)] = \"10s\"\n",
    "df[\"Age_bin\"][(df.Age >= 20) & (df.Age < 30)] = \"20s\"\n",
    "df[\"Age_bin\"][(df.Age >= 30) & (df.Age < 40)] = \"30s\"\n",
    "df[\"Age_bin\"][(df.Age >= 40) & (df.Age < 50)] = \"40s\"\n",
    "df[\"Age_bin\"][(df.Age >= 50) & (df.Age < 60)] = \"50s\"\n",
    "df[\"Age_bin\"][(df.Age >= 60) & (df.Age < 70)] = \"60s\"\n",
    "df[\"Age_bin\"][(df.Age >= 70) & (df.Age < 80)] = \"70s\"\n",
    "df[\"Age_bin\"][(df.Age >= 80) & (df.Age < 90)] = \"80s\"\n",
    "df[\"Age_bin\"][df.Age >= 90] = \"90s\""
   ]
  },
  {
   "cell_type": "markdown",
   "metadata": {},
   "source": [
    "### 날짜형식 범주형 변수로 바꿔주기"
   ]
  },
  {
   "cell_type": "code",
   "execution_count": 4,
   "metadata": {},
   "outputs": [],
   "source": [
    "df[\"Scheduled_date\"] = df[\"ScheduledDay\"].apply(lambda x: x[:10])\n",
    "df['Scheduled_date'] = pd.to_datetime(df['Scheduled_date'])\n",
    "df['Scheduled_time'] = df['ScheduledDay'].apply(lambda x: x[11:-1])\n",
    "df['Scheduled_time'] = pd.to_timedelta(df['Scheduled_time'])\n",
    "df['Appointment_date'] = df['AppointmentDay'].apply(lambda x: x[:10])\n",
    "df['Appointment_date'] = pd.to_datetime(df['Appointment_date'])\n",
    "df['Appointment_time'] = df['AppointmentDay'].apply(lambda x: x[11:-1])\n",
    "df['Appointment_time'] = pd.to_timedelta(df['Appointment_time'])\n",
    "df[\"AppointmentWeekday\"] = pd.to_datetime(df.AppointmentDay.apply(lambda x : x[:10])).apply(lambda x: x.weekday())\n",
    "df = df.drop(columns = \"Appointment_time\")"
   ]
  },
  {
   "cell_type": "code",
   "execution_count": 5,
   "metadata": {},
   "outputs": [],
   "source": [
    "df[\"date_diff\"] = df.Appointment_date - df.Scheduled_date"
   ]
  },
  {
   "cell_type": "code",
   "execution_count": 6,
   "metadata": {},
   "outputs": [],
   "source": [
    "df.date_diff = df.date_diff.apply(lambda x: int(str(x).split(\"days\")[0]))"
   ]
  },
  {
   "cell_type": "markdown",
   "metadata": {},
   "source": [
    "### Age가 음수이거나 date_diff가 음수인 데이터 빼주기"
   ]
  },
  {
   "cell_type": "code",
   "execution_count": 7,
   "metadata": {},
   "outputs": [],
   "source": [
    "df = df[df.Age >= 0]"
   ]
  },
  {
   "cell_type": "code",
   "execution_count": 8,
   "metadata": {},
   "outputs": [],
   "source": [
    "df = df[df.date_diff >= 0]"
   ]
  },
  {
   "cell_type": "markdown",
   "metadata": {},
   "source": [
    "### dfx와 dfy로 나눠주기"
   ]
  },
  {
   "cell_type": "code",
   "execution_count": 16,
   "metadata": {},
   "outputs": [],
   "source": [
    "dfx = df.drop(columns=[\"PatientId\", \"AppointmentID\", \"ScheduledDay\", \"AppointmentDay\", \"Age\", \"No_show\", \"Scheduled_date\", \"Scheduled_time\", \"Appointment_date\"], axis=1)\n",
    "dfy = df[\"No_show\"]"
   ]
  },
  {
   "cell_type": "code",
   "execution_count": 17,
   "metadata": {},
   "outputs": [],
   "source": [
    "dfx.Handcap = pd.Categorical(dfx.Handcap)\n",
    "dfx.AppointmentWeekday = pd.Categorical(dfx.AppointmentWeekday)"
   ]
  },
  {
   "cell_type": "code",
   "execution_count": 18,
   "metadata": {},
   "outputs": [
    {
     "data": {
      "text/html": [
       "<div>\n",
       "<style scoped>\n",
       "    .dataframe tbody tr th:only-of-type {\n",
       "        vertical-align: middle;\n",
       "    }\n",
       "\n",
       "    .dataframe tbody tr th {\n",
       "        vertical-align: top;\n",
       "    }\n",
       "\n",
       "    .dataframe thead th {\n",
       "        text-align: right;\n",
       "    }\n",
       "</style>\n",
       "<table border=\"1\" class=\"dataframe\">\n",
       "  <thead>\n",
       "    <tr style=\"text-align: right;\">\n",
       "      <th></th>\n",
       "      <th>Gender</th>\n",
       "      <th>Neighbourhood</th>\n",
       "      <th>Scholarship</th>\n",
       "      <th>Hipertension</th>\n",
       "      <th>Diabetes</th>\n",
       "      <th>Alcoholism</th>\n",
       "      <th>Handcap</th>\n",
       "      <th>SMS_received</th>\n",
       "      <th>Age_bin</th>\n",
       "      <th>AppointmentWeekday</th>\n",
       "      <th>date_diff</th>\n",
       "    </tr>\n",
       "  </thead>\n",
       "  <tbody>\n",
       "    <tr>\n",
       "      <th>110522</th>\n",
       "      <td>F</td>\n",
       "      <td>MARIA ORTIZ</td>\n",
       "      <td>0</td>\n",
       "      <td>0</td>\n",
       "      <td>0</td>\n",
       "      <td>0</td>\n",
       "      <td>0</td>\n",
       "      <td>1</td>\n",
       "      <td>50s</td>\n",
       "      <td>1</td>\n",
       "      <td>35</td>\n",
       "    </tr>\n",
       "    <tr>\n",
       "      <th>110523</th>\n",
       "      <td>F</td>\n",
       "      <td>MARIA ORTIZ</td>\n",
       "      <td>0</td>\n",
       "      <td>0</td>\n",
       "      <td>0</td>\n",
       "      <td>0</td>\n",
       "      <td>0</td>\n",
       "      <td>1</td>\n",
       "      <td>50s</td>\n",
       "      <td>1</td>\n",
       "      <td>35</td>\n",
       "    </tr>\n",
       "    <tr>\n",
       "      <th>110524</th>\n",
       "      <td>F</td>\n",
       "      <td>MARIA ORTIZ</td>\n",
       "      <td>0</td>\n",
       "      <td>0</td>\n",
       "      <td>0</td>\n",
       "      <td>0</td>\n",
       "      <td>0</td>\n",
       "      <td>1</td>\n",
       "      <td>20s</td>\n",
       "      <td>1</td>\n",
       "      <td>41</td>\n",
       "    </tr>\n",
       "    <tr>\n",
       "      <th>110525</th>\n",
       "      <td>F</td>\n",
       "      <td>MARIA ORTIZ</td>\n",
       "      <td>0</td>\n",
       "      <td>0</td>\n",
       "      <td>0</td>\n",
       "      <td>0</td>\n",
       "      <td>0</td>\n",
       "      <td>1</td>\n",
       "      <td>30s</td>\n",
       "      <td>1</td>\n",
       "      <td>41</td>\n",
       "    </tr>\n",
       "    <tr>\n",
       "      <th>110526</th>\n",
       "      <td>F</td>\n",
       "      <td>MARIA ORTIZ</td>\n",
       "      <td>0</td>\n",
       "      <td>0</td>\n",
       "      <td>0</td>\n",
       "      <td>0</td>\n",
       "      <td>0</td>\n",
       "      <td>1</td>\n",
       "      <td>50s</td>\n",
       "      <td>1</td>\n",
       "      <td>41</td>\n",
       "    </tr>\n",
       "  </tbody>\n",
       "</table>\n",
       "</div>"
      ],
      "text/plain": [
       "       Gender Neighbourhood  Scholarship  Hipertension  Diabetes  Alcoholism  \\\n",
       "110522      F   MARIA ORTIZ            0             0         0           0   \n",
       "110523      F   MARIA ORTIZ            0             0         0           0   \n",
       "110524      F   MARIA ORTIZ            0             0         0           0   \n",
       "110525      F   MARIA ORTIZ            0             0         0           0   \n",
       "110526      F   MARIA ORTIZ            0             0         0           0   \n",
       "\n",
       "       Handcap  SMS_received Age_bin AppointmentWeekday  date_diff  \n",
       "110522       0             1     50s                  1         35  \n",
       "110523       0             1     50s                  1         35  \n",
       "110524       0             1     20s                  1         41  \n",
       "110525       0             1     30s                  1         41  \n",
       "110526       0             1     50s                  1         41  "
      ]
     },
     "execution_count": 18,
     "metadata": {},
     "output_type": "execute_result"
    }
   ],
   "source": [
    "dfx.tail()"
   ]
  },
  {
   "cell_type": "markdown",
   "metadata": {},
   "source": [
    "### one hot encoding 적용"
   ]
  },
  {
   "cell_type": "code",
   "execution_count": 19,
   "metadata": {},
   "outputs": [],
   "source": [
    "dfx = pd.get_dummies(dfx, drop_first=True)"
   ]
  },
  {
   "cell_type": "code",
   "execution_count": 21,
   "metadata": {},
   "outputs": [
    {
     "data": {
      "text/html": [
       "<div>\n",
       "<style scoped>\n",
       "    .dataframe tbody tr th:only-of-type {\n",
       "        vertical-align: middle;\n",
       "    }\n",
       "\n",
       "    .dataframe tbody tr th {\n",
       "        vertical-align: top;\n",
       "    }\n",
       "\n",
       "    .dataframe thead th {\n",
       "        text-align: right;\n",
       "    }\n",
       "</style>\n",
       "<table border=\"1\" class=\"dataframe\">\n",
       "  <thead>\n",
       "    <tr style=\"text-align: right;\">\n",
       "      <th></th>\n",
       "      <th>Scholarship</th>\n",
       "      <th>Hipertension</th>\n",
       "      <th>Diabetes</th>\n",
       "      <th>Alcoholism</th>\n",
       "      <th>SMS_received</th>\n",
       "      <th>date_diff</th>\n",
       "      <th>Gender_M</th>\n",
       "      <th>Neighbourhood_ANDORINHAS</th>\n",
       "      <th>Neighbourhood_ANTÔNIO HONÓRIO</th>\n",
       "      <th>Neighbourhood_ARIOVALDO FAVALESSA</th>\n",
       "      <th>...</th>\n",
       "      <th>Age_bin_50s</th>\n",
       "      <th>Age_bin_60s</th>\n",
       "      <th>Age_bin_70s</th>\n",
       "      <th>Age_bin_80s</th>\n",
       "      <th>Age_bin_90s</th>\n",
       "      <th>AppointmentWeekday_1</th>\n",
       "      <th>AppointmentWeekday_2</th>\n",
       "      <th>AppointmentWeekday_3</th>\n",
       "      <th>AppointmentWeekday_4</th>\n",
       "      <th>AppointmentWeekday_5</th>\n",
       "    </tr>\n",
       "  </thead>\n",
       "  <tbody>\n",
       "    <tr>\n",
       "      <th>110522</th>\n",
       "      <td>0</td>\n",
       "      <td>0</td>\n",
       "      <td>0</td>\n",
       "      <td>0</td>\n",
       "      <td>1</td>\n",
       "      <td>35</td>\n",
       "      <td>0</td>\n",
       "      <td>0</td>\n",
       "      <td>0</td>\n",
       "      <td>0</td>\n",
       "      <td>...</td>\n",
       "      <td>1</td>\n",
       "      <td>0</td>\n",
       "      <td>0</td>\n",
       "      <td>0</td>\n",
       "      <td>0</td>\n",
       "      <td>1</td>\n",
       "      <td>0</td>\n",
       "      <td>0</td>\n",
       "      <td>0</td>\n",
       "      <td>0</td>\n",
       "    </tr>\n",
       "    <tr>\n",
       "      <th>110523</th>\n",
       "      <td>0</td>\n",
       "      <td>0</td>\n",
       "      <td>0</td>\n",
       "      <td>0</td>\n",
       "      <td>1</td>\n",
       "      <td>35</td>\n",
       "      <td>0</td>\n",
       "      <td>0</td>\n",
       "      <td>0</td>\n",
       "      <td>0</td>\n",
       "      <td>...</td>\n",
       "      <td>1</td>\n",
       "      <td>0</td>\n",
       "      <td>0</td>\n",
       "      <td>0</td>\n",
       "      <td>0</td>\n",
       "      <td>1</td>\n",
       "      <td>0</td>\n",
       "      <td>0</td>\n",
       "      <td>0</td>\n",
       "      <td>0</td>\n",
       "    </tr>\n",
       "    <tr>\n",
       "      <th>110524</th>\n",
       "      <td>0</td>\n",
       "      <td>0</td>\n",
       "      <td>0</td>\n",
       "      <td>0</td>\n",
       "      <td>1</td>\n",
       "      <td>41</td>\n",
       "      <td>0</td>\n",
       "      <td>0</td>\n",
       "      <td>0</td>\n",
       "      <td>0</td>\n",
       "      <td>...</td>\n",
       "      <td>0</td>\n",
       "      <td>0</td>\n",
       "      <td>0</td>\n",
       "      <td>0</td>\n",
       "      <td>0</td>\n",
       "      <td>1</td>\n",
       "      <td>0</td>\n",
       "      <td>0</td>\n",
       "      <td>0</td>\n",
       "      <td>0</td>\n",
       "    </tr>\n",
       "    <tr>\n",
       "      <th>110525</th>\n",
       "      <td>0</td>\n",
       "      <td>0</td>\n",
       "      <td>0</td>\n",
       "      <td>0</td>\n",
       "      <td>1</td>\n",
       "      <td>41</td>\n",
       "      <td>0</td>\n",
       "      <td>0</td>\n",
       "      <td>0</td>\n",
       "      <td>0</td>\n",
       "      <td>...</td>\n",
       "      <td>0</td>\n",
       "      <td>0</td>\n",
       "      <td>0</td>\n",
       "      <td>0</td>\n",
       "      <td>0</td>\n",
       "      <td>1</td>\n",
       "      <td>0</td>\n",
       "      <td>0</td>\n",
       "      <td>0</td>\n",
       "      <td>0</td>\n",
       "    </tr>\n",
       "    <tr>\n",
       "      <th>110526</th>\n",
       "      <td>0</td>\n",
       "      <td>0</td>\n",
       "      <td>0</td>\n",
       "      <td>0</td>\n",
       "      <td>1</td>\n",
       "      <td>41</td>\n",
       "      <td>0</td>\n",
       "      <td>0</td>\n",
       "      <td>0</td>\n",
       "      <td>0</td>\n",
       "      <td>...</td>\n",
       "      <td>1</td>\n",
       "      <td>0</td>\n",
       "      <td>0</td>\n",
       "      <td>0</td>\n",
       "      <td>0</td>\n",
       "      <td>1</td>\n",
       "      <td>0</td>\n",
       "      <td>0</td>\n",
       "      <td>0</td>\n",
       "      <td>0</td>\n",
       "    </tr>\n",
       "  </tbody>\n",
       "</table>\n",
       "<p>5 rows × 105 columns</p>\n",
       "</div>"
      ],
      "text/plain": [
       "        Scholarship  Hipertension  Diabetes  Alcoholism  SMS_received  \\\n",
       "110522            0             0         0           0             1   \n",
       "110523            0             0         0           0             1   \n",
       "110524            0             0         0           0             1   \n",
       "110525            0             0         0           0             1   \n",
       "110526            0             0         0           0             1   \n",
       "\n",
       "        date_diff  Gender_M  Neighbourhood_ANDORINHAS  \\\n",
       "110522         35         0                         0   \n",
       "110523         35         0                         0   \n",
       "110524         41         0                         0   \n",
       "110525         41         0                         0   \n",
       "110526         41         0                         0   \n",
       "\n",
       "        Neighbourhood_ANTÔNIO HONÓRIO  Neighbourhood_ARIOVALDO FAVALESSA  \\\n",
       "110522                              0                                  0   \n",
       "110523                              0                                  0   \n",
       "110524                              0                                  0   \n",
       "110525                              0                                  0   \n",
       "110526                              0                                  0   \n",
       "\n",
       "                ...           Age_bin_50s  Age_bin_60s  Age_bin_70s  \\\n",
       "110522          ...                     1            0            0   \n",
       "110523          ...                     1            0            0   \n",
       "110524          ...                     0            0            0   \n",
       "110525          ...                     0            0            0   \n",
       "110526          ...                     1            0            0   \n",
       "\n",
       "        Age_bin_80s  Age_bin_90s  AppointmentWeekday_1  AppointmentWeekday_2  \\\n",
       "110522            0            0                     1                     0   \n",
       "110523            0            0                     1                     0   \n",
       "110524            0            0                     1                     0   \n",
       "110525            0            0                     1                     0   \n",
       "110526            0            0                     1                     0   \n",
       "\n",
       "        AppointmentWeekday_3  AppointmentWeekday_4  AppointmentWeekday_5  \n",
       "110522                     0                     0                     0  \n",
       "110523                     0                     0                     0  \n",
       "110524                     0                     0                     0  \n",
       "110525                     0                     0                     0  \n",
       "110526                     0                     0                     0  \n",
       "\n",
       "[5 rows x 105 columns]"
      ]
     },
     "execution_count": 21,
     "metadata": {},
     "output_type": "execute_result"
    }
   ],
   "source": [
    "dfx.tail()"
   ]
  },
  {
   "cell_type": "markdown",
   "metadata": {},
   "source": [
    "### train과 test 데이터로 나누기"
   ]
  },
  {
   "cell_type": "code",
   "execution_count": 11,
   "metadata": {},
   "outputs": [
    {
     "data": {
      "text/plain": [
       "((77364, 97), (33157, 97), (77364,), (33157,))"
      ]
     },
     "execution_count": 11,
     "metadata": {},
     "output_type": "execute_result"
    }
   ],
   "source": [
    "from sklearn.model_selection import train_test_split\n",
    "X_train, X_test, y_train, y_test = train_test_split(dfx, dfy, test_size=0.3, random_state=0)\n",
    "X_train.shape, X_test.shape, y_train.shape, y_test.shape"
   ]
  }
 ],
 "metadata": {
  "kernelspec": {
   "display_name": "Python 3",
   "language": "python",
   "name": "python3"
  },
  "language_info": {
   "codemirror_mode": {
    "name": "ipython",
    "version": 3
   },
   "file_extension": ".py",
   "mimetype": "text/x-python",
   "name": "python",
   "nbconvert_exporter": "python",
   "pygments_lexer": "ipython3",
   "version": "3.7.0"
  }
 },
 "nbformat": 4,
 "nbformat_minor": 2
}
