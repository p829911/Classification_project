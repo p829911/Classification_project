{
 "cells": [
  {
   "cell_type": "markdown",
   "metadata": {},
   "source": [
    "# 데이터 EDA"
   ]
  },
  {
   "cell_type": "code",
   "execution_count": 1,
   "metadata": {},
   "outputs": [],
   "source": [
    "df = pd.read_csv(\"noshow.csv\")"
   ]
  },
  {
   "cell_type": "code",
   "execution_count": 2,
   "metadata": {},
   "outputs": [],
   "source": [
    "df.rename(columns = {\"No-show\": \"No_show\"}, inplace=True)"
   ]
  },
  {
   "cell_type": "markdown",
   "metadata": {},
   "source": [
    "### Age 범주형 변수로 바꾸기"
   ]
  },
  {
   "cell_type": "code",
   "execution_count": 3,
   "metadata": {},
   "outputs": [],
   "source": [
    "df[\"Age_bin\"] = \"0\"\n",
    "df[\"Age_bin\"][df.Age < 10] = \"0s\"\n",
    "df[\"Age_bin\"][(df.Age >= 10) & (df.Age < 20)] = \"10s\"\n",
    "df[\"Age_bin\"][(df.Age >= 20) & (df.Age < 30)] = \"20s\"\n",
    "df[\"Age_bin\"][(df.Age >= 30) & (df.Age < 40)] = \"30s\"\n",
    "df[\"Age_bin\"][(df.Age >= 40) & (df.Age < 50)] = \"40s\"\n",
    "df[\"Age_bin\"][(df.Age >= 50) & (df.Age < 60)] = \"50s\"\n",
    "df[\"Age_bin\"][(df.Age >= 60) & (df.Age < 70)] = \"60s\"\n",
    "df[\"Age_bin\"][(df.Age >= 70) & (df.Age < 80)] = \"70s\"\n",
    "df[\"Age_bin\"][(df.Age >= 80) & (df.Age < 90)] = \"80s\"\n",
    "df[\"Age_bin\"][df.Age >= 90] = \"90s\""
   ]
  },
  {
   "cell_type": "markdown",
   "metadata": {},
   "source": [
    "### 날짜형식 범주형 변수로 바꿔주기"
   ]
  },
  {
   "cell_type": "code",
   "execution_count": 4,
   "metadata": {},
   "outputs": [],
   "source": [
    "df[\"Scheduled_date\"] = df[\"ScheduledDay\"].apply(lambda x: x[:10])\n",
    "df['Scheduled_date'] = pd.to_datetime(df['Scheduled_date'])\n",
    "df['Scheduled_time'] = df['ScheduledDay'].apply(lambda x: x[11:-1])\n",
    "df['Scheduled_time'] = pd.to_timedelta(df['Scheduled_time'])\n",
    "df['Appointment_date'] = df['AppointmentDay'].apply(lambda x: x[:10])\n",
    "df['Appointment_date'] = pd.to_datetime(df['Appointment_date'])\n",
    "df['Appointment_time'] = df['AppointmentDay'].apply(lambda x: x[11:-1])\n",
    "df['Appointment_time'] = pd.to_timedelta(df['Appointment_time'])\n",
    "df['Appointmentweekday'] = pd.to_timedelta(df['Appointment_time'])\n",
    "df = df.drop(columns = \"Appointment_time\")"
   ]
  },
  {
   "cell_type": "code",
   "execution_count": 5,
   "metadata": {},
   "outputs": [],
   "source": [
    "df[\"date_diff\"] = df.Appointment_date - df.Scheduled_date"
   ]
  },
  {
   "cell_type": "code",
   "execution_count": 6,
   "metadata": {},
   "outputs": [],
   "source": [
    "df.date_diff = df.date_diff.apply(lambda x: int(str(x).split(\"days\")[0]))"
   ]
  },
  {
   "cell_type": "markdown",
   "metadata": {},
   "source": [
    "### Age가 음수이거나 date_diff가 음수인 데이터 빼주기"
   ]
  },
  {
   "cell_type": "code",
   "execution_count": 7,
   "metadata": {},
   "outputs": [],
   "source": [
    "df = df[df.Age >= 0]"
   ]
  },
  {
   "cell_type": "code",
   "execution_count": 8,
   "metadata": {},
   "outputs": [],
   "source": [
    "df = df[df.date_diff >= 0]"
   ]
  },
  {
   "cell_type": "markdown",
   "metadata": {},
   "source": [
    "### dfx와 dfy로 나눠주기"
   ]
  },
  {
   "cell_type": "code",
   "execution_count": 9,
   "metadata": {},
   "outputs": [],
   "source": [
    "dfx = df.drop(columns=[\"PatientId\", \"AppointmentID\", \"ScheduledDay\", \"AppointmentDay\", \"Age\", \"No_show\", \"Scheduled_date\", \"Scheduled_time\", \"Appointment_date\"], axis=1)\n",
    "dfy = df[\"No_show\"]"
   ]
  },
  {
   "cell_type": "markdown",
   "metadata": {},
   "source": [
    "### one hot encoding 적용"
   ]
  },
  {
   "cell_type": "code",
   "execution_count": 10,
   "metadata": {},
   "outputs": [],
   "source": [
    "dfx = pd.get_dummies(dfx, drop_first=True)"
   ]
  },
  {
   "cell_type": "markdown",
   "metadata": {},
   "source": [
    "### train과 test 데이터로 나누기"
   ]
  },
  {
   "cell_type": "code",
   "execution_count": 11,
   "metadata": {},
   "outputs": [
    {
     "data": {
      "text/plain": [
       "((77364, 97), (33157, 97), (77364,), (33157,))"
      ]
     },
     "execution_count": 11,
     "metadata": {},
     "output_type": "execute_result"
    }
   ],
   "source": [
    "from sklearn.model_selection import train_test_split\n",
    "X_train, X_test, y_train, y_test = train_test_split(dfx, dfy, test_size=0.3, random_state=0)\n",
    "X_train.shape, X_test.shape, y_train.shape, y_test.shape"
   ]
  },
  {
   "cell_type": "code",
   "execution_count": null,
   "metadata": {},
   "outputs": [],
   "source": []
  }
 ],
 "metadata": {
  "kernelspec": {
   "display_name": "Python 3",
   "language": "python",
   "name": "python3"
  },
  "language_info": {
   "codemirror_mode": {
    "name": "ipython",
    "version": 3
   },
   "file_extension": ".py",
   "mimetype": "text/x-python",
   "name": "python",
   "nbconvert_exporter": "python",
   "pygments_lexer": "ipython3",
   "version": "3.7.1"
  }
 },
 "nbformat": 4,
 "nbformat_minor": 2
}
