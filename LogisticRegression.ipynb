{
 "cells": [
  {
   "cell_type": "markdown",
   "metadata": {},
   "source": [
    "# 데이터 전처리"
   ]
  },
  {
   "cell_type": "code",
   "execution_count": 1,
   "metadata": {},
   "outputs": [],
   "source": [
    "import numpy as np\n",
    "import pandas as pd\n",
    "import statsmodels.api as sm\n",
    "import sklearn as sk\n",
    "import matplotlib as mpl\n",
    "import matplotlib.pylab as plt\n",
    "import seaborn as sns\n",
    "sns.set()\n",
    "sns.set_style(\"whitegrid\")\n",
    "sns.set_color_codes()\n",
    "from imblearn.combine import *\n",
    "from sklearn.metrics import confusion_matrix, accuracy_score, classification_report, roc_curve, auc\n",
    "from sklearn.model_selection import train_test_split\n",
    "from sklearn.linear_model import LogisticRegression"
   ]
  },
  {
   "cell_type": "code",
   "execution_count": 2,
   "metadata": {},
   "outputs": [],
   "source": [
    "df = pd.read_csv(\"noshow.csv\")"
   ]
  },
  {
   "cell_type": "code",
   "execution_count": null,
   "metadata": {},
   "outputs": [],
   "source": [
    "df.tail()"
   ]
  },
  {
   "cell_type": "code",
   "execution_count": 3,
   "metadata": {},
   "outputs": [
    {
     "data": {
      "text/html": [
       "<div>\n",
       "<style scoped>\n",
       "    .dataframe tbody tr th:only-of-type {\n",
       "        vertical-align: middle;\n",
       "    }\n",
       "\n",
       "    .dataframe tbody tr th {\n",
       "        vertical-align: top;\n",
       "    }\n",
       "\n",
       "    .dataframe thead th {\n",
       "        text-align: right;\n",
       "    }\n",
       "</style>\n",
       "<table border=\"1\" class=\"dataframe\">\n",
       "  <thead>\n",
       "    <tr style=\"text-align: right;\">\n",
       "      <th></th>\n",
       "      <th>region</th>\n",
       "      <th>temperature</th>\n",
       "      <th>time</th>\n",
       "      <th>weather</th>\n",
       "    </tr>\n",
       "  </thead>\n",
       "  <tbody>\n",
       "    <tr>\n",
       "      <th>2171</th>\n",
       "      <td>CENTRO</td>\n",
       "      <td>14.905556</td>\n",
       "      <td>1.462493e+09</td>\n",
       "      <td>Clear</td>\n",
       "    </tr>\n",
       "    <tr>\n",
       "      <th>2172</th>\n",
       "      <td>SÃO BENEDITO</td>\n",
       "      <td>28.127778</td>\n",
       "      <td>1.465258e+09</td>\n",
       "      <td>Humid</td>\n",
       "    </tr>\n",
       "    <tr>\n",
       "      <th>2173</th>\n",
       "      <td>ITARARÉ</td>\n",
       "      <td>11.816667</td>\n",
       "      <td>1.465258e+09</td>\n",
       "      <td>Mostly Cloudy</td>\n",
       "    </tr>\n",
       "    <tr>\n",
       "      <th>2174</th>\n",
       "      <td>SANTA CLARA</td>\n",
       "      <td>9.900000</td>\n",
       "      <td>1.465258e+09</td>\n",
       "      <td>Partly Cloudy</td>\n",
       "    </tr>\n",
       "    <tr>\n",
       "      <th>2175</th>\n",
       "      <td>CENTRO</td>\n",
       "      <td>9.955556</td>\n",
       "      <td>1.465258e+09</td>\n",
       "      <td>Partly Cloudy</td>\n",
       "    </tr>\n",
       "  </tbody>\n",
       "</table>\n",
       "</div>"
      ],
      "text/plain": [
       "            region  temperature          time        weather\n",
       "2171        CENTRO    14.905556  1.462493e+09          Clear\n",
       "2172  SÃO BENEDITO    28.127778  1.465258e+09          Humid\n",
       "2173       ITARARÉ    11.816667  1.465258e+09  Mostly Cloudy\n",
       "2174   SANTA CLARA     9.900000  1.465258e+09  Partly Cloudy\n",
       "2175        CENTRO     9.955556  1.465258e+09  Partly Cloudy"
      ]
     },
     "execution_count": 3,
     "metadata": {},
     "output_type": "execute_result"
    }
   ],
   "source": [
    "region_weather = pd.read_csv(\"region_weather.csv\")\n",
    "region_weather.tail()"
   ]
  },
  {
   "cell_type": "code",
   "execution_count": 4,
   "metadata": {},
   "outputs": [],
   "source": [
    "import time\n",
    "region_weather.time = region_weather.time.apply(lambda x: time.strftime(\"%Y-%m-%d\", time.localtime(int(x))))"
   ]
  },
  {
   "cell_type": "markdown",
   "metadata": {},
   "source": [
    "### Age 범주형 변수로 바꾸기"
   ]
  },
  {
   "cell_type": "code",
   "execution_count": 5,
   "metadata": {},
   "outputs": [],
   "source": [
    "df[\"Age_bin\"] = \"0\"\n",
    "df[\"Age_bin\"][df.Age < 10] = \"0s\"\n",
    "df[\"Age_bin\"][(df.Age >= 10) & (df.Age < 20)] = \"10s\"\n",
    "df[\"Age_bin\"][(df.Age >= 20) & (df.Age < 30)] = \"20s\"\n",
    "df[\"Age_bin\"][(df.Age >= 30) & (df.Age < 40)] = \"30s\"\n",
    "df[\"Age_bin\"][(df.Age >= 40) & (df.Age < 50)] = \"40s\"\n",
    "df[\"Age_bin\"][(df.Age >= 50) & (df.Age < 60)] = \"50s\"\n",
    "df[\"Age_bin\"][(df.Age >= 60) & (df.Age < 70)] = \"60s\"\n",
    "df[\"Age_bin\"][(df.Age >= 70) & (df.Age < 80)] = \"70s\"\n",
    "df[\"Age_bin\"][(df.Age >= 80) & (df.Age < 90)] = \"80s\"\n",
    "df[\"Age_bin\"][df.Age >= 90] = \"90s\""
   ]
  },
  {
   "cell_type": "markdown",
   "metadata": {},
   "source": [
    "### 날짜형식 범주형 변수로 바꿔주기"
   ]
  },
  {
   "cell_type": "code",
   "execution_count": 6,
   "metadata": {},
   "outputs": [],
   "source": [
    "df[\"Scheduled_date\"] = df[\"ScheduledDay\"].apply(lambda x: x[:10])\n",
    "df['Scheduled_date'] = pd.to_datetime(df['Scheduled_date'])\n",
    "df['Scheduled_time'] = df['ScheduledDay'].apply(lambda x: x[11:-1])\n",
    "df['Scheduled_time'] = pd.to_timedelta(df['Scheduled_time'])\n",
    "df['Appointment_date'] = df['AppointmentDay'].apply(lambda x: x[:10])\n",
    "df['Appointment_date'] = pd.to_datetime(df['Appointment_date'])\n",
    "df['Appointment_time'] = df['AppointmentDay'].apply(lambda x: x[11:-1])\n",
    "df['Appointment_time'] = pd.to_timedelta(df['Appointment_time'])\n",
    "df = df.drop(columns = \"Appointment_time\")"
   ]
  },
  {
   "cell_type": "code",
   "execution_count": 7,
   "metadata": {},
   "outputs": [],
   "source": [
    "df[\"date_diff\"] = df.Appointment_date - df.Scheduled_date"
   ]
  },
  {
   "cell_type": "code",
   "execution_count": 8,
   "metadata": {},
   "outputs": [],
   "source": [
    "df.date_diff = df.date_diff.apply(lambda x: int(str(x).split(\"days\")[0]))"
   ]
  },
  {
   "cell_type": "markdown",
   "metadata": {},
   "source": [
    "### Handcap 범주형 변수로 바꾸기"
   ]
  },
  {
   "cell_type": "code",
   "execution_count": 9,
   "metadata": {},
   "outputs": [],
   "source": [
    "df.Handcap = pd.Categorical(df.Handcap)"
   ]
  },
  {
   "cell_type": "markdown",
   "metadata": {},
   "source": [
    "### Age가 음수이거나 date_diff가 음수인 데이터 빼주기"
   ]
  },
  {
   "cell_type": "code",
   "execution_count": 10,
   "metadata": {},
   "outputs": [],
   "source": [
    "df = df[df.Age >= 0]"
   ]
  },
  {
   "cell_type": "code",
   "execution_count": 11,
   "metadata": {},
   "outputs": [],
   "source": [
    "df = df[df.date_diff >= 0]"
   ]
  },
  {
   "cell_type": "code",
   "execution_count": 12,
   "metadata": {},
   "outputs": [
    {
     "data": {
      "text/html": [
       "<div>\n",
       "<style scoped>\n",
       "    .dataframe tbody tr th:only-of-type {\n",
       "        vertical-align: middle;\n",
       "    }\n",
       "\n",
       "    .dataframe tbody tr th {\n",
       "        vertical-align: top;\n",
       "    }\n",
       "\n",
       "    .dataframe thead th {\n",
       "        text-align: right;\n",
       "    }\n",
       "</style>\n",
       "<table border=\"1\" class=\"dataframe\">\n",
       "  <thead>\n",
       "    <tr style=\"text-align: right;\">\n",
       "      <th></th>\n",
       "      <th>PatientId</th>\n",
       "      <th>AppointmentID</th>\n",
       "      <th>Gender</th>\n",
       "      <th>ScheduledDay</th>\n",
       "      <th>AppointmentDay</th>\n",
       "      <th>Age</th>\n",
       "      <th>Neighbourhood</th>\n",
       "      <th>Scholarship</th>\n",
       "      <th>Hipertension</th>\n",
       "      <th>Diabetes</th>\n",
       "      <th>Alcoholism</th>\n",
       "      <th>Handcap</th>\n",
       "      <th>SMS_received</th>\n",
       "      <th>No-show</th>\n",
       "      <th>Age_bin</th>\n",
       "      <th>Scheduled_date</th>\n",
       "      <th>Scheduled_time</th>\n",
       "      <th>Appointment_date</th>\n",
       "      <th>date_diff</th>\n",
       "    </tr>\n",
       "  </thead>\n",
       "  <tbody>\n",
       "    <tr>\n",
       "      <th>110522</th>\n",
       "      <td>2.572134e+12</td>\n",
       "      <td>5651768</td>\n",
       "      <td>F</td>\n",
       "      <td>2016-05-03T09:15:35Z</td>\n",
       "      <td>2016-06-07T00:00:00Z</td>\n",
       "      <td>56</td>\n",
       "      <td>MARIA ORTIZ</td>\n",
       "      <td>0</td>\n",
       "      <td>0</td>\n",
       "      <td>0</td>\n",
       "      <td>0</td>\n",
       "      <td>0</td>\n",
       "      <td>1</td>\n",
       "      <td>No</td>\n",
       "      <td>50s</td>\n",
       "      <td>2016-05-03</td>\n",
       "      <td>09:15:35</td>\n",
       "      <td>2016-06-07</td>\n",
       "      <td>35</td>\n",
       "    </tr>\n",
       "    <tr>\n",
       "      <th>110523</th>\n",
       "      <td>3.596266e+12</td>\n",
       "      <td>5650093</td>\n",
       "      <td>F</td>\n",
       "      <td>2016-05-03T07:27:33Z</td>\n",
       "      <td>2016-06-07T00:00:00Z</td>\n",
       "      <td>51</td>\n",
       "      <td>MARIA ORTIZ</td>\n",
       "      <td>0</td>\n",
       "      <td>0</td>\n",
       "      <td>0</td>\n",
       "      <td>0</td>\n",
       "      <td>0</td>\n",
       "      <td>1</td>\n",
       "      <td>No</td>\n",
       "      <td>50s</td>\n",
       "      <td>2016-05-03</td>\n",
       "      <td>07:27:33</td>\n",
       "      <td>2016-06-07</td>\n",
       "      <td>35</td>\n",
       "    </tr>\n",
       "    <tr>\n",
       "      <th>110524</th>\n",
       "      <td>1.557663e+13</td>\n",
       "      <td>5630692</td>\n",
       "      <td>F</td>\n",
       "      <td>2016-04-27T16:03:52Z</td>\n",
       "      <td>2016-06-07T00:00:00Z</td>\n",
       "      <td>21</td>\n",
       "      <td>MARIA ORTIZ</td>\n",
       "      <td>0</td>\n",
       "      <td>0</td>\n",
       "      <td>0</td>\n",
       "      <td>0</td>\n",
       "      <td>0</td>\n",
       "      <td>1</td>\n",
       "      <td>No</td>\n",
       "      <td>20s</td>\n",
       "      <td>2016-04-27</td>\n",
       "      <td>16:03:52</td>\n",
       "      <td>2016-06-07</td>\n",
       "      <td>41</td>\n",
       "    </tr>\n",
       "    <tr>\n",
       "      <th>110525</th>\n",
       "      <td>9.213493e+13</td>\n",
       "      <td>5630323</td>\n",
       "      <td>F</td>\n",
       "      <td>2016-04-27T15:09:23Z</td>\n",
       "      <td>2016-06-07T00:00:00Z</td>\n",
       "      <td>38</td>\n",
       "      <td>MARIA ORTIZ</td>\n",
       "      <td>0</td>\n",
       "      <td>0</td>\n",
       "      <td>0</td>\n",
       "      <td>0</td>\n",
       "      <td>0</td>\n",
       "      <td>1</td>\n",
       "      <td>No</td>\n",
       "      <td>30s</td>\n",
       "      <td>2016-04-27</td>\n",
       "      <td>15:09:23</td>\n",
       "      <td>2016-06-07</td>\n",
       "      <td>41</td>\n",
       "    </tr>\n",
       "    <tr>\n",
       "      <th>110526</th>\n",
       "      <td>3.775115e+14</td>\n",
       "      <td>5629448</td>\n",
       "      <td>F</td>\n",
       "      <td>2016-04-27T13:30:56Z</td>\n",
       "      <td>2016-06-07T00:00:00Z</td>\n",
       "      <td>54</td>\n",
       "      <td>MARIA ORTIZ</td>\n",
       "      <td>0</td>\n",
       "      <td>0</td>\n",
       "      <td>0</td>\n",
       "      <td>0</td>\n",
       "      <td>0</td>\n",
       "      <td>1</td>\n",
       "      <td>No</td>\n",
       "      <td>50s</td>\n",
       "      <td>2016-04-27</td>\n",
       "      <td>13:30:56</td>\n",
       "      <td>2016-06-07</td>\n",
       "      <td>41</td>\n",
       "    </tr>\n",
       "  </tbody>\n",
       "</table>\n",
       "</div>"
      ],
      "text/plain": [
       "           PatientId  AppointmentID Gender          ScheduledDay  \\\n",
       "110522  2.572134e+12        5651768      F  2016-05-03T09:15:35Z   \n",
       "110523  3.596266e+12        5650093      F  2016-05-03T07:27:33Z   \n",
       "110524  1.557663e+13        5630692      F  2016-04-27T16:03:52Z   \n",
       "110525  9.213493e+13        5630323      F  2016-04-27T15:09:23Z   \n",
       "110526  3.775115e+14        5629448      F  2016-04-27T13:30:56Z   \n",
       "\n",
       "              AppointmentDay  Age Neighbourhood  Scholarship  Hipertension  \\\n",
       "110522  2016-06-07T00:00:00Z   56   MARIA ORTIZ            0             0   \n",
       "110523  2016-06-07T00:00:00Z   51   MARIA ORTIZ            0             0   \n",
       "110524  2016-06-07T00:00:00Z   21   MARIA ORTIZ            0             0   \n",
       "110525  2016-06-07T00:00:00Z   38   MARIA ORTIZ            0             0   \n",
       "110526  2016-06-07T00:00:00Z   54   MARIA ORTIZ            0             0   \n",
       "\n",
       "        Diabetes  Alcoholism Handcap  SMS_received No-show Age_bin  \\\n",
       "110522         0           0       0             1      No     50s   \n",
       "110523         0           0       0             1      No     50s   \n",
       "110524         0           0       0             1      No     20s   \n",
       "110525         0           0       0             1      No     30s   \n",
       "110526         0           0       0             1      No     50s   \n",
       "\n",
       "       Scheduled_date Scheduled_time Appointment_date  date_diff  \n",
       "110522     2016-05-03       09:15:35       2016-06-07         35  \n",
       "110523     2016-05-03       07:27:33       2016-06-07         35  \n",
       "110524     2016-04-27       16:03:52       2016-06-07         41  \n",
       "110525     2016-04-27       15:09:23       2016-06-07         41  \n",
       "110526     2016-04-27       13:30:56       2016-06-07         41  "
      ]
     },
     "execution_count": 12,
     "metadata": {},
     "output_type": "execute_result"
    }
   ],
   "source": [
    "df.tail()"
   ]
  },
  {
   "cell_type": "code",
   "execution_count": 13,
   "metadata": {},
   "outputs": [
    {
     "data": {
      "text/html": [
       "<div>\n",
       "<style scoped>\n",
       "    .dataframe tbody tr th:only-of-type {\n",
       "        vertical-align: middle;\n",
       "    }\n",
       "\n",
       "    .dataframe tbody tr th {\n",
       "        vertical-align: top;\n",
       "    }\n",
       "\n",
       "    .dataframe thead th {\n",
       "        text-align: right;\n",
       "    }\n",
       "</style>\n",
       "<table border=\"1\" class=\"dataframe\">\n",
       "  <thead>\n",
       "    <tr style=\"text-align: right;\">\n",
       "      <th></th>\n",
       "      <th>region</th>\n",
       "      <th>temperature</th>\n",
       "      <th>time</th>\n",
       "      <th>weather</th>\n",
       "    </tr>\n",
       "  </thead>\n",
       "  <tbody>\n",
       "    <tr>\n",
       "      <th>2171</th>\n",
       "      <td>CENTRO</td>\n",
       "      <td>14.905556</td>\n",
       "      <td>2016-05-06</td>\n",
       "      <td>Clear</td>\n",
       "    </tr>\n",
       "    <tr>\n",
       "      <th>2172</th>\n",
       "      <td>SÃO BENEDITO</td>\n",
       "      <td>28.127778</td>\n",
       "      <td>2016-06-07</td>\n",
       "      <td>Humid</td>\n",
       "    </tr>\n",
       "    <tr>\n",
       "      <th>2173</th>\n",
       "      <td>ITARARÉ</td>\n",
       "      <td>11.816667</td>\n",
       "      <td>2016-06-07</td>\n",
       "      <td>Mostly Cloudy</td>\n",
       "    </tr>\n",
       "    <tr>\n",
       "      <th>2174</th>\n",
       "      <td>SANTA CLARA</td>\n",
       "      <td>9.900000</td>\n",
       "      <td>2016-06-07</td>\n",
       "      <td>Partly Cloudy</td>\n",
       "    </tr>\n",
       "    <tr>\n",
       "      <th>2175</th>\n",
       "      <td>CENTRO</td>\n",
       "      <td>9.955556</td>\n",
       "      <td>2016-06-07</td>\n",
       "      <td>Partly Cloudy</td>\n",
       "    </tr>\n",
       "  </tbody>\n",
       "</table>\n",
       "</div>"
      ],
      "text/plain": [
       "            region  temperature        time        weather\n",
       "2171        CENTRO    14.905556  2016-05-06          Clear\n",
       "2172  SÃO BENEDITO    28.127778  2016-06-07          Humid\n",
       "2173       ITARARÉ    11.816667  2016-06-07  Mostly Cloudy\n",
       "2174   SANTA CLARA     9.900000  2016-06-07  Partly Cloudy\n",
       "2175        CENTRO     9.955556  2016-06-07  Partly Cloudy"
      ]
     },
     "execution_count": 13,
     "metadata": {},
     "output_type": "execute_result"
    }
   ],
   "source": [
    "region_weather.tail()"
   ]
  },
  {
   "cell_type": "code",
   "execution_count": 14,
   "metadata": {},
   "outputs": [],
   "source": [
    "region_weather.time = pd.to_datetime(region_weather.time)"
   ]
  },
  {
   "cell_type": "code",
   "execution_count": 15,
   "metadata": {},
   "outputs": [],
   "source": [
    "df_sum = pd.merge(df, region_weather, how=\"inner\", left_on=[\"Neighbourhood\", \"Appointment_date\"], right_on=[\"region\", \"time\"])"
   ]
  },
  {
   "cell_type": "code",
   "execution_count": 16,
   "metadata": {},
   "outputs": [
    {
     "data": {
      "text/html": [
       "<div>\n",
       "<style scoped>\n",
       "    .dataframe tbody tr th:only-of-type {\n",
       "        vertical-align: middle;\n",
       "    }\n",
       "\n",
       "    .dataframe tbody tr th {\n",
       "        vertical-align: top;\n",
       "    }\n",
       "\n",
       "    .dataframe thead th {\n",
       "        text-align: right;\n",
       "    }\n",
       "</style>\n",
       "<table border=\"1\" class=\"dataframe\">\n",
       "  <thead>\n",
       "    <tr style=\"text-align: right;\">\n",
       "      <th></th>\n",
       "      <th>PatientId</th>\n",
       "      <th>AppointmentID</th>\n",
       "      <th>Gender</th>\n",
       "      <th>ScheduledDay</th>\n",
       "      <th>AppointmentDay</th>\n",
       "      <th>Age</th>\n",
       "      <th>Neighbourhood</th>\n",
       "      <th>Scholarship</th>\n",
       "      <th>Hipertension</th>\n",
       "      <th>Diabetes</th>\n",
       "      <th>...</th>\n",
       "      <th>No-show</th>\n",
       "      <th>Age_bin</th>\n",
       "      <th>Scheduled_date</th>\n",
       "      <th>Scheduled_time</th>\n",
       "      <th>Appointment_date</th>\n",
       "      <th>date_diff</th>\n",
       "      <th>region</th>\n",
       "      <th>temperature</th>\n",
       "      <th>time</th>\n",
       "      <th>weather</th>\n",
       "    </tr>\n",
       "  </thead>\n",
       "  <tbody>\n",
       "    <tr>\n",
       "      <th>110515</th>\n",
       "      <td>7.469735e+14</td>\n",
       "      <td>5621289</td>\n",
       "      <td>F</td>\n",
       "      <td>2016-04-26T10:06:18Z</td>\n",
       "      <td>2016-06-06T00:00:00Z</td>\n",
       "      <td>65</td>\n",
       "      <td>NAZARETH</td>\n",
       "      <td>0</td>\n",
       "      <td>0</td>\n",
       "      <td>0</td>\n",
       "      <td>...</td>\n",
       "      <td>No</td>\n",
       "      <td>60s</td>\n",
       "      <td>2016-04-26</td>\n",
       "      <td>10:06:18</td>\n",
       "      <td>2016-06-06</td>\n",
       "      <td>41</td>\n",
       "      <td>NAZARETH</td>\n",
       "      <td>25.427778</td>\n",
       "      <td>2016-06-06</td>\n",
       "      <td>Humid</td>\n",
       "    </tr>\n",
       "    <tr>\n",
       "      <th>110516</th>\n",
       "      <td>3.876254e+11</td>\n",
       "      <td>5621303</td>\n",
       "      <td>F</td>\n",
       "      <td>2016-04-26T10:06:48Z</td>\n",
       "      <td>2016-06-06T00:00:00Z</td>\n",
       "      <td>39</td>\n",
       "      <td>NAZARETH</td>\n",
       "      <td>0</td>\n",
       "      <td>0</td>\n",
       "      <td>0</td>\n",
       "      <td>...</td>\n",
       "      <td>Yes</td>\n",
       "      <td>30s</td>\n",
       "      <td>2016-04-26</td>\n",
       "      <td>10:06:48</td>\n",
       "      <td>2016-06-06</td>\n",
       "      <td>41</td>\n",
       "      <td>NAZARETH</td>\n",
       "      <td>25.427778</td>\n",
       "      <td>2016-06-06</td>\n",
       "      <td>Humid</td>\n",
       "    </tr>\n",
       "    <tr>\n",
       "      <th>110517</th>\n",
       "      <td>5.881500e+12</td>\n",
       "      <td>5621251</td>\n",
       "      <td>M</td>\n",
       "      <td>2016-04-26T10:03:39Z</td>\n",
       "      <td>2016-06-06T00:00:00Z</td>\n",
       "      <td>65</td>\n",
       "      <td>NAZARETH</td>\n",
       "      <td>0</td>\n",
       "      <td>0</td>\n",
       "      <td>0</td>\n",
       "      <td>...</td>\n",
       "      <td>No</td>\n",
       "      <td>60s</td>\n",
       "      <td>2016-04-26</td>\n",
       "      <td>10:03:39</td>\n",
       "      <td>2016-06-06</td>\n",
       "      <td>41</td>\n",
       "      <td>NAZARETH</td>\n",
       "      <td>25.427778</td>\n",
       "      <td>2016-06-06</td>\n",
       "      <td>Humid</td>\n",
       "    </tr>\n",
       "    <tr>\n",
       "      <th>110518</th>\n",
       "      <td>9.255818e+13</td>\n",
       "      <td>5774386</td>\n",
       "      <td>M</td>\n",
       "      <td>2016-06-06T08:12:05Z</td>\n",
       "      <td>2016-06-06T00:00:00Z</td>\n",
       "      <td>59</td>\n",
       "      <td>AEROPORTO</td>\n",
       "      <td>0</td>\n",
       "      <td>0</td>\n",
       "      <td>0</td>\n",
       "      <td>...</td>\n",
       "      <td>No</td>\n",
       "      <td>50s</td>\n",
       "      <td>2016-06-06</td>\n",
       "      <td>08:12:05</td>\n",
       "      <td>2016-06-06</td>\n",
       "      <td>0</td>\n",
       "      <td>AEROPORTO</td>\n",
       "      <td>25.638889</td>\n",
       "      <td>2016-06-06</td>\n",
       "      <td>Humid</td>\n",
       "    </tr>\n",
       "    <tr>\n",
       "      <th>110519</th>\n",
       "      <td>3.489871e+11</td>\n",
       "      <td>5752392</td>\n",
       "      <td>M</td>\n",
       "      <td>2016-05-31T11:41:21Z</td>\n",
       "      <td>2016-06-02T00:00:00Z</td>\n",
       "      <td>36</td>\n",
       "      <td>ILHA DO BOI</td>\n",
       "      <td>0</td>\n",
       "      <td>0</td>\n",
       "      <td>0</td>\n",
       "      <td>...</td>\n",
       "      <td>No</td>\n",
       "      <td>30s</td>\n",
       "      <td>2016-05-31</td>\n",
       "      <td>11:41:21</td>\n",
       "      <td>2016-06-02</td>\n",
       "      <td>2</td>\n",
       "      <td>ILHA DO BOI</td>\n",
       "      <td>22.950000</td>\n",
       "      <td>2016-06-02</td>\n",
       "      <td>Mostly Cloudy</td>\n",
       "    </tr>\n",
       "  </tbody>\n",
       "</table>\n",
       "<p>5 rows × 23 columns</p>\n",
       "</div>"
      ],
      "text/plain": [
       "           PatientId  AppointmentID Gender          ScheduledDay  \\\n",
       "110515  7.469735e+14        5621289      F  2016-04-26T10:06:18Z   \n",
       "110516  3.876254e+11        5621303      F  2016-04-26T10:06:48Z   \n",
       "110517  5.881500e+12        5621251      M  2016-04-26T10:03:39Z   \n",
       "110518  9.255818e+13        5774386      M  2016-06-06T08:12:05Z   \n",
       "110519  3.489871e+11        5752392      M  2016-05-31T11:41:21Z   \n",
       "\n",
       "              AppointmentDay  Age Neighbourhood  Scholarship  Hipertension  \\\n",
       "110515  2016-06-06T00:00:00Z   65      NAZARETH            0             0   \n",
       "110516  2016-06-06T00:00:00Z   39      NAZARETH            0             0   \n",
       "110517  2016-06-06T00:00:00Z   65      NAZARETH            0             0   \n",
       "110518  2016-06-06T00:00:00Z   59     AEROPORTO            0             0   \n",
       "110519  2016-06-02T00:00:00Z   36   ILHA DO BOI            0             0   \n",
       "\n",
       "        Diabetes      ...        No-show Age_bin  Scheduled_date  \\\n",
       "110515         0      ...             No     60s      2016-04-26   \n",
       "110516         0      ...            Yes     30s      2016-04-26   \n",
       "110517         0      ...             No     60s      2016-04-26   \n",
       "110518         0      ...             No     50s      2016-06-06   \n",
       "110519         0      ...             No     30s      2016-05-31   \n",
       "\n",
       "       Scheduled_time Appointment_date date_diff       region temperature  \\\n",
       "110515       10:06:18       2016-06-06        41     NAZARETH   25.427778   \n",
       "110516       10:06:48       2016-06-06        41     NAZARETH   25.427778   \n",
       "110517       10:03:39       2016-06-06        41     NAZARETH   25.427778   \n",
       "110518       08:12:05       2016-06-06         0    AEROPORTO   25.638889   \n",
       "110519       11:41:21       2016-06-02         2  ILHA DO BOI   22.950000   \n",
       "\n",
       "             time        weather  \n",
       "110515 2016-06-06          Humid  \n",
       "110516 2016-06-06          Humid  \n",
       "110517 2016-06-06          Humid  \n",
       "110518 2016-06-06          Humid  \n",
       "110519 2016-06-02  Mostly Cloudy  \n",
       "\n",
       "[5 rows x 23 columns]"
      ]
     },
     "execution_count": 16,
     "metadata": {},
     "output_type": "execute_result"
    }
   ],
   "source": [
    "df_sum.tail()"
   ]
  },
  {
   "cell_type": "code",
   "execution_count": 17,
   "metadata": {},
   "outputs": [
    {
     "data": {
      "text/html": [
       "<div>\n",
       "<style scoped>\n",
       "    .dataframe tbody tr th:only-of-type {\n",
       "        vertical-align: middle;\n",
       "    }\n",
       "\n",
       "    .dataframe tbody tr th {\n",
       "        vertical-align: top;\n",
       "    }\n",
       "\n",
       "    .dataframe thead th {\n",
       "        text-align: right;\n",
       "    }\n",
       "</style>\n",
       "<table border=\"1\" class=\"dataframe\">\n",
       "  <thead>\n",
       "    <tr style=\"text-align: right;\">\n",
       "      <th></th>\n",
       "      <th>PatientId</th>\n",
       "      <th>AppointmentID</th>\n",
       "      <th>Age</th>\n",
       "      <th>Scholarship</th>\n",
       "      <th>Hipertension</th>\n",
       "      <th>Diabetes</th>\n",
       "      <th>Alcoholism</th>\n",
       "      <th>SMS_received</th>\n",
       "      <th>date_diff</th>\n",
       "      <th>temperature</th>\n",
       "    </tr>\n",
       "    <tr>\n",
       "      <th>No-show</th>\n",
       "      <th></th>\n",
       "      <th></th>\n",
       "      <th></th>\n",
       "      <th></th>\n",
       "      <th></th>\n",
       "      <th></th>\n",
       "      <th></th>\n",
       "      <th></th>\n",
       "      <th></th>\n",
       "      <th></th>\n",
       "    </tr>\n",
       "  </thead>\n",
       "  <tbody>\n",
       "    <tr>\n",
       "      <th>No</th>\n",
       "      <td>1.476825e+14</td>\n",
       "      <td>5.681136e+06</td>\n",
       "      <td>37.790740</td>\n",
       "      <td>0.093905</td>\n",
       "      <td>0.204397</td>\n",
       "      <td>0.073839</td>\n",
       "      <td>0.030417</td>\n",
       "      <td>0.291341</td>\n",
       "      <td>8.754858</td>\n",
       "      <td>22.859089</td>\n",
       "    </tr>\n",
       "    <tr>\n",
       "      <th>Yes</th>\n",
       "      <td>1.467385e+14</td>\n",
       "      <td>5.652252e+06</td>\n",
       "      <td>34.317872</td>\n",
       "      <td>0.115533</td>\n",
       "      <td>0.169042</td>\n",
       "      <td>0.064085</td>\n",
       "      <td>0.030340</td>\n",
       "      <td>0.438469</td>\n",
       "      <td>15.835484</td>\n",
       "      <td>22.714594</td>\n",
       "    </tr>\n",
       "  </tbody>\n",
       "</table>\n",
       "</div>"
      ],
      "text/plain": [
       "            PatientId  AppointmentID        Age  Scholarship  Hipertension  \\\n",
       "No-show                                                                      \n",
       "No       1.476825e+14   5.681136e+06  37.790740     0.093905      0.204397   \n",
       "Yes      1.467385e+14   5.652252e+06  34.317872     0.115533      0.169042   \n",
       "\n",
       "         Diabetes  Alcoholism  SMS_received  date_diff  temperature  \n",
       "No-show                                                              \n",
       "No       0.073839    0.030417      0.291341   8.754858    22.859089  \n",
       "Yes      0.064085    0.030340      0.438469  15.835484    22.714594  "
      ]
     },
     "execution_count": 17,
     "metadata": {},
     "output_type": "execute_result"
    }
   ],
   "source": [
    "df_sum.groupby(\"No-show\").mean()"
   ]
  },
  {
   "cell_type": "code",
   "execution_count": 18,
   "metadata": {},
   "outputs": [
    {
     "data": {
      "image/png": "[encoded data removed]",
      "text/plain": [
       "<Figure size 800x500 with 1 Axes>"
      ]
     },
     "metadata": {},
     "output_type": "display_data"
    }
   ],
   "source": [
    "plt.xticks(rotation=90)\n",
    "ax = sns.countplot(df_sum.weather, hue=df_sum[\"No-show\"])"
   ]
  },
  {
   "cell_type": "markdown",
   "metadata": {},
   "source": [
    "### countplot에서 height를 구해 날씨에 따른 No-show비율 보기"
   ]
  },
  {
   "cell_type": "code",
   "execution_count": 19,
   "metadata": {},
   "outputs": [],
   "source": [
    "ls1 = [l.get_text() for l in ax.get_xticklabels()]"
   ]
  },
  {
   "cell_type": "code",
   "execution_count": 20,
   "metadata": {},
   "outputs": [],
   "source": [
    "ls2 = [p.get_height() for p in ax.patches]"
   ]
  },
  {
   "cell_type": "code",
   "execution_count": 21,
   "metadata": {},
   "outputs": [
    {
     "name": "stdout",
     "output_type": "stream",
     "text": [
      "Overcast :  0.2034750021292905\n",
      "Humid :  0.18645227505987\n",
      "Clear :  0.2009315919262033\n",
      "Mostly Cloudy :  0.2051439862654271\n",
      "Partly Cloudy :  0.20452364633310485\n",
      "Windy and Overcast :  0.205666829506595\n",
      "Light Rain and Breezy :  0.2194634703196347\n",
      "Breezy and Mostly Cloudy :  0.19022534386889084\n",
      "Humid and Mostly Cloudy :  0.1941747572815534\n",
      "Breezy and Overcast :  0.17915531335149865\n",
      "Foggy :  0.24056603773584906\n",
      "Humid and Partly Cloudy :  0.20192307692307693\n",
      "Drizzle :  0.1774193548387097\n"
     ]
    }
   ],
   "source": [
    "for i in range(13):\n",
    "    print(ls1[i],\": \",ls2[i+13] / (ls2[i] + ls2[i+13]))"
   ]
  },
  {
   "cell_type": "code",
   "execution_count": 22,
   "metadata": {},
   "outputs": [
    {
     "data": {
      "text/plain": [
       "<matplotlib.axes._subplots.AxesSubplot at 0x127328eb8>"
      ]
     },
     "execution_count": 22,
     "metadata": {},
     "output_type": "execute_result"
    },
    {
     "data": {
      "image/png": "[encoded data removed]",
      "text/plain": [
       "<Figure size 800x500 with 1 Axes>"
      ]
     },
     "metadata": {},
     "output_type": "display_data"
    }
   ],
   "source": [
    "sns.distplot(df_sum.temperature)"
   ]
  },
  {
   "cell_type": "markdown",
   "metadata": {},
   "source": [
    "### dfx와 dfy로 나눠주기"
   ]
  },
  {
   "cell_type": "code",
   "execution_count": 34,
   "metadata": {},
   "outputs": [],
   "source": [
    "dfx = df_sum.drop(columns=[\"PatientId\", \"AppointmentID\", \"ScheduledDay\", \"AppointmentDay\", \"Age\", \"No-show\", \"Scheduled_date\", \"Scheduled_time\", \"Appointment_date\", \"time\", \"region\"], axis=1)\n",
    "dfy = df_sum[\"No-show\"]"
   ]
  },
  {
   "cell_type": "code",
   "execution_count": 24,
   "metadata": {},
   "outputs": [
    {
     "data": {
      "text/html": [
       "<div>\n",
       "<style scoped>\n",
       "    .dataframe tbody tr th:only-of-type {\n",
       "        vertical-align: middle;\n",
       "    }\n",
       "\n",
       "    .dataframe tbody tr th {\n",
       "        vertical-align: top;\n",
       "    }\n",
       "\n",
       "    .dataframe thead th {\n",
       "        text-align: right;\n",
       "    }\n",
       "</style>\n",
       "<table border=\"1\" class=\"dataframe\">\n",
       "  <thead>\n",
       "    <tr style=\"text-align: right;\">\n",
       "      <th></th>\n",
       "      <th>Gender</th>\n",
       "      <th>Neighbourhood</th>\n",
       "      <th>Scholarship</th>\n",
       "      <th>Hipertension</th>\n",
       "      <th>Diabetes</th>\n",
       "      <th>Alcoholism</th>\n",
       "      <th>Handcap</th>\n",
       "      <th>SMS_received</th>\n",
       "      <th>Age_bin</th>\n",
       "      <th>date_diff</th>\n",
       "      <th>temperature</th>\n",
       "      <th>weather</th>\n",
       "    </tr>\n",
       "  </thead>\n",
       "  <tbody>\n",
       "    <tr>\n",
       "      <th>110515</th>\n",
       "      <td>F</td>\n",
       "      <td>NAZARETH</td>\n",
       "      <td>0</td>\n",
       "      <td>0</td>\n",
       "      <td>0</td>\n",
       "      <td>0</td>\n",
       "      <td>0</td>\n",
       "      <td>1</td>\n",
       "      <td>60s</td>\n",
       "      <td>41</td>\n",
       "      <td>25.427778</td>\n",
       "      <td>Humid</td>\n",
       "    </tr>\n",
       "    <tr>\n",
       "      <th>110516</th>\n",
       "      <td>F</td>\n",
       "      <td>NAZARETH</td>\n",
       "      <td>0</td>\n",
       "      <td>0</td>\n",
       "      <td>0</td>\n",
       "      <td>0</td>\n",
       "      <td>0</td>\n",
       "      <td>1</td>\n",
       "      <td>30s</td>\n",
       "      <td>41</td>\n",
       "      <td>25.427778</td>\n",
       "      <td>Humid</td>\n",
       "    </tr>\n",
       "    <tr>\n",
       "      <th>110517</th>\n",
       "      <td>M</td>\n",
       "      <td>NAZARETH</td>\n",
       "      <td>0</td>\n",
       "      <td>0</td>\n",
       "      <td>0</td>\n",
       "      <td>0</td>\n",
       "      <td>0</td>\n",
       "      <td>1</td>\n",
       "      <td>60s</td>\n",
       "      <td>41</td>\n",
       "      <td>25.427778</td>\n",
       "      <td>Humid</td>\n",
       "    </tr>\n",
       "    <tr>\n",
       "      <th>110518</th>\n",
       "      <td>M</td>\n",
       "      <td>AEROPORTO</td>\n",
       "      <td>0</td>\n",
       "      <td>0</td>\n",
       "      <td>0</td>\n",
       "      <td>0</td>\n",
       "      <td>0</td>\n",
       "      <td>0</td>\n",
       "      <td>50s</td>\n",
       "      <td>0</td>\n",
       "      <td>25.638889</td>\n",
       "      <td>Humid</td>\n",
       "    </tr>\n",
       "    <tr>\n",
       "      <th>110519</th>\n",
       "      <td>M</td>\n",
       "      <td>ILHA DO BOI</td>\n",
       "      <td>0</td>\n",
       "      <td>0</td>\n",
       "      <td>0</td>\n",
       "      <td>0</td>\n",
       "      <td>0</td>\n",
       "      <td>0</td>\n",
       "      <td>30s</td>\n",
       "      <td>2</td>\n",
       "      <td>22.950000</td>\n",
       "      <td>Mostly Cloudy</td>\n",
       "    </tr>\n",
       "  </tbody>\n",
       "</table>\n",
       "</div>"
      ],
      "text/plain": [
       "       Gender Neighbourhood  Scholarship  Hipertension  Diabetes  Alcoholism  \\\n",
       "110515      F      NAZARETH            0             0         0           0   \n",
       "110516      F      NAZARETH            0             0         0           0   \n",
       "110517      M      NAZARETH            0             0         0           0   \n",
       "110518      M     AEROPORTO            0             0         0           0   \n",
       "110519      M   ILHA DO BOI            0             0         0           0   \n",
       "\n",
       "       Handcap  SMS_received Age_bin  date_diff  temperature        weather  \n",
       "110515       0             1     60s         41    25.427778          Humid  \n",
       "110516       0             1     30s         41    25.427778          Humid  \n",
       "110517       0             1     60s         41    25.427778          Humid  \n",
       "110518       0             0     50s          0    25.638889          Humid  \n",
       "110519       0             0     30s          2    22.950000  Mostly Cloudy  "
      ]
     },
     "execution_count": 24,
     "metadata": {},
     "output_type": "execute_result"
    }
   ],
   "source": [
    "dfx.tail()"
   ]
  },
  {
   "cell_type": "code",
   "execution_count": 25,
   "metadata": {},
   "outputs": [
    {
     "data": {
      "text/plain": [
       "110515     No\n",
       "110516    Yes\n",
       "110517     No\n",
       "110518     No\n",
       "110519     No\n",
       "Name: No-show, dtype: object"
      ]
     },
     "execution_count": 25,
     "metadata": {},
     "output_type": "execute_result"
    }
   ],
   "source": [
    "dfy.tail()"
   ]
  },
  {
   "cell_type": "markdown",
   "metadata": {},
   "source": [
    "### one hot encoding 적용"
   ]
  },
  {
   "cell_type": "code",
   "execution_count": null,
   "metadata": {},
   "outputs": [],
   "source": [
    "dfx = pd.get_dummies(dfx, drop_first=True)"
   ]
  },
  {
   "cell_type": "code",
   "execution_count": null,
   "metadata": {},
   "outputs": [],
   "source": [
    "dfx.head()"
   ]
  },
  {
   "cell_type": "markdown",
   "metadata": {},
   "source": [
    "### train과 test 데이터로 나누기"
   ]
  },
  {
   "cell_type": "code",
   "execution_count": null,
   "metadata": {},
   "outputs": [],
   "source": [
    "X_train, X_test, y_train, y_test = train_test_split(dfx, dfy, test_size=0.3, random_state=0)\n",
    "X_train.shape, X_test.shape, y_train.shape, y_test.shape"
   ]
  },
  {
   "cell_type": "code",
   "execution_count": null,
   "metadata": {},
   "outputs": [],
   "source": [
    "X_samp, y_samp = SMOTEENN(random_state=0).fit_sample(X_train, y_train)"
   ]
  },
  {
   "cell_type": "code",
   "execution_count": null,
   "metadata": {},
   "outputs": [],
   "source": [
    "model_sk = LogisticRegression().fit(X_samp, y_samp)"
   ]
  },
  {
   "cell_type": "code",
   "execution_count": null,
   "metadata": {},
   "outputs": [],
   "source": [
    "# y_pred = model_sk.predict(X_test)\n",
    "# set thresholds 0.3\n",
    "y_pred = [\"Yes\" if x else \"No\" for x in (model_sk.predict_proba(X_test)[:,1] >= 0.6)]"
   ]
  },
  {
   "cell_type": "code",
   "execution_count": null,
   "metadata": {},
   "outputs": [],
   "source": [
    "confusion_matrix(y_test, y_pred, labels=[\"Yes\", \"No\"])"
   ]
  },
  {
   "cell_type": "code",
   "execution_count": null,
   "metadata": {},
   "outputs": [],
   "source": [
    "recall = 4673 / (4673 + 2078)\n",
    "fallout = 10674 / (10674 + 15731)\n",
    "print(\"recall =\", recall)\n",
    "print(\"fallout =\", fallout)"
   ]
  },
  {
   "cell_type": "code",
   "execution_count": null,
   "metadata": {},
   "outputs": [],
   "source": [
    "print(classification_report(y_test, y_pred ))"
   ]
  },
  {
   "cell_type": "code",
   "execution_count": null,
   "metadata": {},
   "outputs": [],
   "source": [
    "accuracy_score(y_test, y_pred)"
   ]
  },
  {
   "cell_type": "code",
   "execution_count": null,
   "metadata": {},
   "outputs": [],
   "source": [
    "model_sk.decision_function(X_test)"
   ]
  },
  {
   "cell_type": "code",
   "execution_count": null,
   "metadata": {},
   "outputs": [],
   "source": [
    "fpr, tpr, thresholds = roc_curve(y_test, model_sk.decision_function(X_test), pos_label=\"Yes\")\n",
    "fpr, tpr, thresholds"
   ]
  },
  {
   "cell_type": "code",
   "execution_count": null,
   "metadata": {},
   "outputs": [],
   "source": [
    "y_hat = model_sk.predict(X_test)\n",
    "f_value = model_sk.decision_function(X_test)\n",
    "\n",
    "df1 = pd.DataFrame(np.vstack([f_value, y_hat, y_test]).T,\n",
    "                  columns=[\"f\", \"y_hat\", \"y\"])\n",
    "df1.sort_values(\"f\", ascending=False).reset_index(drop=True)"
   ]
  },
  {
   "cell_type": "code",
   "execution_count": null,
   "metadata": {},
   "outputs": [],
   "source": [
    "plt.plot(fpr, tpr, 'o-', label=\"Logistic Regression\")\n",
    "plt.plot([0, 1], [0, 1], 'k--', label=\"random guess\")\n",
    "plt.plot([fallout], [recall], 'ro', ms=10)\n",
    "plt.xlabel('False Positive Rate (Fall-Out)')\n",
    "plt.ylabel('True Positive Rate (Recall)')\n",
    "plt.title('Receiver operating characteristic example')\n",
    "plt.show()"
   ]
  },
  {
   "cell_type": "code",
   "execution_count": null,
   "metadata": {},
   "outputs": [],
   "source": [
    "auc(fpr, tpr)"
   ]
  },
  {
   "cell_type": "code",
   "execution_count": null,
   "metadata": {},
   "outputs": [],
   "source": [
    "from sklearn.model_selection import validation_curve"
   ]
  },
  {
   "cell_type": "code",
   "execution_count": null,
   "metadata": {},
   "outputs": [],
   "source": [
    "model_sk.get_params()"
   ]
  },
  {
   "cell_type": "code",
   "execution_count": null,
   "metadata": {},
   "outputs": [],
   "source": [
    "param_range = np.logspace(-1, 0, 10)"
   ]
  },
  {
   "cell_type": "code",
   "execution_count": null,
   "metadata": {},
   "outputs": [],
   "source": [
    "param_range"
   ]
  },
  {
   "cell_type": "code",
   "execution_count": null,
   "metadata": {},
   "outputs": [],
   "source": [
    "%%time\n",
    "train_scores, test_scores = \\\n",
    "validation_curve(LogisticRegression(), X_samp, y_samp,\n",
    "                 param_name=\"C\", param_range=param_range,\n",
    "                 cv=10, scoring=\"accuracy\", n_jobs=1)"
   ]
  },
  {
   "cell_type": "code",
   "execution_count": null,
   "metadata": {},
   "outputs": [],
   "source": [
    "train_scores_mean = np.mean(train_scores, axis=1)\n",
    "train_scores_std = np.std(train_scores, axis=1)\n",
    "test_scores_mean = np.mean(test_scores, axis=1)\n",
    "test_scores_std = np.std(test_scores, axis=1)\n",
    "\n",
    "\n",
    "plt.semilogx(param_range, train_scores_mean, label=\"Training score\", color=\"r\")\n",
    "plt.fill_between(param_range, train_scores_mean - train_scores_std,\n",
    "                 train_scores_mean + train_scores_std, alpha=0.2, color=\"r\")\n",
    "plt.semilogx(param_range, test_scores_mean, label=\"Cross-validation score\", color=\"g\")\n",
    "plt.fill_between(param_range, test_scores_mean - test_scores_std,\n",
    "                 test_scores_mean + test_scores_std, alpha=0.2, color=\"g\")\n",
    "plt.legend(loc=\"best\")\n",
    "plt.title(\"Validation Curve with LogisticRegression\")\n",
    "plt.xlabel(\"C\")\n",
    "plt.ylabel(\"Score\")\n",
    "plt.ylim(0.0, 1.1)\n",
    "plt.show()"
   ]
  },
  {
   "cell_type": "markdown",
   "metadata": {},
   "source": [
    "# 변수 설명"
   ]
  },
  {
   "cell_type": "code",
   "execution_count": null,
   "metadata": {},
   "outputs": [],
   "source": [
    "sns.distplot(df.Age)"
   ]
  },
  {
   "cell_type": "code",
   "execution_count": null,
   "metadata": {},
   "outputs": [],
   "source": [
    "df_sum.dtypes"
   ]
  },
  {
   "cell_type": "code",
   "execution_count": null,
   "metadata": {},
   "outputs": [],
   "source": [
    "age_se = df_sum.groupby([\"Age_bin\", \"No-show\"]).size()\n",
    "age_se"
   ]
  },
  {
   "cell_type": "code",
   "execution_count": null,
   "metadata": {},
   "outputs": [],
   "source": [
    "age_dic = {}\n",
    "age_ls = [age_se[i+1] / (age_se[i] + age_se[i+1]) for i in range(0, 20, 2)]\n",
    "for i in range(0, 20, 2):\n",
    "    \n",
    "    print(age_se.index.levels[0][i//2], \": \", age_se[i+1] / (age_se[i] + age_se[i+1]))"
   ]
  },
  {
   "cell_type": "code",
   "execution_count": null,
   "metadata": {},
   "outputs": [],
   "source": [
    "plt.figure(figsize=(16,4))\n",
    "plt.xticks(rotation=90)\n",
    "ax = sns.countplot(df.Neighbourhood)\n",
    "ax.set_title(\"Neighbourbood\")\n",
    "plt.show()"
   ]
  },
  {
   "cell_type": "code",
   "execution_count": null,
   "metadata": {},
   "outputs": [],
   "source": [
    "sns.countplot(df.Handcap)"
   ]
  },
  {
   "cell_type": "code",
   "execution_count": null,
   "metadata": {},
   "outputs": [],
   "source": [
    "sns.countplot(df.Alcoholism)"
   ]
  },
  {
   "cell_type": "code",
   "execution_count": null,
   "metadata": {},
   "outputs": [],
   "source": [
    "sns.countplot(df.Diabetes)"
   ]
  },
  {
   "cell_type": "code",
   "execution_count": null,
   "metadata": {},
   "outputs": [],
   "source": [
    "sns.countplot(df.Hipertension)"
   ]
  },
  {
   "cell_type": "code",
   "execution_count": null,
   "metadata": {},
   "outputs": [],
   "source": [
    "sns.countplot(df.Scholarship)"
   ]
  },
  {
   "cell_type": "code",
   "execution_count": null,
   "metadata": {},
   "outputs": [],
   "source": [
    "a = df[[\"Gender\", \"No-show\", \"AppointmentID\"]].groupby([\"Gender\", \"No-show\"]).agg('count')"
   ]
  },
  {
   "cell_type": "code",
   "execution_count": null,
   "metadata": {},
   "outputs": [],
   "source": [
    "p1 = plt.bar(x=[\"Man\", \"Woman\"], height=[7725, 14594], color='r')\n",
    "p2 = plt.bar(x=[\"Man\", \"Woman\"], height=[30962, 57246], bottom=[7725, 14594], color='b')\n",
    "plt.legend((p1, p2), (\"Yes\", \"No\"))"
   ]
  },
  {
   "cell_type": "code",
   "execution_count": null,
   "metadata": {},
   "outputs": [],
   "source": [
    "sns.countplot(df[\"No-show\"], palette=['g','y'])"
   ]
  },
  {
   "cell_type": "code",
   "execution_count": null,
   "metadata": {},
   "outputs": [],
   "source": [
    "sns.distplot(df[\"Age\"])"
   ]
  },
  {
   "cell_type": "code",
   "execution_count": null,
   "metadata": {},
   "outputs": [],
   "source": [
    "sns.distplot(df[\"Age\"][df[\"No-show\"] == \"Yes\"])\n",
    "sns.distplot(df[\"Age\"])\n",
    "plt.legend([\"Yes\", \"Total\"])"
   ]
  },
  {
   "cell_type": "code",
   "execution_count": null,
   "metadata": {
    "scrolled": false
   },
   "outputs": [],
   "source": [
    "sns.distplot(df.date_diff)"
   ]
  },
  {
   "cell_type": "code",
   "execution_count": null,
   "metadata": {},
   "outputs": [],
   "source": [
    "len(X_train), len(y_train)"
   ]
  },
  {
   "cell_type": "markdown",
   "metadata": {},
   "source": [
    "### OLS"
   ]
  },
  {
   "cell_type": "code",
   "execution_count": 72,
   "metadata": {},
   "outputs": [],
   "source": [
    "df_st = pd.concat([dfx, dfy], axis=1)"
   ]
  },
  {
   "cell_type": "code",
   "execution_count": 73,
   "metadata": {},
   "outputs": [],
   "source": [
    "df_st = df_st.rename(columns={\"No-show\": \"No_show\"})"
   ]
  },
  {
   "cell_type": "code",
   "execution_count": 74,
   "metadata": {},
   "outputs": [
    {
     "data": {
      "text/html": [
       "<div>\n",
       "<style scoped>\n",
       "    .dataframe tbody tr th:only-of-type {\n",
       "        vertical-align: middle;\n",
       "    }\n",
       "\n",
       "    .dataframe tbody tr th {\n",
       "        vertical-align: top;\n",
       "    }\n",
       "\n",
       "    .dataframe thead th {\n",
       "        text-align: right;\n",
       "    }\n",
       "</style>\n",
       "<table border=\"1\" class=\"dataframe\">\n",
       "  <thead>\n",
       "    <tr style=\"text-align: right;\">\n",
       "      <th></th>\n",
       "      <th>Gender</th>\n",
       "      <th>Neighbourhood</th>\n",
       "      <th>Scholarship</th>\n",
       "      <th>Hipertension</th>\n",
       "      <th>Diabetes</th>\n",
       "      <th>Alcoholism</th>\n",
       "      <th>Handcap</th>\n",
       "      <th>SMS_received</th>\n",
       "      <th>Age_bin</th>\n",
       "      <th>date_diff</th>\n",
       "      <th>temperature</th>\n",
       "      <th>weather</th>\n",
       "      <th>No_show</th>\n",
       "    </tr>\n",
       "  </thead>\n",
       "  <tbody>\n",
       "    <tr>\n",
       "      <th>110515</th>\n",
       "      <td>F</td>\n",
       "      <td>NAZARETH</td>\n",
       "      <td>0</td>\n",
       "      <td>0</td>\n",
       "      <td>0</td>\n",
       "      <td>0</td>\n",
       "      <td>0</td>\n",
       "      <td>1</td>\n",
       "      <td>60s</td>\n",
       "      <td>41</td>\n",
       "      <td>25.427778</td>\n",
       "      <td>Humid</td>\n",
       "      <td>No</td>\n",
       "    </tr>\n",
       "    <tr>\n",
       "      <th>110516</th>\n",
       "      <td>F</td>\n",
       "      <td>NAZARETH</td>\n",
       "      <td>0</td>\n",
       "      <td>0</td>\n",
       "      <td>0</td>\n",
       "      <td>0</td>\n",
       "      <td>0</td>\n",
       "      <td>1</td>\n",
       "      <td>30s</td>\n",
       "      <td>41</td>\n",
       "      <td>25.427778</td>\n",
       "      <td>Humid</td>\n",
       "      <td>Yes</td>\n",
       "    </tr>\n",
       "    <tr>\n",
       "      <th>110517</th>\n",
       "      <td>M</td>\n",
       "      <td>NAZARETH</td>\n",
       "      <td>0</td>\n",
       "      <td>0</td>\n",
       "      <td>0</td>\n",
       "      <td>0</td>\n",
       "      <td>0</td>\n",
       "      <td>1</td>\n",
       "      <td>60s</td>\n",
       "      <td>41</td>\n",
       "      <td>25.427778</td>\n",
       "      <td>Humid</td>\n",
       "      <td>No</td>\n",
       "    </tr>\n",
       "    <tr>\n",
       "      <th>110518</th>\n",
       "      <td>M</td>\n",
       "      <td>AEROPORTO</td>\n",
       "      <td>0</td>\n",
       "      <td>0</td>\n",
       "      <td>0</td>\n",
       "      <td>0</td>\n",
       "      <td>0</td>\n",
       "      <td>0</td>\n",
       "      <td>50s</td>\n",
       "      <td>0</td>\n",
       "      <td>25.638889</td>\n",
       "      <td>Humid</td>\n",
       "      <td>No</td>\n",
       "    </tr>\n",
       "    <tr>\n",
       "      <th>110519</th>\n",
       "      <td>M</td>\n",
       "      <td>ILHA DO BOI</td>\n",
       "      <td>0</td>\n",
       "      <td>0</td>\n",
       "      <td>0</td>\n",
       "      <td>0</td>\n",
       "      <td>0</td>\n",
       "      <td>0</td>\n",
       "      <td>30s</td>\n",
       "      <td>2</td>\n",
       "      <td>22.950000</td>\n",
       "      <td>Mostly Cloudy</td>\n",
       "      <td>No</td>\n",
       "    </tr>\n",
       "  </tbody>\n",
       "</table>\n",
       "</div>"
      ],
      "text/plain": [
       "       Gender Neighbourhood  Scholarship  Hipertension  Diabetes  Alcoholism  \\\n",
       "110515      F      NAZARETH            0             0         0           0   \n",
       "110516      F      NAZARETH            0             0         0           0   \n",
       "110517      M      NAZARETH            0             0         0           0   \n",
       "110518      M     AEROPORTO            0             0         0           0   \n",
       "110519      M   ILHA DO BOI            0             0         0           0   \n",
       "\n",
       "       Handcap  SMS_received Age_bin  date_diff  temperature        weather  \\\n",
       "110515       0             1     60s         41    25.427778          Humid   \n",
       "110516       0             1     30s         41    25.427778          Humid   \n",
       "110517       0             1     60s         41    25.427778          Humid   \n",
       "110518       0             0     50s          0    25.638889          Humid   \n",
       "110519       0             0     30s          2    22.950000  Mostly Cloudy   \n",
       "\n",
       "       No_show  \n",
       "110515      No  \n",
       "110516     Yes  \n",
       "110517      No  \n",
       "110518      No  \n",
       "110519      No  "
      ]
     },
     "execution_count": 74,
     "metadata": {},
     "output_type": "execute_result"
    }
   ],
   "source": [
    "df_st.tail()"
   ]
  },
  {
   "cell_type": "code",
   "execution_count": 75,
   "metadata": {},
   "outputs": [],
   "source": [
    "df_st[\"No_show\"][df_st[\"No_show\"] == \"Yes\"] = 1\n",
    "df_st[\"No_show\"][df_st[\"No_show\"] == \"No\"] = 0"
   ]
  },
  {
   "cell_type": "code",
   "execution_count": 76,
   "metadata": {},
   "outputs": [],
   "source": [
    "df_st.No_show = df_st.No_show.astype('int')"
   ]
  },
  {
   "cell_type": "code",
   "execution_count": 116,
   "metadata": {},
   "outputs": [],
   "source": [
    "df_st = pd.get_dummies(df_st)"
   ]
  },
  {
   "cell_type": "code",
   "execution_count": 117,
   "metadata": {},
   "outputs": [],
   "source": [
    "df_st_train, df_st_test = train_test_split(df_st, test_size=0.3, random_state=0)"
   ]
  },
  {
   "cell_type": "code",
   "execution_count": 118,
   "metadata": {},
   "outputs": [
    {
     "data": {
      "text/plain": [
       "((77364, 118), (33156, 118))"
      ]
     },
     "execution_count": 118,
     "metadata": {},
     "output_type": "execute_result"
    }
   ],
   "source": [
    "df_st_train.shape, df_st_test.shape"
   ]
  },
  {
   "cell_type": "code",
   "execution_count": 179,
   "metadata": {},
   "outputs": [],
   "source": [
    "X_st, y_st = SMOTEENN(random_state=0).fit_sample(df_st_train.drop(columns=\"No_show\"), df_st_train[\"No_show\"])"
   ]
  },
  {
   "cell_type": "code",
   "execution_count": 180,
   "metadata": {},
   "outputs": [
    {
     "data": {
      "text/plain": [
       "(77252, 117)"
      ]
     },
     "execution_count": 180,
     "metadata": {},
     "output_type": "execute_result"
    }
   ],
   "source": [
    "X_st.shape"
   ]
  },
  {
   "cell_type": "code",
   "execution_count": 181,
   "metadata": {},
   "outputs": [
    {
     "data": {
      "text/html": [
       "<div>\n",
       "<style scoped>\n",
       "    .dataframe tbody tr th:only-of-type {\n",
       "        vertical-align: middle;\n",
       "    }\n",
       "\n",
       "    .dataframe tbody tr th {\n",
       "        vertical-align: top;\n",
       "    }\n",
       "\n",
       "    .dataframe thead th {\n",
       "        text-align: right;\n",
       "    }\n",
       "</style>\n",
       "<table border=\"1\" class=\"dataframe\">\n",
       "  <thead>\n",
       "    <tr style=\"text-align: right;\">\n",
       "      <th></th>\n",
       "      <th>Scholarship</th>\n",
       "      <th>Hipertension</th>\n",
       "      <th>Diabetes</th>\n",
       "      <th>Alcoholism</th>\n",
       "      <th>SMS_received</th>\n",
       "      <th>date_diff</th>\n",
       "      <th>temperature</th>\n",
       "      <th>No_show</th>\n",
       "      <th>Gender_F</th>\n",
       "      <th>Gender_M</th>\n",
       "      <th>...</th>\n",
       "      <th>weather_Drizzle</th>\n",
       "      <th>weather_Foggy</th>\n",
       "      <th>weather_Humid</th>\n",
       "      <th>weather_Humid and Mostly Cloudy</th>\n",
       "      <th>weather_Humid and Partly Cloudy</th>\n",
       "      <th>weather_Light Rain and Breezy</th>\n",
       "      <th>weather_Mostly Cloudy</th>\n",
       "      <th>weather_Overcast</th>\n",
       "      <th>weather_Partly Cloudy</th>\n",
       "      <th>weather_Windy and Overcast</th>\n",
       "    </tr>\n",
       "  </thead>\n",
       "  <tbody>\n",
       "    <tr>\n",
       "      <th>21243</th>\n",
       "      <td>0</td>\n",
       "      <td>0</td>\n",
       "      <td>0</td>\n",
       "      <td>0</td>\n",
       "      <td>0</td>\n",
       "      <td>1</td>\n",
       "      <td>25.577778</td>\n",
       "      <td>1</td>\n",
       "      <td>0</td>\n",
       "      <td>1</td>\n",
       "      <td>...</td>\n",
       "      <td>0</td>\n",
       "      <td>0</td>\n",
       "      <td>0</td>\n",
       "      <td>0</td>\n",
       "      <td>0</td>\n",
       "      <td>0</td>\n",
       "      <td>0</td>\n",
       "      <td>0</td>\n",
       "      <td>0</td>\n",
       "      <td>0</td>\n",
       "    </tr>\n",
       "    <tr>\n",
       "      <th>45891</th>\n",
       "      <td>0</td>\n",
       "      <td>0</td>\n",
       "      <td>0</td>\n",
       "      <td>0</td>\n",
       "      <td>0</td>\n",
       "      <td>2</td>\n",
       "      <td>23.761111</td>\n",
       "      <td>0</td>\n",
       "      <td>0</td>\n",
       "      <td>1</td>\n",
       "      <td>...</td>\n",
       "      <td>0</td>\n",
       "      <td>0</td>\n",
       "      <td>0</td>\n",
       "      <td>0</td>\n",
       "      <td>0</td>\n",
       "      <td>0</td>\n",
       "      <td>0</td>\n",
       "      <td>0</td>\n",
       "      <td>0</td>\n",
       "      <td>0</td>\n",
       "    </tr>\n",
       "    <tr>\n",
       "      <th>42613</th>\n",
       "      <td>0</td>\n",
       "      <td>0</td>\n",
       "      <td>0</td>\n",
       "      <td>0</td>\n",
       "      <td>1</td>\n",
       "      <td>21</td>\n",
       "      <td>22.666667</td>\n",
       "      <td>0</td>\n",
       "      <td>1</td>\n",
       "      <td>0</td>\n",
       "      <td>...</td>\n",
       "      <td>0</td>\n",
       "      <td>0</td>\n",
       "      <td>0</td>\n",
       "      <td>0</td>\n",
       "      <td>0</td>\n",
       "      <td>0</td>\n",
       "      <td>0</td>\n",
       "      <td>1</td>\n",
       "      <td>0</td>\n",
       "      <td>0</td>\n",
       "    </tr>\n",
       "    <tr>\n",
       "      <th>43567</th>\n",
       "      <td>0</td>\n",
       "      <td>0</td>\n",
       "      <td>0</td>\n",
       "      <td>0</td>\n",
       "      <td>1</td>\n",
       "      <td>24</td>\n",
       "      <td>21.827778</td>\n",
       "      <td>0</td>\n",
       "      <td>0</td>\n",
       "      <td>1</td>\n",
       "      <td>...</td>\n",
       "      <td>0</td>\n",
       "      <td>0</td>\n",
       "      <td>0</td>\n",
       "      <td>0</td>\n",
       "      <td>0</td>\n",
       "      <td>0</td>\n",
       "      <td>0</td>\n",
       "      <td>1</td>\n",
       "      <td>0</td>\n",
       "      <td>0</td>\n",
       "    </tr>\n",
       "    <tr>\n",
       "      <th>68268</th>\n",
       "      <td>0</td>\n",
       "      <td>1</td>\n",
       "      <td>0</td>\n",
       "      <td>0</td>\n",
       "      <td>0</td>\n",
       "      <td>5</td>\n",
       "      <td>21.238889</td>\n",
       "      <td>1</td>\n",
       "      <td>0</td>\n",
       "      <td>1</td>\n",
       "      <td>...</td>\n",
       "      <td>0</td>\n",
       "      <td>0</td>\n",
       "      <td>0</td>\n",
       "      <td>0</td>\n",
       "      <td>0</td>\n",
       "      <td>0</td>\n",
       "      <td>0</td>\n",
       "      <td>0</td>\n",
       "      <td>0</td>\n",
       "      <td>0</td>\n",
       "    </tr>\n",
       "  </tbody>\n",
       "</table>\n",
       "<p>5 rows × 118 columns</p>\n",
       "</div>"
      ],
      "text/plain": [
       "       Scholarship  Hipertension  Diabetes  Alcoholism  SMS_received  \\\n",
       "21243            0             0         0           0             0   \n",
       "45891            0             0         0           0             0   \n",
       "42613            0             0         0           0             1   \n",
       "43567            0             0         0           0             1   \n",
       "68268            0             1         0           0             0   \n",
       "\n",
       "       date_diff  temperature  No_show  Gender_F  Gender_M  \\\n",
       "21243          1    25.577778        1         0         1   \n",
       "45891          2    23.761111        0         0         1   \n",
       "42613         21    22.666667        0         1         0   \n",
       "43567         24    21.827778        0         0         1   \n",
       "68268          5    21.238889        1         0         1   \n",
       "\n",
       "                  ...              weather_Drizzle  weather_Foggy  \\\n",
       "21243             ...                            0              0   \n",
       "45891             ...                            0              0   \n",
       "42613             ...                            0              0   \n",
       "43567             ...                            0              0   \n",
       "68268             ...                            0              0   \n",
       "\n",
       "       weather_Humid  weather_Humid and Mostly Cloudy  \\\n",
       "21243              0                                0   \n",
       "45891              0                                0   \n",
       "42613              0                                0   \n",
       "43567              0                                0   \n",
       "68268              0                                0   \n",
       "\n",
       "       weather_Humid and Partly Cloudy  weather_Light Rain and Breezy  \\\n",
       "21243                                0                              0   \n",
       "45891                                0                              0   \n",
       "42613                                0                              0   \n",
       "43567                                0                              0   \n",
       "68268                                0                              0   \n",
       "\n",
       "       weather_Mostly Cloudy  weather_Overcast  weather_Partly Cloudy  \\\n",
       "21243                      0                 0                      0   \n",
       "45891                      0                 0                      0   \n",
       "42613                      0                 1                      0   \n",
       "43567                      0                 1                      0   \n",
       "68268                      0                 0                      0   \n",
       "\n",
       "       weather_Windy and Overcast  \n",
       "21243                           0  \n",
       "45891                           0  \n",
       "42613                           0  \n",
       "43567                           0  \n",
       "68268                           0  \n",
       "\n",
       "[5 rows x 118 columns]"
      ]
     },
     "execution_count": 181,
     "metadata": {},
     "output_type": "execute_result"
    }
   ],
   "source": [
    "df_st_train.tail()"
   ]
  },
  {
   "cell_type": "code",
   "execution_count": 182,
   "metadata": {},
   "outputs": [],
   "source": [
    "df_st_s = pd.DataFrame(X_st, columns=df_st_train.columns.drop(\"No_show\"))"
   ]
  },
  {
   "cell_type": "code",
   "execution_count": 183,
   "metadata": {},
   "outputs": [
    {
     "data": {
      "text/plain": [
       "(77252,)"
      ]
     },
     "execution_count": 183,
     "metadata": {},
     "output_type": "execute_result"
    }
   ],
   "source": [
    "y_st.shape"
   ]
  },
  {
   "cell_type": "code",
   "execution_count": 184,
   "metadata": {},
   "outputs": [
    {
     "data": {
      "text/plain": [
       "(77252, 117)"
      ]
     },
     "execution_count": 184,
     "metadata": {},
     "output_type": "execute_result"
    }
   ],
   "source": [
    "df_st_s.shape"
   ]
  },
  {
   "cell_type": "code",
   "execution_count": 185,
   "metadata": {},
   "outputs": [],
   "source": [
    "df_st_sy = pd.DataFrame(y_st)"
   ]
  },
  {
   "cell_type": "code",
   "execution_count": 202,
   "metadata": {},
   "outputs": [],
   "source": [
    "df_f = pd.concat([df_st_s.drop(columns=\"temperature\").astype('int'), df_st_s.temperature], axis=1)"
   ]
  },
  {
   "cell_type": "code",
   "execution_count": 204,
   "metadata": {},
   "outputs": [],
   "source": [
    "model_med = sm.Logit(df_st_sy, df_f)"
   ]
  },
  {
   "cell_type": "code",
   "execution_count": 209,
   "metadata": {},
   "outputs": [
    {
     "name": "stdout",
     "output_type": "stream",
     "text": [
      "Optimization terminated successfully.\n",
      "         Current function value: 0.333709\n",
      "         Iterations: 18\n",
      "         Function evaluations: 27\n",
      "         Gradient evaluations: 44\n",
      "         Hessian evaluations: 18\n"
     ]
    }
   ],
   "source": [
    "result_med = model_med.fit(method=\"ncg\")"
   ]
  },
  {
   "cell_type": "code",
   "execution_count": 210,
   "metadata": {},
   "outputs": [
    {
     "name": "stdout",
     "output_type": "stream",
     "text": [
      "                           Logit Regression Results                           \n",
      "==============================================================================\n",
      "Dep. Variable:                      0   No. Observations:                77252\n",
      "Model:                          Logit   Df Residuals:                    77136\n",
      "Method:                           MLE   Df Model:                          115\n",
      "Date:                Sun, 30 Dec 2018   Pseudo R-squ.:                  0.4833\n",
      "Time:                        19:06:41   Log-Likelihood:                -25780.\n",
      "converged:                       True   LL-Null:                       -49898.\n",
      "                                        LLR p-value:                     0.000\n",
      "=============================================================================================================\n",
      "                                                coef    std err          z      P>|z|      [0.025      0.975]\n",
      "-------------------------------------------------------------------------------------------------------------\n",
      "Scholarship                                  -0.1936      0.038     -5.154      0.000      -0.267      -0.120\n",
      "Hipertension                                 -0.2503      0.037     -6.851      0.000      -0.322      -0.179\n",
      "Diabetes                                     -0.0685      0.051     -1.354      0.176      -0.168       0.031\n",
      "Alcoholism                                   -0.3515      0.068     -5.181      0.000      -0.484      -0.219\n",
      "SMS_received                                  0.7503      0.028     27.068      0.000       0.696       0.805\n",
      "date_diff                                     0.0604      0.001     58.331      0.000       0.058       0.062\n",
      "Gender_F                                     -1.3066      0.077    -16.939      0.000      -1.458      -1.155\n",
      "Gender_M                                     -1.2587      0.078    -16.086      0.000      -1.412      -1.105\n",
      "Neighbourhood_AEROPORTO                       0.0125     10.312      0.001      0.999     -20.199      20.224\n",
      "Neighbourhood_ANDORINHAS                     -4.0833      0.092    -44.394      0.000      -4.264      -3.903\n",
      "Neighbourhood_ANTÔNIO HONÓRIO                -4.2543      0.300    -14.204      0.000      -4.841      -3.667\n",
      "Neighbourhood_ARIOVALDO FAVALESSA            -3.2077      0.292    -10.985      0.000      -3.780      -2.635\n",
      "Neighbourhood_BARRO VERMELHO                 -3.8623      0.221    -17.461      0.000      -4.296      -3.429\n",
      "Neighbourhood_BELA VISTA                     -4.2960      0.100    -43.102      0.000      -4.491      -4.101\n",
      "Neighbourhood_BENTO FERREIRA                 -3.9700      0.145    -27.327      0.000      -4.255      -3.685\n",
      "Neighbourhood_BOA VISTA                      -3.9576      0.223    -17.767      0.000      -4.394      -3.521\n",
      "Neighbourhood_BONFIM                         -4.5453      0.089    -51.267      0.000      -4.719      -4.371\n",
      "Neighbourhood_CARATOÍRA                      -3.9418      0.087    -45.064      0.000      -4.113      -3.770\n",
      "Neighbourhood_CENTRO                         -1.6581      0.087    -19.023      0.000      -1.829      -1.487\n",
      "Neighbourhood_COMDUSA                        -3.4289      0.254    -13.475      0.000      -3.928      -2.930\n",
      "Neighbourhood_CONQUISTA                      -4.4654      0.152    -29.330      0.000      -4.764      -4.167\n",
      "Neighbourhood_CONSOLAÇÃO                     -4.6442      0.116    -40.000      0.000      -4.872      -4.417\n",
      "Neighbourhood_CRUZAMENTO                     -4.3385      0.124    -34.980      0.000      -4.582      -4.095\n",
      "Neighbourhood_DA PENHA                       -4.3903      0.094    -46.812      0.000      -4.574      -4.206\n",
      "Neighbourhood_DE LOURDES                     -4.2848      0.286    -14.994      0.000      -4.845      -3.725\n",
      "Neighbourhood_DO CABRAL                      -4.6114      0.189    -24.452      0.000      -4.981      -4.242\n",
      "Neighbourhood_DO MOSCOSO                     -3.4902      0.216    -16.150      0.000      -3.914      -3.067\n",
      "Neighbourhood_DO QUADRO                      -4.5360      0.157    -28.939      0.000      -4.843      -4.229\n",
      "Neighbourhood_ENSEADA DO SUÁ                 -3.3261      0.311    -10.694      0.000      -3.936      -2.716\n",
      "Neighbourhood_ESTRELINHA                     -4.5024      0.185    -24.275      0.000      -4.866      -4.139\n",
      "Neighbourhood_FONTE GRANDE                   -4.5553      0.181    -25.202      0.000      -4.910      -4.201\n",
      "Neighbourhood_FORTE SÃO JOÃO                 -4.4336      0.101    -43.776      0.000      -4.632      -4.235\n",
      "Neighbourhood_FRADINHOS                      -4.0365      0.264    -15.262      0.000      -4.555      -3.518\n",
      "Neighbourhood_GOIABEIRAS                     -4.1712      0.173    -24.043      0.000      -4.511      -3.831\n",
      "Neighbourhood_GRANDE VITÓRIA                 -3.9868      0.126    -31.562      0.000      -4.234      -3.739\n",
      "Neighbourhood_GURIGICA                       -4.0273      0.092    -43.919      0.000      -4.207      -3.848\n",
      "Neighbourhood_HORTO                          -3.8655      0.296    -13.062      0.000      -4.445      -3.285\n",
      "Neighbourhood_ILHA DAS CAIEIRAS              -3.9169      0.132    -29.639      0.000      -4.176      -3.658\n",
      "Neighbourhood_ILHA DE SANTA MARIA            -4.8270      0.108    -44.534      0.000      -5.039      -4.615\n",
      "Neighbourhood_ILHA DO BOI                    -1.9730      1.149     -1.717      0.086      -4.225       0.279\n",
      "Neighbourhood_ILHA DO FRADE                  -0.6875      2.932     -0.234      0.815      -6.434       5.059\n",
      "Neighbourhood_ILHA DO PRÍNCIPE               -3.9347      0.090    -43.791      0.000      -4.111      -3.759\n",
      "Neighbourhood_ILHAS OCEÂNICAS DE TRINDADE     0.0367      5.728      0.006      0.995     -11.191      11.264\n",
      "Neighbourhood_INHANGUETÁ                     -4.2177      0.136    -31.034      0.000      -4.484      -3.951\n",
      "Neighbourhood_ITARARÉ                        -1.0848      0.085    -12.831      0.000      -1.251      -0.919\n",
      "Neighbourhood_JABOUR                         -5.1654      0.097    -53.130      0.000      -5.356      -4.975\n",
      "Neighbourhood_JARDIM CAMBURI                 -5.2236      0.074    -70.559      0.000      -5.369      -5.078\n",
      "Neighbourhood_JARDIM DA PENHA                -5.2361      0.084    -62.557      0.000      -5.400      -5.072\n",
      "Neighbourhood_JESUS DE NAZARETH              -4.5750      0.088    -51.863      0.000      -4.748      -4.402\n",
      "Neighbourhood_JOANA D´ARC                    -5.0383      0.127    -39.811      0.000      -5.286      -4.790\n",
      "Neighbourhood_JUCUTUQUARA                    -5.0428      0.189    -26.611      0.000      -5.414      -4.671\n",
      "Neighbourhood_MARIA ORTIZ                    -4.9947      0.074    -67.624      0.000      -5.140      -4.850\n",
      "Neighbourhood_MARUÍPE                        -4.4693      0.101    -44.371      0.000      -4.667      -4.272\n",
      "Neighbourhood_MATA DA PRAIA                  -4.9004      0.194    -25.235      0.000      -5.281      -4.520\n",
      "Neighbourhood_MONTE BELO                     -4.4390      0.175    -25.357      0.000      -4.782      -4.096\n",
      "Neighbourhood_MORADA DE CAMBURI              -3.3848      0.435     -7.780      0.000      -4.237      -2.532\n",
      "Neighbourhood_MÁRIO CYPRESTE                 -4.8478      0.235    -20.644      0.000      -5.308      -4.388\n",
      "Neighbourhood_NAZARETH                       -2.4140      0.645     -3.745      0.000      -3.677      -1.151\n",
      "Neighbourhood_NOVA PALESTINA                 -4.7037      0.096    -49.078      0.000      -4.892      -4.516\n",
      "Neighbourhood_PARQUE MOSCOSO                 -3.6768      0.160    -23.007      0.000      -3.990      -3.364\n",
      "Neighbourhood_PIEDADE                        -4.1988      0.183    -23.001      0.000      -4.557      -3.841\n",
      "Neighbourhood_PONTAL DE CAMBURI              -2.2149      0.746     -2.969      0.003      -3.677      -0.753\n",
      "Neighbourhood_PRAIA DO CANTO                 -2.9904      0.130    -23.012      0.000      -3.245      -2.736\n",
      "Neighbourhood_PRAIA DO SUÁ                   -4.1113      0.123    -33.395      0.000      -4.353      -3.870\n",
      "Neighbourhood_REDENÇÃO                       -2.1697      0.107    -20.214      0.000      -2.380      -1.959\n",
      "Neighbourhood_REPÚBLICA                      -4.3809      0.153    -28.566      0.000      -4.682      -4.080\n",
      "Neighbourhood_RESISTÊNCIA                    -4.8493      0.080    -60.772      0.000      -5.006      -4.693\n",
      "Neighbourhood_ROMÃO                          -4.3715      0.097    -45.238      0.000      -4.561      -4.182\n",
      "Neighbourhood_SANTA CECÍLIA                  -4.9360      0.218    -22.651      0.000      -5.363      -4.509\n",
      "Neighbourhood_SANTA CLARA                    -1.3804      0.170     -8.111      0.000      -1.714      -1.047\n",
      "Neighbourhood_SANTA HELENA                   -2.8110      0.378     -7.441      0.000      -3.551      -2.071\n",
      "Neighbourhood_SANTA LUÍZA                    -4.3693      0.200    -21.823      0.000      -4.762      -3.977\n",
      "Neighbourhood_SANTA LÚCIA                    -3.9082      0.210    -18.595      0.000      -4.320      -3.496\n",
      "Neighbourhood_SANTA MARTHA                   -5.0360      0.088    -56.975      0.000      -5.209      -4.863\n",
      "Neighbourhood_SANTA TEREZA                   -4.6058      0.123    -37.390      0.000      -4.847      -4.364\n",
      "Neighbourhood_SANTO ANDRÉ                    -4.3754      0.086    -50.867      0.000      -4.544      -4.207\n",
      "Neighbourhood_SANTO ANTÔNIO                  -4.7519      0.089    -53.145      0.000      -4.927      -4.577\n",
      "Neighbourhood_SANTOS DUMONT                  -3.4060      0.124    -27.492      0.000      -3.649      -3.163\n",
      "Neighbourhood_SANTOS REIS                    -3.9037      0.170    -22.948      0.000      -4.237      -3.570\n",
      "Neighbourhood_SEGURANÇA DO LAR               -4.2795      0.359    -11.906      0.000      -4.984      -3.575\n",
      "Neighbourhood_SOLON BORGES                   -5.0059      0.223    -22.435      0.000      -5.443      -4.569\n",
      "Neighbourhood_SÃO BENEDITO                   -4.7308      0.122    -38.851      0.000      -4.970      -4.492\n",
      "Neighbourhood_SÃO CRISTÓVÃO                  -4.4695      0.109    -40.952      0.000      -4.683      -4.256\n",
      "Neighbourhood_SÃO JOSÉ                       -2.0646      0.093    -22.178      0.000      -2.247      -1.882\n",
      "Neighbourhood_SÃO PEDRO                      -3.8878      0.093    -42.008      0.000      -4.069      -3.706\n",
      "Neighbourhood_TABUAZEIRO                     -4.7045      0.086    -54.853      0.000      -4.873      -4.536\n",
      "Neighbourhood_UNIVERSITÁRIO                  -3.0409      0.417     -7.295      0.000      -3.858      -2.224\n",
      "Neighbourhood_VILA RUBIM                     -4.8092      0.163    -29.536      0.000      -5.128      -4.490\n",
      "Handcap_0                                     3.6789      0.107     34.320      0.000       3.469       3.889\n",
      "Handcap_1                                     3.5258      0.137     25.773      0.000       3.258       3.794\n",
      "Handcap_2                                     1.6201      0.473      3.426      0.001       0.693       2.547\n",
      "Handcap_3                                     0.2988      4.326      0.069      0.945      -8.181       8.778\n",
      "Handcap_4                                          0   1.37e+07          0      1.000   -2.68e+07    2.68e+07\n",
      "Age_bin_0s                                   -4.2098      0.079    -53.372      0.000      -4.364      -4.055\n",
      "Age_bin_10s                                  -3.4421      0.080    -42.962      0.000      -3.599      -3.285\n",
      "Age_bin_20s                                  -3.5765      0.080    -44.953      0.000      -3.732      -3.421\n",
      "Age_bin_30s                                  -3.8564      0.079    -48.768      0.000      -4.011      -3.701\n",
      "Age_bin_40s                                  -4.0483      0.080    -50.726      0.000      -4.205      -3.892\n",
      "Age_bin_50s                                  -4.2285      0.080    -52.844      0.000      -4.385      -4.072\n",
      "Age_bin_60s                                  -4.5835      0.084    -54.467      0.000      -4.748      -4.419\n",
      "Age_bin_70s                                  -4.6098      0.093    -49.427      0.000      -4.793      -4.427\n",
      "Age_bin_80s                                  -4.5425      0.106    -42.660      0.000      -4.751      -4.334\n",
      "Age_bin_90s                                  -4.7459      0.222    -21.374      0.000      -5.181      -4.311\n",
      "weather_Breezy and Mostly Cloudy             -2.0240      0.098    -20.651      0.000      -2.216      -1.832\n",
      "weather_Breezy and Overcast                  -2.2290      0.123    -18.172      0.000      -2.469      -1.989\n",
      "weather_Clear                                -2.2165      0.077    -28.704      0.000      -2.368      -2.065\n",
      "weather_Drizzle                              -2.1727      0.481     -4.518      0.000      -3.115      -1.230\n",
      "weather_Foggy                                -2.7322      0.185    -14.757      0.000      -3.095      -2.369\n",
      "weather_Humid                                -3.0232      0.087    -34.578      0.000      -3.195      -2.852\n",
      "weather_Humid and Mostly Cloudy              -2.5015      0.097    -25.781      0.000      -2.692      -2.311\n",
      "weather_Humid and Partly Cloudy              -3.2729      0.186    -17.625      0.000      -3.637      -2.909\n",
      "weather_Light Rain and Breezy                -1.5911      0.093    -17.119      0.000      -1.773      -1.409\n",
      "weather_Mostly Cloudy                        -2.3063      0.076    -30.172      0.000      -2.456      -2.156\n",
      "weather_Overcast                             -2.0705      0.081    -25.715      0.000      -2.228      -1.913\n",
      "weather_Partly Cloudy                        -2.2504      0.077    -29.101      0.000      -2.402      -2.099\n",
      "weather_Windy and Overcast                   -1.9980      0.110    -18.178      0.000      -2.213      -1.783\n",
      "temperature                                   0.3097      0.005     59.631      0.000       0.299       0.320\n",
      "=============================================================================================================\n"
     ]
    }
   ],
   "source": [
    "print(result_med.summary())"
   ]
  },
  {
   "cell_type": "code",
   "execution_count": 211,
   "metadata": {},
   "outputs": [],
   "source": [
    "train_ypred = result_med.predict(df_st_test.drop(columns=\"No_show\"))"
   ]
  },
  {
   "cell_type": "code",
   "execution_count": 212,
   "metadata": {},
   "outputs": [
    {
     "ename": "ValueError",
     "evalue": "Classification metrics can't handle a mix of continuous and binary targets",
     "output_type": "error",
     "traceback": [
      "\u001b[0;31m---------------------------------------------------------------------------\u001b[0m",
      "\u001b[0;31mValueError\u001b[0m                                Traceback (most recent call last)",
      "\u001b[0;32m<ipython-input-212-1240595f6d5e>\u001b[0m in \u001b[0;36m<module>\u001b[0;34m\u001b[0m\n\u001b[0;32m----> 1\u001b[0;31m \u001b[0maccuracy_score\u001b[0m\u001b[0;34m(\u001b[0m\u001b[0mtrain_ypred\u001b[0m\u001b[0;34m,\u001b[0m \u001b[0mdf_st_test\u001b[0m\u001b[0;34m[\u001b[0m\u001b[0;34m\"No_show\"\u001b[0m\u001b[0;34m]\u001b[0m\u001b[0;34m)\u001b[0m\u001b[0;34m\u001b[0m\u001b[0;34m\u001b[0m\u001b[0m\n\u001b[0m",
      "\u001b[0;32m/usr/local/lib/python3.7/site-packages/sklearn/metrics/classification.py\u001b[0m in \u001b[0;36maccuracy_score\u001b[0;34m(y_true, y_pred, normalize, sample_weight)\u001b[0m\n\u001b[1;32m    174\u001b[0m \u001b[0;34m\u001b[0m\u001b[0m\n\u001b[1;32m    175\u001b[0m     \u001b[0;31m# Compute accuracy for each possible representation\u001b[0m\u001b[0;34m\u001b[0m\u001b[0;34m\u001b[0m\u001b[0;34m\u001b[0m\u001b[0m\n\u001b[0;32m--> 176\u001b[0;31m     \u001b[0my_type\u001b[0m\u001b[0;34m,\u001b[0m \u001b[0my_true\u001b[0m\u001b[0;34m,\u001b[0m \u001b[0my_pred\u001b[0m \u001b[0;34m=\u001b[0m \u001b[0m_check_targets\u001b[0m\u001b[0;34m(\u001b[0m\u001b[0my_true\u001b[0m\u001b[0;34m,\u001b[0m \u001b[0my_pred\u001b[0m\u001b[0;34m)\u001b[0m\u001b[0;34m\u001b[0m\u001b[0;34m\u001b[0m\u001b[0m\n\u001b[0m\u001b[1;32m    177\u001b[0m     \u001b[0mcheck_consistent_length\u001b[0m\u001b[0;34m(\u001b[0m\u001b[0my_true\u001b[0m\u001b[0;34m,\u001b[0m \u001b[0my_pred\u001b[0m\u001b[0;34m,\u001b[0m \u001b[0msample_weight\u001b[0m\u001b[0;34m)\u001b[0m\u001b[0;34m\u001b[0m\u001b[0;34m\u001b[0m\u001b[0m\n\u001b[1;32m    178\u001b[0m     \u001b[0;32mif\u001b[0m \u001b[0my_type\u001b[0m\u001b[0;34m.\u001b[0m\u001b[0mstartswith\u001b[0m\u001b[0;34m(\u001b[0m\u001b[0;34m'multilabel'\u001b[0m\u001b[0;34m)\u001b[0m\u001b[0;34m:\u001b[0m\u001b[0;34m\u001b[0m\u001b[0;34m\u001b[0m\u001b[0m\n",
      "\u001b[0;32m/usr/local/lib/python3.7/site-packages/sklearn/metrics/classification.py\u001b[0m in \u001b[0;36m_check_targets\u001b[0;34m(y_true, y_pred)\u001b[0m\n\u001b[1;32m     79\u001b[0m     \u001b[0;32mif\u001b[0m \u001b[0mlen\u001b[0m\u001b[0;34m(\u001b[0m\u001b[0my_type\u001b[0m\u001b[0;34m)\u001b[0m \u001b[0;34m>\u001b[0m \u001b[0;36m1\u001b[0m\u001b[0;34m:\u001b[0m\u001b[0;34m\u001b[0m\u001b[0;34m\u001b[0m\u001b[0m\n\u001b[1;32m     80\u001b[0m         raise ValueError(\"Classification metrics can't handle a mix of {0} \"\n\u001b[0;32m---> 81\u001b[0;31m                          \"and {1} targets\".format(type_true, type_pred))\n\u001b[0m\u001b[1;32m     82\u001b[0m \u001b[0;34m\u001b[0m\u001b[0m\n\u001b[1;32m     83\u001b[0m     \u001b[0;31m# We can't have more than one value on y_type => The set is no more needed\u001b[0m\u001b[0;34m\u001b[0m\u001b[0;34m\u001b[0m\u001b[0;34m\u001b[0m\u001b[0m\n",
      "\u001b[0;31mValueError\u001b[0m: Classification metrics can't handle a mix of continuous and binary targets"
     ]
    }
   ],
   "source": [
    "accuracy_score(train_ypred, df_st_test[\"No_show\"])"
   ]
  },
  {
   "cell_type": "code",
   "execution_count": 154,
   "metadata": {},
   "outputs": [
    {
     "ename": "PatsyError",
     "evalue": "Error evaluating factor: NameError: name 'Age_bin' is not defined\n    No_show ~ Scholarship + Diabetes + Alcoholism +SMS_received + C(Age_bin) + date_diff + temperature + C(weather)\n                                                                  ^^^^^^^^^^",
     "output_type": "error",
     "traceback": [
      "\u001b[0;31m---------------------------------------------------------------------------\u001b[0m",
      "\u001b[0;31mNameError\u001b[0m                                 Traceback (most recent call last)",
      "\u001b[0;32m/usr/local/lib/python3.7/site-packages/patsy/compat.py\u001b[0m in \u001b[0;36mcall_and_wrap_exc\u001b[0;34m(msg, origin, f, *args, **kwargs)\u001b[0m\n\u001b[1;32m     35\u001b[0m     \u001b[0;32mtry\u001b[0m\u001b[0;34m:\u001b[0m\u001b[0;34m\u001b[0m\u001b[0;34m\u001b[0m\u001b[0m\n\u001b[0;32m---> 36\u001b[0;31m         \u001b[0;32mreturn\u001b[0m \u001b[0mf\u001b[0m\u001b[0;34m(\u001b[0m\u001b[0;34m*\u001b[0m\u001b[0margs\u001b[0m\u001b[0;34m,\u001b[0m \u001b[0;34m**\u001b[0m\u001b[0mkwargs\u001b[0m\u001b[0;34m)\u001b[0m\u001b[0;34m\u001b[0m\u001b[0;34m\u001b[0m\u001b[0m\n\u001b[0m\u001b[1;32m     37\u001b[0m     \u001b[0;32mexcept\u001b[0m \u001b[0mException\u001b[0m \u001b[0;32mas\u001b[0m \u001b[0me\u001b[0m\u001b[0;34m:\u001b[0m\u001b[0;34m\u001b[0m\u001b[0;34m\u001b[0m\u001b[0m\n",
      "\u001b[0;32m/usr/local/lib/python3.7/site-packages/patsy/eval.py\u001b[0m in \u001b[0;36meval\u001b[0;34m(self, expr, source_name, inner_namespace)\u001b[0m\n\u001b[1;32m    165\u001b[0m         return eval(code, {}, VarLookupDict([inner_namespace]\n\u001b[0;32m--> 166\u001b[0;31m                                             + self._namespaces))\n\u001b[0m\u001b[1;32m    167\u001b[0m \u001b[0;34m\u001b[0m\u001b[0m\n",
      "\u001b[0;32m<string>\u001b[0m in \u001b[0;36m<module>\u001b[0;34m\u001b[0m\n",
      "\u001b[0;31mNameError\u001b[0m: name 'Age_bin' is not defined",
      "\nThe above exception was the direct cause of the following exception:\n",
      "\u001b[0;31mPatsyError\u001b[0m                                Traceback (most recent call last)",
      "\u001b[0;32m<ipython-input-154-d83272dd30bf>\u001b[0m in \u001b[0;36m<module>\u001b[0;34m\u001b[0m\n\u001b[1;32m      1\u001b[0m model_med = sm.Logit.from_formula(\"No_show ~ Scholarship + Diabetes + Alcoholism +\\\n\u001b[0;32m----> 2\u001b[0;31m SMS_received + C(Age_bin) + date_diff + temperature + C(weather)\", data=df_st_train)\n\u001b[0m",
      "\u001b[0;32m/usr/local/lib/python3.7/site-packages/statsmodels/base/model.py\u001b[0m in \u001b[0;36mfrom_formula\u001b[0;34m(cls, formula, data, subset, drop_cols, *args, **kwargs)\u001b[0m\n\u001b[1;32m    153\u001b[0m \u001b[0;34m\u001b[0m\u001b[0m\n\u001b[1;32m    154\u001b[0m         tmp = handle_formula_data(data, None, formula, depth=eval_env,\n\u001b[0;32m--> 155\u001b[0;31m                                   missing=missing)\n\u001b[0m\u001b[1;32m    156\u001b[0m         \u001b[0;34m(\u001b[0m\u001b[0;34m(\u001b[0m\u001b[0mendog\u001b[0m\u001b[0;34m,\u001b[0m \u001b[0mexog\u001b[0m\u001b[0;34m)\u001b[0m\u001b[0;34m,\u001b[0m \u001b[0mmissing_idx\u001b[0m\u001b[0;34m,\u001b[0m \u001b[0mdesign_info\u001b[0m\u001b[0;34m)\u001b[0m \u001b[0;34m=\u001b[0m \u001b[0mtmp\u001b[0m\u001b[0;34m\u001b[0m\u001b[0;34m\u001b[0m\u001b[0m\n\u001b[1;32m    157\u001b[0m \u001b[0;34m\u001b[0m\u001b[0m\n",
      "\u001b[0;32m/usr/local/lib/python3.7/site-packages/statsmodels/formula/formulatools.py\u001b[0m in \u001b[0;36mhandle_formula_data\u001b[0;34m(Y, X, formula, depth, missing)\u001b[0m\n\u001b[1;32m     63\u001b[0m         \u001b[0;32mif\u001b[0m \u001b[0mdata_util\u001b[0m\u001b[0;34m.\u001b[0m\u001b[0m_is_using_pandas\u001b[0m\u001b[0;34m(\u001b[0m\u001b[0mY\u001b[0m\u001b[0;34m,\u001b[0m \u001b[0;32mNone\u001b[0m\u001b[0;34m)\u001b[0m\u001b[0;34m:\u001b[0m\u001b[0;34m\u001b[0m\u001b[0;34m\u001b[0m\u001b[0m\n\u001b[1;32m     64\u001b[0m             result = dmatrices(formula, Y, depth, return_type='dataframe',\n\u001b[0;32m---> 65\u001b[0;31m                                NA_action=na_action)\n\u001b[0m\u001b[1;32m     66\u001b[0m         \u001b[0;32melse\u001b[0m\u001b[0;34m:\u001b[0m\u001b[0;34m\u001b[0m\u001b[0;34m\u001b[0m\u001b[0m\n\u001b[1;32m     67\u001b[0m             result = dmatrices(formula, Y, depth, return_type='dataframe',\n",
      "\u001b[0;32m/usr/local/lib/python3.7/site-packages/patsy/highlevel.py\u001b[0m in \u001b[0;36mdmatrices\u001b[0;34m(formula_like, data, eval_env, NA_action, return_type)\u001b[0m\n\u001b[1;32m    308\u001b[0m     \u001b[0meval_env\u001b[0m \u001b[0;34m=\u001b[0m \u001b[0mEvalEnvironment\u001b[0m\u001b[0;34m.\u001b[0m\u001b[0mcapture\u001b[0m\u001b[0;34m(\u001b[0m\u001b[0meval_env\u001b[0m\u001b[0;34m,\u001b[0m \u001b[0mreference\u001b[0m\u001b[0;34m=\u001b[0m\u001b[0;36m1\u001b[0m\u001b[0;34m)\u001b[0m\u001b[0;34m\u001b[0m\u001b[0;34m\u001b[0m\u001b[0m\n\u001b[1;32m    309\u001b[0m     (lhs, rhs) = _do_highlevel_design(formula_like, data, eval_env,\n\u001b[0;32m--> 310\u001b[0;31m                                       NA_action, return_type)\n\u001b[0m\u001b[1;32m    311\u001b[0m     \u001b[0;32mif\u001b[0m \u001b[0mlhs\u001b[0m\u001b[0;34m.\u001b[0m\u001b[0mshape\u001b[0m\u001b[0;34m[\u001b[0m\u001b[0;36m1\u001b[0m\u001b[0;34m]\u001b[0m \u001b[0;34m==\u001b[0m \u001b[0;36m0\u001b[0m\u001b[0;34m:\u001b[0m\u001b[0;34m\u001b[0m\u001b[0;34m\u001b[0m\u001b[0m\n\u001b[1;32m    312\u001b[0m         \u001b[0;32mraise\u001b[0m \u001b[0mPatsyError\u001b[0m\u001b[0;34m(\u001b[0m\u001b[0;34m\"model is missing required outcome variables\"\u001b[0m\u001b[0;34m)\u001b[0m\u001b[0;34m\u001b[0m\u001b[0;34m\u001b[0m\u001b[0m\n",
      "\u001b[0;32m/usr/local/lib/python3.7/site-packages/patsy/highlevel.py\u001b[0m in \u001b[0;36m_do_highlevel_design\u001b[0;34m(formula_like, data, eval_env, NA_action, return_type)\u001b[0m\n\u001b[1;32m    163\u001b[0m         \u001b[0;32mreturn\u001b[0m \u001b[0miter\u001b[0m\u001b[0;34m(\u001b[0m\u001b[0;34m[\u001b[0m\u001b[0mdata\u001b[0m\u001b[0;34m]\u001b[0m\u001b[0;34m)\u001b[0m\u001b[0;34m\u001b[0m\u001b[0;34m\u001b[0m\u001b[0m\n\u001b[1;32m    164\u001b[0m     design_infos = _try_incr_builders(formula_like, data_iter_maker, eval_env,\n\u001b[0;32m--> 165\u001b[0;31m                                       NA_action)\n\u001b[0m\u001b[1;32m    166\u001b[0m     \u001b[0;32mif\u001b[0m \u001b[0mdesign_infos\u001b[0m \u001b[0;32mis\u001b[0m \u001b[0;32mnot\u001b[0m \u001b[0;32mNone\u001b[0m\u001b[0;34m:\u001b[0m\u001b[0;34m\u001b[0m\u001b[0;34m\u001b[0m\u001b[0m\n\u001b[1;32m    167\u001b[0m         return build_design_matrices(design_infos, data,\n",
      "\u001b[0;32m/usr/local/lib/python3.7/site-packages/patsy/highlevel.py\u001b[0m in \u001b[0;36m_try_incr_builders\u001b[0;34m(formula_like, data_iter_maker, eval_env, NA_action)\u001b[0m\n\u001b[1;32m     68\u001b[0m                                       \u001b[0mdata_iter_maker\u001b[0m\u001b[0;34m,\u001b[0m\u001b[0;34m\u001b[0m\u001b[0;34m\u001b[0m\u001b[0m\n\u001b[1;32m     69\u001b[0m                                       \u001b[0meval_env\u001b[0m\u001b[0;34m,\u001b[0m\u001b[0;34m\u001b[0m\u001b[0;34m\u001b[0m\u001b[0m\n\u001b[0;32m---> 70\u001b[0;31m                                       NA_action)\n\u001b[0m\u001b[1;32m     71\u001b[0m     \u001b[0;32melse\u001b[0m\u001b[0;34m:\u001b[0m\u001b[0;34m\u001b[0m\u001b[0;34m\u001b[0m\u001b[0m\n\u001b[1;32m     72\u001b[0m         \u001b[0;32mreturn\u001b[0m \u001b[0;32mNone\u001b[0m\u001b[0;34m\u001b[0m\u001b[0;34m\u001b[0m\u001b[0m\n",
      "\u001b[0;32m/usr/local/lib/python3.7/site-packages/patsy/build.py\u001b[0m in \u001b[0;36mdesign_matrix_builders\u001b[0;34m(termlists, data_iter_maker, eval_env, NA_action)\u001b[0m\n\u001b[1;32m    694\u001b[0m                                                    \u001b[0mfactor_states\u001b[0m\u001b[0;34m,\u001b[0m\u001b[0;34m\u001b[0m\u001b[0;34m\u001b[0m\u001b[0m\n\u001b[1;32m    695\u001b[0m                                                    \u001b[0mdata_iter_maker\u001b[0m\u001b[0;34m,\u001b[0m\u001b[0;34m\u001b[0m\u001b[0;34m\u001b[0m\u001b[0m\n\u001b[0;32m--> 696\u001b[0;31m                                                    NA_action)\n\u001b[0m\u001b[1;32m    697\u001b[0m     \u001b[0;31m# Now we need the factor infos, which encapsulate the knowledge of\u001b[0m\u001b[0;34m\u001b[0m\u001b[0;34m\u001b[0m\u001b[0;34m\u001b[0m\u001b[0m\n\u001b[1;32m    698\u001b[0m     \u001b[0;31m# how to turn any given factor into a chunk of data:\u001b[0m\u001b[0;34m\u001b[0m\u001b[0;34m\u001b[0m\u001b[0;34m\u001b[0m\u001b[0m\n",
      "\u001b[0;32m/usr/local/lib/python3.7/site-packages/patsy/build.py\u001b[0m in \u001b[0;36m_examine_factor_types\u001b[0;34m(factors, factor_states, data_iter_maker, NA_action)\u001b[0m\n\u001b[1;32m    441\u001b[0m     \u001b[0;32mfor\u001b[0m \u001b[0mdata\u001b[0m \u001b[0;32min\u001b[0m \u001b[0mdata_iter_maker\u001b[0m\u001b[0;34m(\u001b[0m\u001b[0;34m)\u001b[0m\u001b[0;34m:\u001b[0m\u001b[0;34m\u001b[0m\u001b[0;34m\u001b[0m\u001b[0m\n\u001b[1;32m    442\u001b[0m         \u001b[0;32mfor\u001b[0m \u001b[0mfactor\u001b[0m \u001b[0;32min\u001b[0m \u001b[0mlist\u001b[0m\u001b[0;34m(\u001b[0m\u001b[0mexamine_needed\u001b[0m\u001b[0;34m)\u001b[0m\u001b[0;34m:\u001b[0m\u001b[0;34m\u001b[0m\u001b[0;34m\u001b[0m\u001b[0m\n\u001b[0;32m--> 443\u001b[0;31m             \u001b[0mvalue\u001b[0m \u001b[0;34m=\u001b[0m \u001b[0mfactor\u001b[0m\u001b[0;34m.\u001b[0m\u001b[0meval\u001b[0m\u001b[0;34m(\u001b[0m\u001b[0mfactor_states\u001b[0m\u001b[0;34m[\u001b[0m\u001b[0mfactor\u001b[0m\u001b[0;34m]\u001b[0m\u001b[0;34m,\u001b[0m \u001b[0mdata\u001b[0m\u001b[0;34m)\u001b[0m\u001b[0;34m\u001b[0m\u001b[0;34m\u001b[0m\u001b[0m\n\u001b[0m\u001b[1;32m    444\u001b[0m             \u001b[0;32mif\u001b[0m \u001b[0mfactor\u001b[0m \u001b[0;32min\u001b[0m \u001b[0mcat_sniffers\u001b[0m \u001b[0;32mor\u001b[0m \u001b[0mguess_categorical\u001b[0m\u001b[0;34m(\u001b[0m\u001b[0mvalue\u001b[0m\u001b[0;34m)\u001b[0m\u001b[0;34m:\u001b[0m\u001b[0;34m\u001b[0m\u001b[0;34m\u001b[0m\u001b[0m\n\u001b[1;32m    445\u001b[0m                 \u001b[0;32mif\u001b[0m \u001b[0mfactor\u001b[0m \u001b[0;32mnot\u001b[0m \u001b[0;32min\u001b[0m \u001b[0mcat_sniffers\u001b[0m\u001b[0;34m:\u001b[0m\u001b[0;34m\u001b[0m\u001b[0;34m\u001b[0m\u001b[0m\n",
      "\u001b[0;32m/usr/local/lib/python3.7/site-packages/patsy/eval.py\u001b[0m in \u001b[0;36meval\u001b[0;34m(self, memorize_state, data)\u001b[0m\n\u001b[1;32m    564\u001b[0m         return self._eval(memorize_state[\"eval_code\"],\n\u001b[1;32m    565\u001b[0m                           \u001b[0mmemorize_state\u001b[0m\u001b[0;34m,\u001b[0m\u001b[0;34m\u001b[0m\u001b[0;34m\u001b[0m\u001b[0m\n\u001b[0;32m--> 566\u001b[0;31m                           data)\n\u001b[0m\u001b[1;32m    567\u001b[0m \u001b[0;34m\u001b[0m\u001b[0m\n\u001b[1;32m    568\u001b[0m     \u001b[0m__getstate__\u001b[0m \u001b[0;34m=\u001b[0m \u001b[0mno_pickling\u001b[0m\u001b[0;34m\u001b[0m\u001b[0;34m\u001b[0m\u001b[0m\n",
      "\u001b[0;32m/usr/local/lib/python3.7/site-packages/patsy/eval.py\u001b[0m in \u001b[0;36m_eval\u001b[0;34m(self, code, memorize_state, data)\u001b[0m\n\u001b[1;32m    549\u001b[0m                                  \u001b[0mmemorize_state\u001b[0m\u001b[0;34m[\u001b[0m\u001b[0;34m\"eval_env\"\u001b[0m\u001b[0;34m]\u001b[0m\u001b[0;34m.\u001b[0m\u001b[0meval\u001b[0m\u001b[0;34m,\u001b[0m\u001b[0;34m\u001b[0m\u001b[0;34m\u001b[0m\u001b[0m\n\u001b[1;32m    550\u001b[0m                                  \u001b[0mcode\u001b[0m\u001b[0;34m,\u001b[0m\u001b[0;34m\u001b[0m\u001b[0;34m\u001b[0m\u001b[0m\n\u001b[0;32m--> 551\u001b[0;31m                                  inner_namespace=inner_namespace)\n\u001b[0m\u001b[1;32m    552\u001b[0m \u001b[0;34m\u001b[0m\u001b[0m\n\u001b[1;32m    553\u001b[0m     \u001b[0;32mdef\u001b[0m \u001b[0mmemorize_chunk\u001b[0m\u001b[0;34m(\u001b[0m\u001b[0mself\u001b[0m\u001b[0;34m,\u001b[0m \u001b[0mstate\u001b[0m\u001b[0;34m,\u001b[0m \u001b[0mwhich_pass\u001b[0m\u001b[0;34m,\u001b[0m \u001b[0mdata\u001b[0m\u001b[0;34m)\u001b[0m\u001b[0;34m:\u001b[0m\u001b[0;34m\u001b[0m\u001b[0;34m\u001b[0m\u001b[0m\n",
      "\u001b[0;32m/usr/local/lib/python3.7/site-packages/patsy/compat.py\u001b[0m in \u001b[0;36mcall_and_wrap_exc\u001b[0;34m(msg, origin, f, *args, **kwargs)\u001b[0m\n\u001b[1;32m     41\u001b[0m                                  origin)\n\u001b[1;32m     42\u001b[0m             \u001b[0;31m# Use 'exec' to hide this syntax from the Python 2 parser:\u001b[0m\u001b[0;34m\u001b[0m\u001b[0;34m\u001b[0m\u001b[0;34m\u001b[0m\u001b[0m\n\u001b[0;32m---> 43\u001b[0;31m             \u001b[0mexec\u001b[0m\u001b[0;34m(\u001b[0m\u001b[0;34m\"raise new_exc from e\"\u001b[0m\u001b[0;34m)\u001b[0m\u001b[0;34m\u001b[0m\u001b[0;34m\u001b[0m\u001b[0m\n\u001b[0m\u001b[1;32m     44\u001b[0m         \u001b[0;32melse\u001b[0m\u001b[0;34m:\u001b[0m\u001b[0;34m\u001b[0m\u001b[0;34m\u001b[0m\u001b[0m\n\u001b[1;32m     45\u001b[0m             \u001b[0;31m# In python 2, we just let the original exception escape -- better\u001b[0m\u001b[0;34m\u001b[0m\u001b[0;34m\u001b[0m\u001b[0;34m\u001b[0m\u001b[0m\n",
      "\u001b[0;32m/usr/local/lib/python3.7/site-packages/patsy/compat.py\u001b[0m in \u001b[0;36m<module>\u001b[0;34m\u001b[0m\n",
      "\u001b[0;31mPatsyError\u001b[0m: Error evaluating factor: NameError: name 'Age_bin' is not defined\n    No_show ~ Scholarship + Diabetes + Alcoholism +SMS_received + C(Age_bin) + date_diff + temperature + C(weather)\n                                                                  ^^^^^^^^^^"
     ]
    }
   ],
   "source": [
    "model_med = sm.Logit.from_formula(\"No_show ~ Scholarship + Diabetes + Alcoholism +\\\n",
    "SMS_received + C(Age_bin) + date_diff + temperature + C(weather)\", data=df_st_train)"
   ]
  },
  {
   "cell_type": "code",
   "execution_count": 153,
   "metadata": {},
   "outputs": [
    {
     "ename": "AttributeError",
     "evalue": "'Logit' object has no attribute 'filt'",
     "output_type": "error",
     "traceback": [
      "\u001b[0;31m---------------------------------------------------------------------------\u001b[0m",
      "\u001b[0;31mAttributeError\u001b[0m                            Traceback (most recent call last)",
      "\u001b[0;32m<ipython-input-153-14a6e5baa2cb>\u001b[0m in \u001b[0;36m<module>\u001b[0;34m\u001b[0m\n\u001b[0;32m----> 1\u001b[0;31m \u001b[0mresult_med\u001b[0m \u001b[0;34m=\u001b[0m \u001b[0mmodel_med\u001b[0m\u001b[0;34m.\u001b[0m\u001b[0mfilt\u001b[0m\u001b[0;34m(\u001b[0m\u001b[0;34m)\u001b[0m\u001b[0;34m\u001b[0m\u001b[0;34m\u001b[0m\u001b[0m\n\u001b[0m",
      "\u001b[0;31mAttributeError\u001b[0m: 'Logit' object has no attribute 'filt'"
     ]
    }
   ],
   "source": [
    "result_med = model_med.fit()"
   ]
  },
  {
   "cell_type": "code",
   "execution_count": 151,
   "metadata": {
    "scrolled": false
   },
   "outputs": [
    {
     "name": "stdout",
     "output_type": "stream",
     "text": [
      "                           Logit Regression Results                           \n",
      "==============================================================================\n",
      "Dep. Variable:                No_show   No. Observations:                77364\n",
      "Model:                          Logit   Df Residuals:                    77336\n",
      "Method:                           MLE   Df Model:                           27\n",
      "Date:                Sun, 30 Dec 2018   Pseudo R-squ.:                 0.04344\n",
      "Time:                        18:50:00   Log-Likelihood:                -37151.\n",
      "converged:                       True   LL-Null:                       -38838.\n",
      "                                        LLR p-value:                     0.000\n",
      "=========================================================================================================\n",
      "                                            coef    std err          z      P>|z|      [0.025      0.975]\n",
      "---------------------------------------------------------------------------------------------------------\n",
      "Intercept                                -1.7117      0.088    -19.483      0.000      -1.884      -1.540\n",
      "C(Age_bin)[T.10s]                         0.3589      0.034     10.613      0.000       0.293       0.425\n",
      "C(Age_bin)[T.20s]                         0.2672      0.034      7.974      0.000       0.201       0.333\n",
      "C(Age_bin)[T.30s]                         0.1048      0.033      3.130      0.002       0.039       0.170\n",
      "C(Age_bin)[T.40s]                        -0.0378      0.035     -1.086      0.277      -0.106       0.030\n",
      "C(Age_bin)[T.50s]                        -0.2308      0.035     -6.546      0.000      -0.300      -0.162\n",
      "C(Age_bin)[T.60s]                        -0.4123      0.040    -10.257      0.000      -0.491      -0.334\n",
      "C(Age_bin)[T.70s]                        -0.4265      0.052     -8.266      0.000      -0.528      -0.325\n",
      "C(Age_bin)[T.80s]                        -0.3911      0.068     -5.745      0.000      -0.525      -0.258\n",
      "C(Age_bin)[T.90s]                        -0.0657      0.152     -0.433      0.665      -0.363       0.232\n",
      "C(weather)[T.Breezy and Overcast]        -0.0819      0.099     -0.825      0.409      -0.277       0.113\n",
      "C(weather)[T.Clear]                       0.1091      0.057      1.906      0.057      -0.003       0.221\n",
      "C(weather)[T.Drizzle]                     0.1692      0.401      0.422      0.673      -0.618       0.956\n",
      "C(weather)[T.Foggy]                       0.2876      0.151      1.906      0.057      -0.008       0.583\n",
      "C(weather)[T.Humid]                      -0.0680      0.064     -1.068      0.285      -0.193       0.057\n",
      "C(weather)[T.Humid and Mostly Cloudy]     0.2446      0.074      3.320      0.001       0.100       0.389\n",
      "C(weather)[T.Humid and Partly Cloudy]     0.2667      0.141      1.889      0.059      -0.010       0.543\n",
      "C(weather)[T.Light Rain and Breezy]       0.3267      0.074      4.420      0.000       0.182       0.472\n",
      "C(weather)[T.Mostly Cloudy]               0.1236      0.056      2.201      0.028       0.014       0.234\n",
      "C(weather)[T.Overcast]                    0.1341      0.060      2.217      0.027       0.016       0.253\n",
      "C(weather)[T.Partly Cloudy]               0.1445      0.057      2.522      0.012       0.032       0.257\n",
      "C(weather)[T.Windy and Overcast]          0.0585      0.086      0.683      0.494      -0.109       0.226\n",
      "Scholarship                               0.1906      0.030      6.457      0.000       0.133       0.248\n",
      "Diabetes                                  0.1607      0.040      4.064      0.000       0.083       0.238\n",
      "Alcoholism                                0.2177      0.054      4.036      0.000       0.112       0.323\n",
      "SMS_received                              0.3640      0.021     17.261      0.000       0.323       0.405\n",
      "date_diff                                 0.0228      0.001     38.836      0.000       0.022       0.024\n",
      "temperature                              -0.0094      0.003     -3.219      0.001      -0.015      -0.004\n",
      "=========================================================================================================\n"
     ]
    }
   ],
   "source": [
    "print(result_med.summary())"
   ]
  },
  {
   "cell_type": "code",
   "execution_count": 107,
   "metadata": {},
   "outputs": [],
   "source": [
    "train_ypred = result_med.predict(df_st_test)"
   ]
  },
  {
   "cell_type": "code",
   "execution_count": 108,
   "metadata": {},
   "outputs": [],
   "source": [
    "train_ypred_r = np.where(train_ypred > 0.2, 1, 0)"
   ]
  },
  {
   "cell_type": "code",
   "execution_count": 110,
   "metadata": {},
   "outputs": [
    {
     "data": {
      "text/plain": [
       "array([[ 3995,  2756],\n",
       "       [ 8691, 17714]])"
      ]
     },
     "execution_count": 110,
     "metadata": {},
     "output_type": "execute_result"
    }
   ],
   "source": [
    "confusion_matrix(df_st_test[\"No_show\"], train_ypred_r, labels=[1, 0])"
   ]
  },
  {
   "cell_type": "code",
   "execution_count": 112,
   "metadata": {},
   "outputs": [
    {
     "name": "stdout",
     "output_type": "stream",
     "text": [
      "              precision    recall  f1-score   support\n",
      "\n",
      "           0       0.87      0.67      0.76     26405\n",
      "           1       0.31      0.59      0.41      6751\n",
      "\n",
      "   micro avg       0.65      0.65      0.65     33156\n",
      "   macro avg       0.59      0.63      0.58     33156\n",
      "weighted avg       0.75      0.65      0.69     33156\n",
      "\n"
     ]
    }
   ],
   "source": [
    "print(classification_report(df_st_test[\"No_show\"], train_ypred_r))"
   ]
  },
  {
   "cell_type": "code",
   "execution_count": 114,
   "metadata": {},
   "outputs": [
    {
     "data": {
      "text/plain": [
       "0.6547532874894438"
      ]
     },
     "execution_count": 114,
     "metadata": {},
     "output_type": "execute_result"
    }
   ],
   "source": [
    "accuracy_score(df_st_test[\"No_show\"], train_ypred_r)"
   ]
  },
  {
   "cell_type": "code",
   "execution_count": null,
   "metadata": {},
   "outputs": [],
   "source": [
    "test_ypred = result_med.predict(X_test)"
   ]
  },
  {
   "cell_type": "code",
   "execution_count": null,
   "metadata": {},
   "outputs": [],
   "source": [
    "test_ypred_r = np.where(test_ypred > 0.2 ,1 ,0)"
   ]
  },
  {
   "cell_type": "code",
   "execution_count": null,
   "metadata": {},
   "outputs": [],
   "source": [
    "a = confusion_matrix(y_test, test_ypred_r, labels=[1,0])\n",
    "a"
   ]
  },
  {
   "cell_type": "code",
   "execution_count": null,
   "metadata": {},
   "outputs": [],
   "source": [
    "print(classification_report(y_test, test_ypred_r))"
   ]
  },
  {
   "cell_type": "code",
   "execution_count": null,
   "metadata": {},
   "outputs": [],
   "source": [
    "accuracy_score(y_test, test_ypred_r)"
   ]
  },
  {
   "cell_type": "code",
   "execution_count": null,
   "metadata": {},
   "outputs": [],
   "source": [
    "result_med.pred_table()"
   ]
  },
  {
   "cell_type": "code",
   "execution_count": null,
   "metadata": {},
   "outputs": [],
   "source": [
    "def test_score():\n",
    "    df1 = pd.DataFrame(columns=[\"thresholds\", \"precision\", \"recall\", \"accuracy\"])\n",
    "    for i in np.linspace(0.1,0.9,9):\n",
    "        test_ypred_r = np.where(test_ypred > i ,1 ,0)\n",
    "        a = confusion_matrix(y_test, test_ypred_r, labels=[1,0])\n",
    "        accur = accuracy_score(y_test, test_ypred_r)\n",
    "        df1.loc[len(df1)] = [i, \n",
    "                  a[0][0] / (a[0][0] + a[1][0]),\n",
    "                  a[0][0] / (a[0][0] + a[0][1]),\n",
    "                  accur]\n",
    "    return df1"
   ]
  },
  {
   "cell_type": "code",
   "execution_count": null,
   "metadata": {},
   "outputs": [],
   "source": [
    "test_score()"
   ]
  },
  {
   "cell_type": "markdown",
   "metadata": {},
   "source": [
    "## 비대칭 데이터 문제 해결 방법"
   ]
  },
  {
   "cell_type": "markdown",
   "metadata": {},
   "source": [
    "OLS 포뮬러가 다른 패키지와 호환이 잘 안된다.\n",
    "\n",
    "OLS 포뮬러로 처리해주는 것보다.\n",
    "\n",
    "그냥 전처리 일일이 해주고 하는 것이 낫다."
   ]
  },
  {
   "cell_type": "code",
   "execution_count": null,
   "metadata": {},
   "outputs": [],
   "source": [
    "sns.distplot(df.PatientId)"
   ]
  },
  {
   "cell_type": "code",
   "execution_count": null,
   "metadata": {},
   "outputs": [],
   "source": [
    "df[df.Age >= 90].groupby(\"No_show\").size()"
   ]
  },
  {
   "cell_type": "code",
   "execution_count": null,
   "metadata": {},
   "outputs": [],
   "source": [
    "X_train.tail()"
   ]
  },
  {
   "cell_type": "code",
   "execution_count": null,
   "metadata": {},
   "outputs": [],
   "source": [
    "pd.get_dummies(df[[\"Gender\"]])"
   ]
  },
  {
   "cell_type": "code",
   "execution_count": null,
   "metadata": {},
   "outputs": [],
   "source": [
    "y_train.tail()"
   ]
  },
  {
   "cell_type": "code",
   "execution_count": null,
   "metadata": {},
   "outputs": [],
   "source": []
  }
 ],
 "metadata": {
  "kernelspec": {
   "display_name": "Python 3",
   "language": "python",
   "name": "python3"
  },
  "language_info": {
   "codemirror_mode": {
    "name": "ipython",
    "version": 3
   },
   "file_extension": ".py",
   "mimetype": "text/x-python",
   "name": "python",
   "nbconvert_exporter": "python",
   "pygments_lexer": "ipython3",
   "version": "3.7.1"
  }
 },
 "nbformat": 4,
 "nbformat_minor": 2
}
